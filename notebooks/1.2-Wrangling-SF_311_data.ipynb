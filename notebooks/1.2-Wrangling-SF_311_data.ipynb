{
 "cells": [
  {
   "cell_type": "markdown",
   "metadata": {},
   "source": [
    "# 1.2 Wrangling - San Francisco 311 Data<a id='Wrangling_-_San_Francisco_311_Data'></a>"
   ]
  },
  {
   "cell_type": "markdown",
   "metadata": {},
   "source": [
    "## 1 Contents<a id='1_Contents'></a>\n",
    "* [Wrangling - San Francisco 311 Data](#Wrangling_-_San_Francisco_311_Data)\n",
    "  * [1 Contents](#1_Contents)\n",
    "  * [2 Introduction](#2_Introduction)\n",
    "  * [3 Imports](#3_Imports)\n",
    "  * [4 Load One Month](#4_Load_One_Month)\n",
    "    * [4.1 Explore The Data](#4.1_Explore_The_Data)\n",
    "      * [4.1.1 NULL Neighborhood values](#4.1.1_NULL_Neighborhood_values)\n",
    "      * [4.1.2 Source](#4.1.2_Source)\n",
    "      * [4.1.3 Responsible Agency](#4.1.3_Responsible_Agency)\n",
    "      * [4.1.4 Category](#4.1.4_Category)\n",
    "      * [4.1.5 Request Type](#4.1.5_Request_Type)\n",
    "      * [4.1.6 Request Details](#4.1.6_Request_Details)\n",
    "    * [4.2 Condense Data](#4.2_Condense_Data)\n",
    "      * [4.2.1 Condense Data Function](#4.2.1_Condense_Data_Function)\n",
    "  * [5 Load All Files](#5_Load_All_Files)\n",
    "  * [6 Save data](#6_Save_data)"
   ]
  },
  {
   "cell_type": "markdown",
   "metadata": {},
   "source": [
    "## 2 Introduction<a id='2_Introduction'></a>"
   ]
  },
  {
   "cell_type": "markdown",
   "metadata": {},
   "source": [
    "Data was downloaded from <a href=\"https://data.sfgov.org/City-Infrastructure/311-Cases/vw6y-z8j6\">San Francisco's Open Data portal regarding 311 Data</a>. Since the files were too large, they were downloaded by month into separate CSVs files, spanning from January 2018 up to and including September 2020. This dataset comprises of SF311 requests; SF311 is the primary customer service center for the City of San Francisco. They receive requests via the phone, web, mobile, and Twitter.\n",
    "\n",
    "We plan to explore this data in conjunction with San Francisco's Police Incident Report data as well as Redfin's San Francisco neighborhood house sales data, and we will do this by comparing across San Francisco neighborhoods.\n",
    "\n",
    "In this notebook, we will:\n",
    "  * first load a single month of 311 data\n",
    "  * explore a single month to determine how to deal with NULL values, which columns to keep, and how to aggregate the data\n",
    "  * load every month, condense and aggregate it, and append it to the total data\n",
    "  \n",
    "At the end of this notebook, we will generate the following files:\n",
    "  * 311_Cases_aggregated.csv : data aggregated by month, from January 2018 up to and including September 2020\n",
    "  * 311_Neighborhoods.csv : a list of all the Neighborhoods in the data (note that this list can also be obtained by SF Find Neighborhoods https://data.sfgov.org/Geographic-Locations-and-Boundaries/SF-Find-Neighborhoods/pty2-tcw4 with geospatial data)"
   ]
  },
  {
   "cell_type": "markdown",
   "metadata": {},
   "source": [
    "## 3 Imports<a id='3_Imports'></a>"
   ]
  },
  {
   "cell_type": "code",
   "execution_count": 1,
   "metadata": {},
   "outputs": [],
   "source": [
    "import pandas as pd\n",
    "import numpy as np\n",
    "import os\n",
    "import matplotlib.pyplot as plt\n",
    "import seaborn as sns\n",
    "import re"
   ]
  },
  {
   "cell_type": "markdown",
   "metadata": {},
   "source": [
    "## 4 Load One Month<a id='4_Load_One_Month'></a>"
   ]
  },
  {
   "cell_type": "markdown",
   "metadata": {},
   "source": [
    "The data is located in CSV files by month/year. As a result, we must load each month/year separately. Let's load a single month to do some quick exploration to see if we can reduce the number of rows, and what we should keep for our collation."
   ]
  },
  {
   "cell_type": "code",
   "execution_count": 2,
   "metadata": {},
   "outputs": [],
   "source": [
    "Jan2018_data = pd.read_csv('../raw_data/311_Cases_201801.csv')"
   ]
  },
  {
   "cell_type": "markdown",
   "metadata": {},
   "source": [
    "### 4.1 Explore The Data<a id='4.1_Explore_The_Data'></a>"
   ]
  },
  {
   "cell_type": "code",
   "execution_count": 3,
   "metadata": {},
   "outputs": [
    {
     "data": {
      "text/html": [
       "<div>\n",
       "<style scoped>\n",
       "    .dataframe tbody tr th:only-of-type {\n",
       "        vertical-align: middle;\n",
       "    }\n",
       "\n",
       "    .dataframe tbody tr th {\n",
       "        vertical-align: top;\n",
       "    }\n",
       "\n",
       "    .dataframe thead th {\n",
       "        text-align: right;\n",
       "    }\n",
       "</style>\n",
       "<table border=\"1\" class=\"dataframe\">\n",
       "  <thead>\n",
       "    <tr style=\"text-align: right;\">\n",
       "      <th></th>\n",
       "      <th>CaseID</th>\n",
       "      <th>Opened</th>\n",
       "      <th>Closed</th>\n",
       "      <th>Updated</th>\n",
       "      <th>Status</th>\n",
       "      <th>Status Notes</th>\n",
       "      <th>Responsible Agency</th>\n",
       "      <th>Category</th>\n",
       "      <th>Request Type</th>\n",
       "      <th>Request Details</th>\n",
       "      <th>Address</th>\n",
       "      <th>Street</th>\n",
       "      <th>Supervisor District</th>\n",
       "      <th>Neighborhood</th>\n",
       "      <th>Police District</th>\n",
       "      <th>Latitude</th>\n",
       "      <th>Longitude</th>\n",
       "      <th>Point</th>\n",
       "      <th>Source</th>\n",
       "      <th>Media URL</th>\n",
       "    </tr>\n",
       "  </thead>\n",
       "  <tbody>\n",
       "    <tr>\n",
       "      <th>0</th>\n",
       "      <td>8448866</td>\n",
       "      <td>01/01/2018 12:25:00 AM</td>\n",
       "      <td>01/05/2018 01:07:00 PM</td>\n",
       "      <td>01/05/2018 01:07:00 PM</td>\n",
       "      <td>Closed</td>\n",
       "      <td>Case is a Duplicate</td>\n",
       "      <td>DPW Ops Queue</td>\n",
       "      <td>Street and Sidewalk Cleaning</td>\n",
       "      <td>Bulky Items</td>\n",
       "      <td>Boxed or Bagged Items</td>\n",
       "      <td>2833 25TH ST, SAN FRANCISCO, CA, 94110</td>\n",
       "      <td>25TH ST</td>\n",
       "      <td>9.0</td>\n",
       "      <td>Mission</td>\n",
       "      <td>MISSION</td>\n",
       "      <td>37.751209</td>\n",
       "      <td>-122.406845</td>\n",
       "      <td>(37.75120926, -122.40684509)</td>\n",
       "      <td>Phone</td>\n",
       "      <td>NaN</td>\n",
       "    </tr>\n",
       "    <tr>\n",
       "      <th>1</th>\n",
       "      <td>8448872</td>\n",
       "      <td>01/01/2018 12:28:00 AM</td>\n",
       "      <td>01/30/2018 10:21:55 PM</td>\n",
       "      <td>01/30/2018 10:21:55 PM</td>\n",
       "      <td>Closed</td>\n",
       "      <td>Case is a Duplicate - Request is a duplicate a...</td>\n",
       "      <td>DPW Ops Queue</td>\n",
       "      <td>Graffiti</td>\n",
       "      <td>Graffiti on Bike_rack</td>\n",
       "      <td>Bike_rack - Not_Offensive</td>\n",
       "      <td>909 PAGE ST, SAN FRANCISCO, CA, 94117</td>\n",
       "      <td>PAGE ST</td>\n",
       "      <td>5.0</td>\n",
       "      <td>Lower Haight</td>\n",
       "      <td>NORTHERN</td>\n",
       "      <td>37.772300</td>\n",
       "      <td>-122.435745</td>\n",
       "      <td>(37.7723, -122.435745)</td>\n",
       "      <td>Mobile/Open311</td>\n",
       "      <td>http://mobile311.sfgov.org/reports/8448872/photos</td>\n",
       "    </tr>\n",
       "    <tr>\n",
       "      <th>2</th>\n",
       "      <td>8448870</td>\n",
       "      <td>01/01/2018 12:28:00 AM</td>\n",
       "      <td>01/04/2018 01:15:50 PM</td>\n",
       "      <td>01/04/2018 01:15:50 PM</td>\n",
       "      <td>Closed</td>\n",
       "      <td>Case Resolved - Completed cleaned</td>\n",
       "      <td>DPW Ops Queue</td>\n",
       "      <td>Street and Sidewalk Cleaning</td>\n",
       "      <td>General Cleaning</td>\n",
       "      <td>Other Loose Garbage</td>\n",
       "      <td>2833 25TH ST, SAN FRANCISCO, CA, 94110</td>\n",
       "      <td>25TH ST</td>\n",
       "      <td>9.0</td>\n",
       "      <td>Mission</td>\n",
       "      <td>MISSION</td>\n",
       "      <td>37.751209</td>\n",
       "      <td>-122.406845</td>\n",
       "      <td>(37.75120926, -122.40684509)</td>\n",
       "      <td>Phone</td>\n",
       "      <td>NaN</td>\n",
       "    </tr>\n",
       "    <tr>\n",
       "      <th>3</th>\n",
       "      <td>8448879</td>\n",
       "      <td>01/01/2018 12:31:00 AM</td>\n",
       "      <td>01/09/2018 05:14:00 AM</td>\n",
       "      <td>01/09/2018 05:14:00 AM</td>\n",
       "      <td>Closed</td>\n",
       "      <td>DPT Abandoned Vehicles- Gone on Arrival - veh ...</td>\n",
       "      <td>DPT Abandoned Vehicles Work Queue</td>\n",
       "      <td>Abandoned Vehicle</td>\n",
       "      <td>Abandoned Vehicles</td>\n",
       "      <td>DPT Abandoned Vehicles Low</td>\n",
       "      <td>115 SAGAMORE ST, SAN FRANCISCO, CA, 94112</td>\n",
       "      <td>SAGAMORE ST</td>\n",
       "      <td>11.0</td>\n",
       "      <td>Oceanview</td>\n",
       "      <td>TARAVAL</td>\n",
       "      <td>37.711192</td>\n",
       "      <td>-122.456682</td>\n",
       "      <td>(37.7111921, -122.4566817)</td>\n",
       "      <td>Web</td>\n",
       "      <td>http://mobile311.sfgov.org/reports/8448879/photos</td>\n",
       "    </tr>\n",
       "    <tr>\n",
       "      <th>4</th>\n",
       "      <td>8448882</td>\n",
       "      <td>01/01/2018 12:33:00 AM</td>\n",
       "      <td>01/01/2018 10:42:27 AM</td>\n",
       "      <td>01/01/2018 10:42:27 AM</td>\n",
       "      <td>Closed</td>\n",
       "      <td>Case Resolved - Pickup completed.</td>\n",
       "      <td>Recology_Abandoned</td>\n",
       "      <td>Street and Sidewalk Cleaning</td>\n",
       "      <td>Bulky Items</td>\n",
       "      <td>Boxed or Bagged Items</td>\n",
       "      <td>1468 HAMPSHIRE ST, SAN FRANCISCO, CA, 94110</td>\n",
       "      <td>HAMPSHIRE ST</td>\n",
       "      <td>9.0</td>\n",
       "      <td>Mission</td>\n",
       "      <td>MISSION</td>\n",
       "      <td>37.749149</td>\n",
       "      <td>-122.406746</td>\n",
       "      <td>(37.74914932, -122.40674591)</td>\n",
       "      <td>Phone</td>\n",
       "      <td>NaN</td>\n",
       "    </tr>\n",
       "  </tbody>\n",
       "</table>\n",
       "</div>"
      ],
      "text/plain": [
       "    CaseID                  Opened                  Closed  \\\n",
       "0  8448866  01/01/2018 12:25:00 AM  01/05/2018 01:07:00 PM   \n",
       "1  8448872  01/01/2018 12:28:00 AM  01/30/2018 10:21:55 PM   \n",
       "2  8448870  01/01/2018 12:28:00 AM  01/04/2018 01:15:50 PM   \n",
       "3  8448879  01/01/2018 12:31:00 AM  01/09/2018 05:14:00 AM   \n",
       "4  8448882  01/01/2018 12:33:00 AM  01/01/2018 10:42:27 AM   \n",
       "\n",
       "                  Updated  Status  \\\n",
       "0  01/05/2018 01:07:00 PM  Closed   \n",
       "1  01/30/2018 10:21:55 PM  Closed   \n",
       "2  01/04/2018 01:15:50 PM  Closed   \n",
       "3  01/09/2018 05:14:00 AM  Closed   \n",
       "4  01/01/2018 10:42:27 AM  Closed   \n",
       "\n",
       "                                        Status Notes  \\\n",
       "0                                Case is a Duplicate   \n",
       "1  Case is a Duplicate - Request is a duplicate a...   \n",
       "2                  Case Resolved - Completed cleaned   \n",
       "3  DPT Abandoned Vehicles- Gone on Arrival - veh ...   \n",
       "4                  Case Resolved - Pickup completed.   \n",
       "\n",
       "                  Responsible Agency                      Category  \\\n",
       "0                      DPW Ops Queue  Street and Sidewalk Cleaning   \n",
       "1                      DPW Ops Queue                      Graffiti   \n",
       "2                      DPW Ops Queue  Street and Sidewalk Cleaning   \n",
       "3  DPT Abandoned Vehicles Work Queue             Abandoned Vehicle   \n",
       "4                 Recology_Abandoned  Street and Sidewalk Cleaning   \n",
       "\n",
       "            Request Type             Request Details  \\\n",
       "0            Bulky Items       Boxed or Bagged Items   \n",
       "1  Graffiti on Bike_rack   Bike_rack - Not_Offensive   \n",
       "2       General Cleaning         Other Loose Garbage   \n",
       "3     Abandoned Vehicles  DPT Abandoned Vehicles Low   \n",
       "4            Bulky Items       Boxed or Bagged Items   \n",
       "\n",
       "                                       Address        Street  \\\n",
       "0       2833 25TH ST, SAN FRANCISCO, CA, 94110       25TH ST   \n",
       "1        909 PAGE ST, SAN FRANCISCO, CA, 94117       PAGE ST   \n",
       "2       2833 25TH ST, SAN FRANCISCO, CA, 94110       25TH ST   \n",
       "3    115 SAGAMORE ST, SAN FRANCISCO, CA, 94112   SAGAMORE ST   \n",
       "4  1468 HAMPSHIRE ST, SAN FRANCISCO, CA, 94110  HAMPSHIRE ST   \n",
       "\n",
       "   Supervisor District  Neighborhood Police District   Latitude   Longitude  \\\n",
       "0                  9.0       Mission         MISSION  37.751209 -122.406845   \n",
       "1                  5.0  Lower Haight        NORTHERN  37.772300 -122.435745   \n",
       "2                  9.0       Mission         MISSION  37.751209 -122.406845   \n",
       "3                 11.0     Oceanview         TARAVAL  37.711192 -122.456682   \n",
       "4                  9.0       Mission         MISSION  37.749149 -122.406746   \n",
       "\n",
       "                          Point          Source  \\\n",
       "0  (37.75120926, -122.40684509)           Phone   \n",
       "1        (37.7723, -122.435745)  Mobile/Open311   \n",
       "2  (37.75120926, -122.40684509)           Phone   \n",
       "3    (37.7111921, -122.4566817)             Web   \n",
       "4  (37.74914932, -122.40674591)           Phone   \n",
       "\n",
       "                                           Media URL  \n",
       "0                                                NaN  \n",
       "1  http://mobile311.sfgov.org/reports/8448872/photos  \n",
       "2                                                NaN  \n",
       "3  http://mobile311.sfgov.org/reports/8448879/photos  \n",
       "4                                                NaN  "
      ]
     },
     "execution_count": 3,
     "metadata": {},
     "output_type": "execute_result"
    }
   ],
   "source": [
    "Jan2018_data.head()"
   ]
  },
  {
   "cell_type": "code",
   "execution_count": 4,
   "metadata": {},
   "outputs": [
    {
     "data": {
      "text/plain": [
       "(47537, 20)"
      ]
     },
     "execution_count": 4,
     "metadata": {},
     "output_type": "execute_result"
    }
   ],
   "source": [
    "Jan2018_data.shape"
   ]
  },
  {
   "cell_type": "code",
   "execution_count": 5,
   "metadata": {},
   "outputs": [
    {
     "name": "stdout",
     "output_type": "stream",
     "text": [
      "<class 'pandas.core.frame.DataFrame'>\n",
      "RangeIndex: 47537 entries, 0 to 47536\n",
      "Data columns (total 20 columns):\n",
      " #   Column               Non-Null Count  Dtype  \n",
      "---  ------               --------------  -----  \n",
      " 0   CaseID               47537 non-null  int64  \n",
      " 1   Opened               47537 non-null  object \n",
      " 2   Closed               47404 non-null  object \n",
      " 3   Updated              47537 non-null  object \n",
      " 4   Status               47537 non-null  object \n",
      " 5   Status Notes         47499 non-null  object \n",
      " 6   Responsible Agency   47537 non-null  object \n",
      " 7   Category             47537 non-null  object \n",
      " 8   Request Type         47537 non-null  object \n",
      " 9   Request Details      46966 non-null  object \n",
      " 10  Address              47537 non-null  object \n",
      " 11  Street               45891 non-null  object \n",
      " 12  Supervisor District  45891 non-null  float64\n",
      " 13  Neighborhood         45771 non-null  object \n",
      " 14  Police District      45759 non-null  object \n",
      " 15  Latitude             47537 non-null  float64\n",
      " 16  Longitude            47537 non-null  float64\n",
      " 17  Point                47537 non-null  object \n",
      " 18  Source               47537 non-null  object \n",
      " 19  Media URL            19683 non-null  object \n",
      "dtypes: float64(3), int64(1), object(16)\n",
      "memory usage: 7.3+ MB\n"
     ]
    }
   ],
   "source": [
    "Jan2018_data.info()"
   ]
  },
  {
   "cell_type": "code",
   "execution_count": 6,
   "metadata": {},
   "outputs": [],
   "source": [
    "# Let's convert the column Opened to type DateTime\n",
    "# we are not as interested in the Closed and Updated columns\n",
    "Jan2018_data['Opened'] = pd.to_datetime(Jan2018_data['Opened'])"
   ]
  },
  {
   "cell_type": "markdown",
   "metadata": {},
   "source": [
    "#### 4.1.1 NULL Neighborhood values<a id='4.1.1_NULL_Neighborhood_values'></a>"
   ]
  },
  {
   "cell_type": "code",
   "execution_count": 7,
   "metadata": {},
   "outputs": [
    {
     "data": {
      "text/html": [
       "<div>\n",
       "<style scoped>\n",
       "    .dataframe tbody tr th:only-of-type {\n",
       "        vertical-align: middle;\n",
       "    }\n",
       "\n",
       "    .dataframe tbody tr th {\n",
       "        vertical-align: top;\n",
       "    }\n",
       "\n",
       "    .dataframe thead th {\n",
       "        text-align: right;\n",
       "    }\n",
       "</style>\n",
       "<table border=\"1\" class=\"dataframe\">\n",
       "  <thead>\n",
       "    <tr style=\"text-align: right;\">\n",
       "      <th></th>\n",
       "      <th>190</th>\n",
       "      <th>236</th>\n",
       "      <th>522</th>\n",
       "      <th>661</th>\n",
       "      <th>664</th>\n",
       "    </tr>\n",
       "  </thead>\n",
       "  <tbody>\n",
       "    <tr>\n",
       "      <th>CaseID</th>\n",
       "      <td>8449474</td>\n",
       "      <td>8449570</td>\n",
       "      <td>8450010</td>\n",
       "      <td>8450361</td>\n",
       "      <td>8450366</td>\n",
       "    </tr>\n",
       "    <tr>\n",
       "      <th>Opened</th>\n",
       "      <td>2018-01-01 10:24:00</td>\n",
       "      <td>2018-01-01 10:56:00</td>\n",
       "      <td>2018-01-01 12:46:44</td>\n",
       "      <td>2018-01-01 14:53:00</td>\n",
       "      <td>2018-01-01 14:56:57</td>\n",
       "    </tr>\n",
       "    <tr>\n",
       "      <th>Closed</th>\n",
       "      <td>01/03/2018 12:50:11 PM</td>\n",
       "      <td>01/02/2018 11:29:00 AM</td>\n",
       "      <td>01/01/2018 01:00:00 PM</td>\n",
       "      <td>01/02/2018 06:50:00 AM</td>\n",
       "      <td>01/02/2018 02:07:00 PM</td>\n",
       "    </tr>\n",
       "    <tr>\n",
       "      <th>Updated</th>\n",
       "      <td>01/03/2018 12:50:11 PM</td>\n",
       "      <td>01/02/2018 11:29:00 AM</td>\n",
       "      <td>01/01/2018 01:00:00 PM</td>\n",
       "      <td>01/02/2018 06:50:00 AM</td>\n",
       "      <td>01/02/2018 02:07:00 PM</td>\n",
       "    </tr>\n",
       "    <tr>\n",
       "      <th>Status</th>\n",
       "      <td>Closed</td>\n",
       "      <td>Closed</td>\n",
       "      <td>Closed</td>\n",
       "      <td>Closed</td>\n",
       "      <td>Closed</td>\n",
       "    </tr>\n",
       "    <tr>\n",
       "      <th>Status Notes</th>\n",
       "      <td>Case Resolved - Pickup completed</td>\n",
       "      <td>Case is Invalid - Fire debris is responsibilit...</td>\n",
       "      <td>Case Resolved - Please contact the registratio...</td>\n",
       "      <td>Not Accepted - WEEKENDS AND HOLIDAYS MUST CALL...</td>\n",
       "      <td>Case Resolved - Jessa Lazo \"! I rescheduled th...</td>\n",
       "    </tr>\n",
       "    <tr>\n",
       "      <th>Responsible Agency</th>\n",
       "      <td>Recology_Litter</td>\n",
       "      <td>311 Supervisor Queue</td>\n",
       "      <td>RPD NSA Queue</td>\n",
       "      <td>SFMTA - Parking Enforcement - G</td>\n",
       "      <td>County Clerk - G</td>\n",
       "    </tr>\n",
       "    <tr>\n",
       "      <th>Category</th>\n",
       "      <td>Street and Sidewalk Cleaning</td>\n",
       "      <td>General Request - PUBLIC WORKS</td>\n",
       "      <td>General Request - RPD</td>\n",
       "      <td>General Request - MTA</td>\n",
       "      <td>General Request - COUNTY CLERK</td>\n",
       "    </tr>\n",
       "    <tr>\n",
       "      <th>Request Type</th>\n",
       "      <td>Bulky Items</td>\n",
       "      <td>complaint</td>\n",
       "      <td>other</td>\n",
       "      <td>complaint</td>\n",
       "      <td>request_for_service</td>\n",
       "    </tr>\n",
       "    <tr>\n",
       "      <th>Request Details</th>\n",
       "      <td>Refrigerator</td>\n",
       "      <td>bsm - complaint</td>\n",
       "      <td>rpd_other - other</td>\n",
       "      <td>parking_enforcement - complaint</td>\n",
       "      <td>county_clerk - request_for_service</td>\n",
       "    </tr>\n",
       "    <tr>\n",
       "      <th>Address</th>\n",
       "      <td>Not associated with a specific address</td>\n",
       "      <td>Not associated with a specific address</td>\n",
       "      <td>Not associated with a specific address</td>\n",
       "      <td>Not associated with a specific address</td>\n",
       "      <td>Not associated with a specific address</td>\n",
       "    </tr>\n",
       "    <tr>\n",
       "      <th>Street</th>\n",
       "      <td>NaN</td>\n",
       "      <td>NaN</td>\n",
       "      <td>NaN</td>\n",
       "      <td>NaN</td>\n",
       "      <td>NaN</td>\n",
       "    </tr>\n",
       "    <tr>\n",
       "      <th>Supervisor District</th>\n",
       "      <td>NaN</td>\n",
       "      <td>NaN</td>\n",
       "      <td>NaN</td>\n",
       "      <td>NaN</td>\n",
       "      <td>NaN</td>\n",
       "    </tr>\n",
       "    <tr>\n",
       "      <th>Neighborhood</th>\n",
       "      <td>NaN</td>\n",
       "      <td>NaN</td>\n",
       "      <td>NaN</td>\n",
       "      <td>NaN</td>\n",
       "      <td>NaN</td>\n",
       "    </tr>\n",
       "    <tr>\n",
       "      <th>Police District</th>\n",
       "      <td>NaN</td>\n",
       "      <td>NaN</td>\n",
       "      <td>NaN</td>\n",
       "      <td>NaN</td>\n",
       "      <td>NaN</td>\n",
       "    </tr>\n",
       "    <tr>\n",
       "      <th>Latitude</th>\n",
       "      <td>0</td>\n",
       "      <td>0</td>\n",
       "      <td>0</td>\n",
       "      <td>0</td>\n",
       "      <td>0</td>\n",
       "    </tr>\n",
       "    <tr>\n",
       "      <th>Longitude</th>\n",
       "      <td>0</td>\n",
       "      <td>0</td>\n",
       "      <td>0</td>\n",
       "      <td>0</td>\n",
       "      <td>0</td>\n",
       "    </tr>\n",
       "    <tr>\n",
       "      <th>Point</th>\n",
       "      <td>(0.0, 0.0)</td>\n",
       "      <td>(0.0, 0.0)</td>\n",
       "      <td>(0.0, 0.0)</td>\n",
       "      <td>(0.0, 0.0)</td>\n",
       "      <td>(0.0, 0.0)</td>\n",
       "    </tr>\n",
       "    <tr>\n",
       "      <th>Source</th>\n",
       "      <td>Integrated Agency</td>\n",
       "      <td>Web</td>\n",
       "      <td>Web</td>\n",
       "      <td>Web</td>\n",
       "      <td>Web</td>\n",
       "    </tr>\n",
       "    <tr>\n",
       "      <th>Media URL</th>\n",
       "      <td>NaN</td>\n",
       "      <td>NaN</td>\n",
       "      <td>NaN</td>\n",
       "      <td>NaN</td>\n",
       "      <td>NaN</td>\n",
       "    </tr>\n",
       "  </tbody>\n",
       "</table>\n",
       "</div>"
      ],
      "text/plain": [
       "                                                        190  \\\n",
       "CaseID                                              8449474   \n",
       "Opened                                  2018-01-01 10:24:00   \n",
       "Closed                               01/03/2018 12:50:11 PM   \n",
       "Updated                              01/03/2018 12:50:11 PM   \n",
       "Status                                               Closed   \n",
       "Status Notes               Case Resolved - Pickup completed   \n",
       "Responsible Agency                          Recology_Litter   \n",
       "Category                       Street and Sidewalk Cleaning   \n",
       "Request Type                                    Bulky Items   \n",
       "Request Details                                Refrigerator   \n",
       "Address              Not associated with a specific address   \n",
       "Street                                                  NaN   \n",
       "Supervisor District                                     NaN   \n",
       "Neighborhood                                            NaN   \n",
       "Police District                                         NaN   \n",
       "Latitude                                                  0   \n",
       "Longitude                                                 0   \n",
       "Point                                            (0.0, 0.0)   \n",
       "Source                                    Integrated Agency   \n",
       "Media URL                                               NaN   \n",
       "\n",
       "                                                                   236  \\\n",
       "CaseID                                                         8449570   \n",
       "Opened                                             2018-01-01 10:56:00   \n",
       "Closed                                          01/02/2018 11:29:00 AM   \n",
       "Updated                                         01/02/2018 11:29:00 AM   \n",
       "Status                                                          Closed   \n",
       "Status Notes         Case is Invalid - Fire debris is responsibilit...   \n",
       "Responsible Agency                                311 Supervisor Queue   \n",
       "Category                                General Request - PUBLIC WORKS   \n",
       "Request Type                                                 complaint   \n",
       "Request Details                                        bsm - complaint   \n",
       "Address                         Not associated with a specific address   \n",
       "Street                                                             NaN   \n",
       "Supervisor District                                                NaN   \n",
       "Neighborhood                                                       NaN   \n",
       "Police District                                                    NaN   \n",
       "Latitude                                                             0   \n",
       "Longitude                                                            0   \n",
       "Point                                                       (0.0, 0.0)   \n",
       "Source                                                             Web   \n",
       "Media URL                                                          NaN   \n",
       "\n",
       "                                                                   522  \\\n",
       "CaseID                                                         8450010   \n",
       "Opened                                             2018-01-01 12:46:44   \n",
       "Closed                                          01/01/2018 01:00:00 PM   \n",
       "Updated                                         01/01/2018 01:00:00 PM   \n",
       "Status                                                          Closed   \n",
       "Status Notes         Case Resolved - Please contact the registratio...   \n",
       "Responsible Agency                                       RPD NSA Queue   \n",
       "Category                                         General Request - RPD   \n",
       "Request Type                                                     other   \n",
       "Request Details                                      rpd_other - other   \n",
       "Address                         Not associated with a specific address   \n",
       "Street                                                             NaN   \n",
       "Supervisor District                                                NaN   \n",
       "Neighborhood                                                       NaN   \n",
       "Police District                                                    NaN   \n",
       "Latitude                                                             0   \n",
       "Longitude                                                            0   \n",
       "Point                                                       (0.0, 0.0)   \n",
       "Source                                                             Web   \n",
       "Media URL                                                          NaN   \n",
       "\n",
       "                                                                   661  \\\n",
       "CaseID                                                         8450361   \n",
       "Opened                                             2018-01-01 14:53:00   \n",
       "Closed                                          01/02/2018 06:50:00 AM   \n",
       "Updated                                         01/02/2018 06:50:00 AM   \n",
       "Status                                                          Closed   \n",
       "Status Notes         Not Accepted - WEEKENDS AND HOLIDAYS MUST CALL...   \n",
       "Responsible Agency                     SFMTA - Parking Enforcement - G   \n",
       "Category                                         General Request - MTA   \n",
       "Request Type                                                 complaint   \n",
       "Request Details                        parking_enforcement - complaint   \n",
       "Address                         Not associated with a specific address   \n",
       "Street                                                             NaN   \n",
       "Supervisor District                                                NaN   \n",
       "Neighborhood                                                       NaN   \n",
       "Police District                                                    NaN   \n",
       "Latitude                                                             0   \n",
       "Longitude                                                            0   \n",
       "Point                                                       (0.0, 0.0)   \n",
       "Source                                                             Web   \n",
       "Media URL                                                          NaN   \n",
       "\n",
       "                                                                   664  \n",
       "CaseID                                                         8450366  \n",
       "Opened                                             2018-01-01 14:56:57  \n",
       "Closed                                          01/02/2018 02:07:00 PM  \n",
       "Updated                                         01/02/2018 02:07:00 PM  \n",
       "Status                                                          Closed  \n",
       "Status Notes         Case Resolved - Jessa Lazo \"! I rescheduled th...  \n",
       "Responsible Agency                                    County Clerk - G  \n",
       "Category                                General Request - COUNTY CLERK  \n",
       "Request Type                                       request_for_service  \n",
       "Request Details                     county_clerk - request_for_service  \n",
       "Address                         Not associated with a specific address  \n",
       "Street                                                             NaN  \n",
       "Supervisor District                                                NaN  \n",
       "Neighborhood                                                       NaN  \n",
       "Police District                                                    NaN  \n",
       "Latitude                                                             0  \n",
       "Longitude                                                            0  \n",
       "Point                                                       (0.0, 0.0)  \n",
       "Source                                                             Web  \n",
       "Media URL                                                          NaN  "
      ]
     },
     "execution_count": 7,
     "metadata": {},
     "output_type": "execute_result"
    }
   ],
   "source": [
    "# looks like there is some data where the Neighborhood and/or the Supervisor District is null\n",
    "# Let's review the Neighborhood NULLs first\n",
    "Jan2018_data[Jan2018_data['Neighborhood'].isna()].head().T"
   ]
  },
  {
   "cell_type": "code",
   "execution_count": 8,
   "metadata": {},
   "outputs": [
    {
     "data": {
      "text/plain": [
       "Address\n",
       "Not associated with a specific address         1646\n",
       "7 FULTON ST, SAN FRANCISCO, CA, 94102            19\n",
       "PIER 45, SAN FRANCISCO, CA, 94133                 5\n",
       "1075 O'FARRELL ST, SAN FRANCISCO, CA, 94109       5\n",
       "275 O'FARRELL ST, SAN FRANCISCO, CA, 94102        4\n",
       "                                               ... \n",
       "485 O'FARRELL ST, SAN FRANCISCO, CA, 94102        1\n",
       "PIER 35, SAN FRANCISCO, CA, 94133                 1\n",
       "445 O'FARRELL ST, SAN FRANCISCO, CA, 94102        1\n",
       "439 O'FARRELL ST, SAN FRANCISCO, CA, 94102        1\n",
       "1 FERRY BUILDING, SAN FRANCISCO, CA, 94111        1\n",
       "Name: CaseID, Length: 74, dtype: int64"
      ]
     },
     "execution_count": 8,
     "metadata": {},
     "output_type": "execute_result"
    }
   ],
   "source": [
    "Jan2018_data[Jan2018_data['Neighborhood'].isna()].groupby(\"Address\")['CaseID'].count().sort_values(ascending=False)"
   ]
  },
  {
   "cell_type": "code",
   "execution_count": 9,
   "metadata": {},
   "outputs": [
    {
     "data": {
      "text/plain": [
       "1766"
      ]
     },
     "execution_count": 9,
     "metadata": {},
     "output_type": "execute_result"
    }
   ],
   "source": [
    "Jan2018_data['Neighborhood'].isna().sum()"
   ]
  },
  {
   "cell_type": "code",
   "execution_count": 10,
   "metadata": {},
   "outputs": [
    {
     "data": {
      "text/plain": [
       "1646"
      ]
     },
     "execution_count": 10,
     "metadata": {},
     "output_type": "execute_result"
    }
   ],
   "source": [
    "Jan2018_data[Jan2018_data['Neighborhood'].isna()][\"Street\"].isna().sum()"
   ]
  },
  {
   "cell_type": "markdown",
   "metadata": {},
   "source": [
    "Out of 1766 null Neighborhoods, 1646 have 'Not associated with a specific address' and a NULL Street value!\n",
    "\n",
    "Looks like we can go ahead and drop NULL Neighborhoods"
   ]
  },
  {
   "cell_type": "markdown",
   "metadata": {},
   "source": [
    "#### 4.1.2 Source<a id='4.1.2_Source'></a>\n",
    "\n",
    "Let's look at different `Source` values."
   ]
  },
  {
   "cell_type": "code",
   "execution_count": 11,
   "metadata": {},
   "outputs": [
    {
     "data": {
      "text/plain": [
       "Mobile/Open311       25401\n",
       "Phone                13880\n",
       "Web                   6435\n",
       "Integrated Agency     1549\n",
       "Twitter                241\n",
       "Other Department        31\n",
       "Name: Source, dtype: int64"
      ]
     },
     "execution_count": 11,
     "metadata": {},
     "output_type": "execute_result"
    }
   ],
   "source": [
    "Jan2018_data['Source'].value_counts()"
   ]
  },
  {
   "cell_type": "markdown",
   "metadata": {},
   "source": [
    "#### 4.1.3 Responsible Agency<a id='4.1.3_Responsible_Agency'></a>\n",
    "\n",
    "Let's look at different `Responsible Agency` values."
   ]
  },
  {
   "cell_type": "code",
   "execution_count": 12,
   "metadata": {},
   "outputs": [
    {
     "data": {
      "text/plain": [
       "DPW Ops Queue                        20049\n",
       "Recology_Abandoned                    8363\n",
       "DPT Abandoned Vehicles Work Queue     2522\n",
       "311 Supervisor Queue                  2166\n",
       "MUNI Work Queue                       1286\n",
       "                                     ...  \n",
       "Contract Administration - G              1\n",
       "DBI Plumbing Inspection Queue            1\n",
       "SFMTA - SFpark Queue                     1\n",
       "Environment - G                          1\n",
       "SFFD Support Services Queue              1\n",
       "Name: Responsible Agency, Length: 166, dtype: int64"
      ]
     },
     "execution_count": 12,
     "metadata": {},
     "output_type": "execute_result"
    }
   ],
   "source": [
    "Jan2018_data['Responsible Agency'].value_counts()"
   ]
  },
  {
   "cell_type": "markdown",
   "metadata": {},
   "source": [
    "Doesn't look all that interesting or provide much clarity on the issues."
   ]
  },
  {
   "cell_type": "markdown",
   "metadata": {},
   "source": [
    "#### 4.1.4 Category<a id='4.1.3_Category'></a>\n",
    "\n",
    "Let's look at different `Category` values."
   ]
  },
  {
   "cell_type": "code",
   "execution_count": 13,
   "metadata": {},
   "outputs": [
    {
     "data": {
      "text/plain": [
       "Street and Sidewalk Cleaning                 19514\n",
       "Graffiti                                      7271\n",
       "Encampments                                   4936\n",
       "Abandoned Vehicle                             2512\n",
       "MUNI Feedback                                 1573\n",
       "                                             ...  \n",
       "General Request - HUMAN RESOURCES                1\n",
       "General Request - ENVIRONMENT                    1\n",
       "General Request - HUMAN RIGHTS COMMISSION        1\n",
       "General Request - ART COMMISSION                 1\n",
       "General Request - SHERIFF                        1\n",
       "Name: Category, Length: 66, dtype: int64"
      ]
     },
     "execution_count": 13,
     "metadata": {},
     "output_type": "execute_result"
    }
   ],
   "source": [
    "Jan2018_data['Category'].value_counts()"
   ]
  },
  {
   "cell_type": "code",
   "execution_count": 14,
   "metadata": {},
   "outputs": [
    {
     "data": {
      "text/plain": [
       "2388"
      ]
     },
     "execution_count": 14,
     "metadata": {},
     "output_type": "execute_result"
    }
   ],
   "source": [
    "# perhaps we can fold all these General Requests into a single Category?\n",
    "Jan2018_data['Category'].str.startswith('General Request').sum()"
   ]
  },
  {
   "cell_type": "code",
   "execution_count": 15,
   "metadata": {},
   "outputs": [
    {
     "data": {
      "text/plain": [
       "Street and Sidewalk Cleaning    19514\n",
       "Graffiti                         7271\n",
       "Encampments                      4936\n",
       "Abandoned Vehicle                2512\n",
       "MUNI Feedback                    1573\n",
       "Homeless Concerns                1027\n",
       "Damaged Property                 1006\n",
       "Sewer Issues                      952\n",
       "Tree Maintenance                  742\n",
       "Streetlights                      727\n",
       "Street Defects                    606\n",
       "Rec and Park Requests             587\n",
       "Litter Receptacles                566\n",
       "Blocked Street or SideWalk        504\n",
       "Noise Report                      481\n",
       "Sidewalk or Curb                  465\n",
       "Illegal Postings                  461\n",
       "Sign Repair                       430\n",
       "Residential Building Request      176\n",
       "SFHA Requests                     168\n",
       "Color Curb                        106\n",
       "Temporary Sign Request            101\n",
       "Construction Zone Permits          94\n",
       "Catch Basin Maintenance            64\n",
       "311 External Request               62\n",
       "DPW Volunteer Programs             18\n",
       "Name: Category, dtype: int64"
      ]
     },
     "execution_count": 15,
     "metadata": {},
     "output_type": "execute_result"
    }
   ],
   "source": [
    "Jan2018_data[~Jan2018_data['Category'].str.startswith('General Request')]['Category'].value_counts()"
   ]
  },
  {
   "cell_type": "markdown",
   "metadata": {},
   "source": [
    "#### 4.1.5 Request Type<a id='4.1.5_Request_Type'></a>\n",
    "\n",
    "Let's look at different `Request Type` values."
   ]
  },
  {
   "cell_type": "code",
   "execution_count": 16,
   "metadata": {},
   "outputs": [
    {
     "data": {
      "text/plain": [
       "Bulky Items                                                            8163\n",
       "General Cleaning                                                       6292\n",
       "Encampment Reports                                                     4486\n",
       "Human or Animal Waste                                                  2138\n",
       "Abandoned Vehicles                                                     1431\n",
       "                                                                       ... \n",
       "mobile_food_facility                                                      1\n",
       "Building - Deck_Stairs_Handrails                                          1\n",
       "Building - Visitor_Policy_Violations                                      1\n",
       "Construction Zone Tow-away Permits for DPW BSES                           1\n",
       "Construction Zone Tow-away Permits for Roberts-Obayshi Construction       1\n",
       "Name: Request Type, Length: 258, dtype: int64"
      ]
     },
     "execution_count": 16,
     "metadata": {},
     "output_type": "execute_result"
    }
   ],
   "source": [
    "Jan2018_data['Request Type'].value_counts()"
   ]
  },
  {
   "cell_type": "code",
   "execution_count": 17,
   "metadata": {},
   "outputs": [
    {
     "name": "stdout",
     "output_type": "stream",
     "text": [
      "['Construction Zone Tow-away Permits for DPW BSES'\n",
      " 'Construction Zone Tow-away Permits for Zayo Group'\n",
      " 'Construction Zone Tow-away Permits for Abide International'\n",
      " 'Construction Zone Tow-away Permits for Darcy and Harty Construction'\n",
      " 'Construction Zone Tow-away Permits for DPW - BUF'\n",
      " 'Construction Zone Tow-away Permits for DPW'\n",
      " 'Construction Zone Tow-away Permits for Empire Engineering and Construction'\n",
      " 'Construction Zone Tow-away Permits for Pacific West Communications'\n",
      " 'Construction Zone Tow-away Permits for Cable Com'\n",
      " 'Construction Zone Tow-away Permits for UNDERGROUND CONSTRUCTION'\n",
      " 'Construction Zone Tow-away Permits for JMB Construction'\n",
      " 'Construction Zone Tow-away Permits for Extenet Systems'\n",
      " 'Construction Zone Tow-away Permits for Roberts-Obayshi Construction'\n",
      " 'Construction Zone Tow-away Permits for DPW-BUF(Landscaping)'\n",
      " 'Construction Zone Tow-away Permits for Mitchell Engineering'\n",
      " 'Construction Zone Tow-away Permits for Underground Construction Co Inc'\n",
      " 'Construction Zone Tow-away Permits for Hernandez Engineering'\n",
      " 'Construction Zone Tow-away Permits for Charles Pankow Builders'\n",
      " 'Construction Zone Tow-away Permits for CF Contracting'\n",
      " 'Construction Zone Tow-away Permits for Underground Construction'\n",
      " 'Construction Zone Tow-away Permits for Cablecom'\n",
      " 'Construction Zone Tow-away Permits for Ghilotti Construction'\n",
      " 'Construction Zone Tow-away Permits for American Intergrated Services'\n",
      " 'Construction Zone Tow-away Permits for Golden State Utility Company'\n",
      " 'Construction Zone Tow-away Permits for NTK Construction Inc'\n",
      " 'Construction Zone Tow-away Permits for Avalon Bay'\n",
      " 'Construction Zone Tow-away Permits for Darcy & Hardy'\n",
      " 'Construction Zone Tow-away Permits for DPW - BBR']\n"
     ]
    },
    {
     "data": {
      "text/plain": [
       "94"
      ]
     },
     "execution_count": 17,
     "metadata": {},
     "output_type": "execute_result"
    }
   ],
   "source": [
    "# perhaps we can fold all these Construction Zone... into a single Request Type?\n",
    "print(Jan2018_data[Jan2018_data['Request Type'].str.startswith('Construction Zone')]['Request Type'].unique())\n",
    "\n",
    "Jan2018_data['Request Type'].str.startswith('Construction Zone').sum()"
   ]
  },
  {
   "cell_type": "code",
   "execution_count": 18,
   "metadata": {},
   "outputs": [
    {
     "data": {
      "text/plain": [
       "Painting                                         1\n",
       "delivery_service_vehicle                         1\n",
       "Building - Fire_Alarm_System                     1\n",
       "tour_bus                                         1\n",
       "Streetlight - Pole_Cover_Missing                 1\n",
       "Red Color Curb Request for HotelApartment        1\n",
       "Streetlight - Pole_Leaning                       1\n",
       "Building - Deck_Stairs_Handrails                 1\n",
       "Building -                                       1\n",
       "Building - Fire_Extinguishers_Missing_Expired    1\n",
       "Building - Kitchen_Community                     1\n",
       "Streetlight - Light_Glass_Cover_Missing          1\n",
       "Sign Repair - Defaced                            1\n",
       "Building - Visitor_Policy_Violations             1\n",
       "Streetlight - Light_Glass_Cover_Hanging          1\n",
       "Sign Repair - Incorrect_Signage                  1\n",
       "Sign - Painted_Over                              1\n",
       "mobile_food_facility                             1\n",
       "Building - Mail_Service_Delivery_problem         1\n",
       "Sign Repair - Not_Visible                        1\n",
       "Name: Request Type, dtype: int64"
      ]
     },
     "execution_count": 18,
     "metadata": {},
     "output_type": "execute_result"
    }
   ],
   "source": [
    "Jan2018_data[~Jan2018_data['Request Type'].str.startswith('Construction Zone')]['Request Type'].value_counts(ascending=True).head(20)"
   ]
  },
  {
   "cell_type": "code",
   "execution_count": 19,
   "metadata": {},
   "outputs": [
    {
     "name": "stdout",
     "output_type": "stream",
     "text": [
      "['Building - Infestation_Rodent_Insect' 'Building - Garbage_Receptacles'\n",
      " 'Building - General_Maintenance_Not_in_List_Above'\n",
      " 'Building - Plumbing_Broken_leaking'\n",
      " 'Building - Electrical_Hazardous_Condition' 'Building - Bathroom'\n",
      " 'Building - Hot_Water_Lack_of_Hot_Water'\n",
      " 'Building - Clutter_Hoarder_Unit_Interior_Storage'\n",
      " 'Building - Infestation_Bed_Bugs' 'Building - Deck_Stairs_Handrails'\n",
      " 'Building - Paint_Lead_Violating_Safe_Practices'\n",
      " 'Building - Electrical_Non_Hazard' 'Building - Mold_and_Mildew'\n",
      " 'Building - Kitchen_Community'\n",
      " 'Building - Elevators_No_Working_Elevator_7_or_More_Stories'\n",
      " 'Building - Illegal_Construction_No_Permit_Exceeds_Permit_Scope'\n",
      " 'Building - Blocked_Exit_Common_Areas' 'Building - Fire_Hazard'\n",
      " 'Building - Heat_Lack_of_Heat' 'Building - Second_Hand_Smoke'\n",
      " 'Building - Doors_Windows_Broken_Defective'\n",
      " 'Building - Elevators_Everthing_Else'\n",
      " 'Building - Inadequately_Maintained_Building_Exterior'\n",
      " 'Building - Fire_Alarm_System' 'Building - Light_Wells_Dirty_Flooded'\n",
      " 'Building -' 'Building - Fire_Extinguishers_Missing_Expired'\n",
      " 'Building - Mail_Service_Delivery_problem' 'Building - Paint_Peeling'\n",
      " 'Building - Visitor_Policy_Violations']\n"
     ]
    },
    {
     "data": {
      "text/plain": [
       "176"
      ]
     },
     "execution_count": 19,
     "metadata": {},
     "output_type": "execute_result"
    }
   ],
   "source": [
    "# perhaps we can fold all these Building ... into a single Request Type?\n",
    "print( Jan2018_data[Jan2018_data['Request Type'].str.startswith('Building')]['Request Type'].unique() )\n",
    "\n",
    "Jan2018_data['Request Type'].str.startswith('Building').sum()"
   ]
  },
  {
   "cell_type": "code",
   "execution_count": 20,
   "metadata": {},
   "outputs": [
    {
     "data": {
      "text/plain": [
       "727"
      ]
     },
     "execution_count": 20,
     "metadata": {},
     "output_type": "execute_result"
    }
   ],
   "source": [
    "# perhaps we can fold all these Streetlight ... into a single Request Type?\n",
    "Jan2018_data['Request Type'].str.startswith('Streetlight').sum()"
   ]
  },
  {
   "cell_type": "code",
   "execution_count": 21,
   "metadata": {},
   "outputs": [
    {
     "name": "stdout",
     "output_type": "stream",
     "text": [
      "['Sign - Defaced' 'Sign - Painted_Over' 'Sign - Other'\n",
      " 'Sign Repair - Other' 'Sign Repair - On_Ground' 'Sign - Missing'\n",
      " 'Sign - Bent' 'Sign Repair - Missing' 'Sign - Incorrect_Signage'\n",
      " 'Sign Repair - Bent' 'Sign - Faded' 'Sign - Dirty' 'Sign Repair - Turned'\n",
      " 'Sign - On_Ground' 'Sign Repair - Defaced' 'Sign Repair - Not_Visible'\n",
      " 'Sign Repair - Incorrect_Signage' 'Sign - Turned' 'Sign Repair - Faded']\n"
     ]
    },
    {
     "data": {
      "text/plain": [
       "430"
      ]
     },
     "execution_count": 21,
     "metadata": {},
     "output_type": "execute_result"
    }
   ],
   "source": [
    "# perhaps we can fold all these Sign ... into a single Request Type?\n",
    "print( Jan2018_data[Jan2018_data['Request Type'].str.startswith('Sign')]['Request Type'].unique() )\n",
    "\n",
    "Jan2018_data['Request Type'].str.startswith('Sign').sum()"
   ]
  },
  {
   "cell_type": "code",
   "execution_count": 22,
   "metadata": {},
   "outputs": [
    {
     "data": {
      "text/plain": [
       "Bulky Items                                  8163\n",
       "General Cleaning                             6292\n",
       "Encampment Reports                           4486\n",
       "Human or Animal Waste                        2138\n",
       "Abandoned Vehicles                           1431\n",
       "                                             ... \n",
       "delivery_service_vehicle                        1\n",
       "Red Color Curb Request for HotelApartment       1\n",
       "Temporary Sign Request for Funerals             1\n",
       "mobile_food_facility                            1\n",
       "Painting                                        1\n",
       "Name: Request Type, Length: 165, dtype: int64"
      ]
     },
     "execution_count": 22,
     "metadata": {},
     "output_type": "execute_result"
    }
   ],
   "source": [
    "Jan2018_data[~Jan2018_data['Request Type'].str.startswith(('Construction Zone','Building','Streetlight','Sign'))]['Request Type'].value_counts()"
   ]
  },
  {
   "cell_type": "code",
   "execution_count": 23,
   "metadata": {},
   "outputs": [
    {
     "data": {
      "text/plain": [
       "Painting                                         1\n",
       "mobile_food_facility                             1\n",
       "Temporary Sign Request for Funerals              1\n",
       "Red Color Curb Request for HotelApartment        1\n",
       "delivery_service_vehicle                         1\n",
       "tour_bus                                         1\n",
       "Damaged Kiosk_Public_Toilet                      2\n",
       "Custodian                                        2\n",
       "public_speech                                    2\n",
       "vehicle_repair                                   2\n",
       "emergency_equipment                              2\n",
       "hospital                                         3\n",
       "delivery_service_business                        3\n",
       "Utility Lines/Wires                              3\n",
       "Garbage                                          3\n",
       "Blue Color Curb Request                          4\n",
       "Sidewalk_or_Curb_Issues                          4\n",
       "Illegal Postings - Posted_on_Directional_Sign    4\n",
       "Graffiti on Bridge                               4\n",
       "Catch_Basin_Other                                4\n",
       "MUNI  - Services_Criminal_Activity               4\n",
       "Damaged Bike_Rack                                4\n",
       "White_Fee Color Curb Request                     4\n",
       "Graffiti_Watch                                   5\n",
       "MUNI  -                                          5\n",
       "Street_Parks                                     5\n",
       "Illegal Postings - Posting_Too_High_on_Pole      5\n",
       "Steam Fitter                                     5\n",
       "Red Color Curb Request for Other                 5\n",
       "Debris_box_maintenance_overflowing               5\n",
       "Name: Request Type, dtype: int64"
      ]
     },
     "execution_count": 23,
     "metadata": {},
     "output_type": "execute_result"
    }
   ],
   "source": [
    "Jan2018_data[~Jan2018_data['Request Type'].str.startswith(('Construction Zone','Building','Streetlight','Sign'))]['Request Type'].value_counts(ascending=True).head(30)"
   ]
  },
  {
   "cell_type": "markdown",
   "metadata": {},
   "source": [
    "**TODO: let's drop the `Request Type` **"
   ]
  },
  {
   "cell_type": "markdown",
   "metadata": {},
   "source": [
    "#### 4.1.6 Request Details<a id='4.1.6_Request_Details'></a>\n",
    "\n",
    "Let's look at different `Request Details` values."
   ]
  },
  {
   "cell_type": "code",
   "execution_count": 24,
   "metadata": {},
   "outputs": [
    {
     "data": {
      "text/html": [
       "<div>\n",
       "<style scoped>\n",
       "    .dataframe tbody tr th:only-of-type {\n",
       "        vertical-align: middle;\n",
       "    }\n",
       "\n",
       "    .dataframe tbody tr th {\n",
       "        vertical-align: top;\n",
       "    }\n",
       "\n",
       "    .dataframe thead th {\n",
       "        text-align: right;\n",
       "    }\n",
       "</style>\n",
       "<table border=\"1\" class=\"dataframe\">\n",
       "  <thead>\n",
       "    <tr style=\"text-align: right;\">\n",
       "      <th></th>\n",
       "      <th>Request Details</th>\n",
       "      <th>count</th>\n",
       "      <th>min</th>\n",
       "      <th>max</th>\n",
       "    </tr>\n",
       "  </thead>\n",
       "  <tbody>\n",
       "    <tr>\n",
       "      <th>781</th>\n",
       "      <td>Other Loose Garbage</td>\n",
       "      <td>6284</td>\n",
       "      <td>8448870</td>\n",
       "      <td>8577917</td>\n",
       "    </tr>\n",
       "    <tr>\n",
       "      <th>481</th>\n",
       "      <td>Encampment Cleanup</td>\n",
       "      <td>4472</td>\n",
       "      <td>8448999</td>\n",
       "      <td>8577983</td>\n",
       "    </tr>\n",
       "    <tr>\n",
       "      <th>379</th>\n",
       "      <td>Boxed or Bagged Items</td>\n",
       "      <td>2914</td>\n",
       "      <td>8448866</td>\n",
       "      <td>8577984</td>\n",
       "    </tr>\n",
       "    <tr>\n",
       "      <th>497</th>\n",
       "      <td>Furniture</td>\n",
       "      <td>2433</td>\n",
       "      <td>8449086</td>\n",
       "      <td>8577923</td>\n",
       "    </tr>\n",
       "    <tr>\n",
       "      <th>639</th>\n",
       "      <td>Human or Animal Waste</td>\n",
       "      <td>2138</td>\n",
       "      <td>8448984</td>\n",
       "      <td>8577967</td>\n",
       "    </tr>\n",
       "    <tr>\n",
       "      <th>...</th>\n",
       "      <td>...</td>\n",
       "      <td>...</td>\n",
       "      <td>...</td>\n",
       "      <td>...</td>\n",
       "    </tr>\n",
       "    <tr>\n",
       "      <th>687</th>\n",
       "      <td>MULTICOLOR - FORD -  - 3TEW569</td>\n",
       "      <td>1</td>\n",
       "      <td>8538672</td>\n",
       "      <td>8538672</td>\n",
       "    </tr>\n",
       "    <tr>\n",
       "      <th>686</th>\n",
       "      <td>MULTI COLO - CHEVY - VAN  - 6TIH401</td>\n",
       "      <td>1</td>\n",
       "      <td>8542098</td>\n",
       "      <td>8542098</td>\n",
       "    </tr>\n",
       "    <tr>\n",
       "      <th>685</th>\n",
       "      <td>MOLD GREEN - FORD -  - 72658C</td>\n",
       "      <td>1</td>\n",
       "      <td>8476684</td>\n",
       "      <td>8476684</td>\n",
       "    </tr>\n",
       "    <tr>\n",
       "      <th>684</th>\n",
       "      <td>MAROON - HONDA -  - 4WSN026</td>\n",
       "      <td>1</td>\n",
       "      <td>8450864</td>\n",
       "      <td>8450864</td>\n",
       "    </tr>\n",
       "    <tr>\n",
       "      <th>1844</th>\n",
       "      <td>yellow - VW - bus - NONE</td>\n",
       "      <td>1</td>\n",
       "      <td>8511772</td>\n",
       "      <td>8511772</td>\n",
       "    </tr>\n",
       "  </tbody>\n",
       "</table>\n",
       "<p>1845 rows × 4 columns</p>\n",
       "</div>"
      ],
      "text/plain": [
       "                          Request Details  count      min      max\n",
       "781                   Other Loose Garbage   6284  8448870  8577917\n",
       "481                    Encampment Cleanup   4472  8448999  8577983\n",
       "379                 Boxed or Bagged Items   2914  8448866  8577984\n",
       "497                             Furniture   2433  8449086  8577923\n",
       "639                 Human or Animal Waste   2138  8448984  8577967\n",
       "...                                   ...    ...      ...      ...\n",
       "687        MULTICOLOR - FORD -  - 3TEW569      1  8538672  8538672\n",
       "686   MULTI COLO - CHEVY - VAN  - 6TIH401      1  8542098  8542098\n",
       "685         MOLD GREEN - FORD -  - 72658C      1  8476684  8476684\n",
       "684           MAROON - HONDA -  - 4WSN026      1  8450864  8450864\n",
       "1844             yellow - VW - bus - NONE      1  8511772  8511772\n",
       "\n",
       "[1845 rows x 4 columns]"
      ]
     },
     "execution_count": 24,
     "metadata": {},
     "output_type": "execute_result"
    }
   ],
   "source": [
    "Jan2018_data.groupby('Request Details')['CaseID'].agg(['count','min','max']).reset_index().sort_values('count',ascending=False)"
   ]
  },
  {
   "cell_type": "code",
   "execution_count": 25,
   "metadata": {},
   "outputs": [
    {
     "data": {
      "text/html": [
       "<div>\n",
       "<style scoped>\n",
       "    .dataframe tbody tr th:only-of-type {\n",
       "        vertical-align: middle;\n",
       "    }\n",
       "\n",
       "    .dataframe tbody tr th {\n",
       "        vertical-align: top;\n",
       "    }\n",
       "\n",
       "    .dataframe thead th {\n",
       "        text-align: right;\n",
       "    }\n",
       "</style>\n",
       "<table border=\"1\" class=\"dataframe\">\n",
       "  <thead>\n",
       "    <tr style=\"text-align: right;\">\n",
       "      <th></th>\n",
       "      <th>0</th>\n",
       "      <th>2</th>\n",
       "      <th>26</th>\n",
       "      <th>916</th>\n",
       "      <th>10852</th>\n",
       "      <th>23895</th>\n",
       "      <th>33522</th>\n",
       "      <th>34751</th>\n",
       "    </tr>\n",
       "  </thead>\n",
       "  <tbody>\n",
       "    <tr>\n",
       "      <th>CaseID</th>\n",
       "      <td>8448866</td>\n",
       "      <td>8448870</td>\n",
       "      <td>8448999</td>\n",
       "      <td>8450864</td>\n",
       "      <td>8476684</td>\n",
       "      <td>8511772</td>\n",
       "      <td>8538672</td>\n",
       "      <td>8542098</td>\n",
       "    </tr>\n",
       "    <tr>\n",
       "      <th>Opened</th>\n",
       "      <td>2018-01-01 00:25:00</td>\n",
       "      <td>2018-01-01 00:28:00</td>\n",
       "      <td>2018-01-01 02:55:00</td>\n",
       "      <td>2018-01-01 17:18:00</td>\n",
       "      <td>2018-01-08 08:17:00</td>\n",
       "      <td>2018-01-16 10:44:00</td>\n",
       "      <td>2018-01-22 15:16:00</td>\n",
       "      <td>2018-01-23 12:06:00</td>\n",
       "    </tr>\n",
       "    <tr>\n",
       "      <th>Closed</th>\n",
       "      <td>01/05/2018 01:07:00 PM</td>\n",
       "      <td>01/04/2018 01:15:50 PM</td>\n",
       "      <td>01/01/2018 03:31:23 AM</td>\n",
       "      <td>01/03/2018 06:38:00 AM</td>\n",
       "      <td>01/10/2018 06:07:00 AM</td>\n",
       "      <td>01/24/2018 06:41:00 AM</td>\n",
       "      <td>01/26/2018 07:04:00 PM</td>\n",
       "      <td>01/29/2018 12:14:00 PM</td>\n",
       "    </tr>\n",
       "    <tr>\n",
       "      <th>Updated</th>\n",
       "      <td>01/05/2018 01:07:00 PM</td>\n",
       "      <td>01/04/2018 01:15:50 PM</td>\n",
       "      <td>01/01/2018 03:31:23 AM</td>\n",
       "      <td>01/03/2018 06:38:00 AM</td>\n",
       "      <td>01/10/2018 06:07:00 AM</td>\n",
       "      <td>01/24/2018 06:41:00 AM</td>\n",
       "      <td>01/26/2018 07:04:00 PM</td>\n",
       "      <td>01/29/2018 12:14:00 PM</td>\n",
       "    </tr>\n",
       "    <tr>\n",
       "      <th>Status</th>\n",
       "      <td>Closed</td>\n",
       "      <td>Closed</td>\n",
       "      <td>Closed</td>\n",
       "      <td>Closed</td>\n",
       "      <td>Closed</td>\n",
       "      <td>Closed</td>\n",
       "      <td>Closed</td>\n",
       "      <td>Closed</td>\n",
       "    </tr>\n",
       "    <tr>\n",
       "      <th>Status Notes</th>\n",
       "      <td>Case is a Duplicate</td>\n",
       "      <td>Case Resolved - Completed cleaned</td>\n",
       "      <td>Area Cleared</td>\n",
       "      <td>DPT Abandoned Vehicles- Gone on Arrival - 01/0...</td>\n",
       "      <td>DPT Abandoned Vehicles- Gone on Arrival - veh ...</td>\n",
       "      <td>DPT Abandoned Vehicles- Gone on Arrival - VEH ...</td>\n",
       "      <td>DPT Abandoned Vehicles- Gone on Arrival - GOA ...</td>\n",
       "      <td>DPT Abandoned Vehicles- Gone on Arrival - veh ...</td>\n",
       "    </tr>\n",
       "    <tr>\n",
       "      <th>Responsible Agency</th>\n",
       "      <td>DPW Ops Queue</td>\n",
       "      <td>DPW Ops Queue</td>\n",
       "      <td>DPW Ops Queue</td>\n",
       "      <td>DPT Abandoned Vehicles Work Queue</td>\n",
       "      <td>DPT Abandoned Vehicles Work Queue</td>\n",
       "      <td>DPT Abandoned Vehicles Work Queue</td>\n",
       "      <td>DPT Abandoned Vehicles Work Queue</td>\n",
       "      <td>DPT Abandoned Vehicles Work Queue</td>\n",
       "    </tr>\n",
       "    <tr>\n",
       "      <th>Category</th>\n",
       "      <td>Street and Sidewalk Cleaning</td>\n",
       "      <td>Street and Sidewalk Cleaning</td>\n",
       "      <td>Encampments</td>\n",
       "      <td>Abandoned Vehicle</td>\n",
       "      <td>Abandoned Vehicle</td>\n",
       "      <td>Abandoned Vehicle</td>\n",
       "      <td>Abandoned Vehicle</td>\n",
       "      <td>Abandoned Vehicle</td>\n",
       "    </tr>\n",
       "    <tr>\n",
       "      <th>Request Type</th>\n",
       "      <td>Bulky Items</td>\n",
       "      <td>General Cleaning</td>\n",
       "      <td>Encampment Reports</td>\n",
       "      <td>Abandoned Vehicle - Car4door</td>\n",
       "      <td>Abandoned Vehicle - PickupTruck</td>\n",
       "      <td>Abandoned Vehicle - Other</td>\n",
       "      <td>Abandoned Vehicle - Trailer</td>\n",
       "      <td>Abandoned Vehicle -</td>\n",
       "    </tr>\n",
       "    <tr>\n",
       "      <th>Request Details</th>\n",
       "      <td>Boxed or Bagged Items</td>\n",
       "      <td>Other Loose Garbage</td>\n",
       "      <td>Encampment Cleanup</td>\n",
       "      <td>MAROON - HONDA -  - 4WSN026</td>\n",
       "      <td>MOLD GREEN - FORD -  - 72658C</td>\n",
       "      <td>yellow - VW - bus - NONE</td>\n",
       "      <td>MULTICOLOR - FORD -  - 3TEW569</td>\n",
       "      <td>MULTI COLO - CHEVY - VAN  - 6TIH401</td>\n",
       "    </tr>\n",
       "    <tr>\n",
       "      <th>Address</th>\n",
       "      <td>2833 25TH ST, SAN FRANCISCO, CA, 94110</td>\n",
       "      <td>2833 25TH ST, SAN FRANCISCO, CA, 94110</td>\n",
       "      <td>629 POST ST, SAN FRANCISCO, CA, 94109</td>\n",
       "      <td>1721 QUESADA AVE, SAN FRANCISCO, CA, 94124</td>\n",
       "      <td>144 MARIETTA DR, SAN FRANCISCO, CA, 94127</td>\n",
       "      <td>3898 CALIFORNIA ST, SAN FRANCISCO, CA, 94118</td>\n",
       "      <td>475 ALABAMA ST, SAN FRANCISCO, CA, 94110</td>\n",
       "      <td>212 UTAH ST, SAN FRANCISCO, CA, 94103</td>\n",
       "    </tr>\n",
       "    <tr>\n",
       "      <th>Street</th>\n",
       "      <td>25TH ST</td>\n",
       "      <td>25TH ST</td>\n",
       "      <td>POST ST</td>\n",
       "      <td>QUESADA AVE</td>\n",
       "      <td>MARIETTA DR</td>\n",
       "      <td>CALIFORNIA ST</td>\n",
       "      <td>ALABAMA ST</td>\n",
       "      <td>UTAH ST</td>\n",
       "    </tr>\n",
       "    <tr>\n",
       "      <th>Supervisor District</th>\n",
       "      <td>9</td>\n",
       "      <td>9</td>\n",
       "      <td>3</td>\n",
       "      <td>10</td>\n",
       "      <td>7</td>\n",
       "      <td>2</td>\n",
       "      <td>9</td>\n",
       "      <td>10</td>\n",
       "    </tr>\n",
       "    <tr>\n",
       "      <th>Neighborhood</th>\n",
       "      <td>Mission</td>\n",
       "      <td>Mission</td>\n",
       "      <td>Lower Nob Hill</td>\n",
       "      <td>Silver Terrace</td>\n",
       "      <td>Miraloma Park</td>\n",
       "      <td>Presidio Heights</td>\n",
       "      <td>Mission</td>\n",
       "      <td>Showplace Square</td>\n",
       "    </tr>\n",
       "    <tr>\n",
       "      <th>Police District</th>\n",
       "      <td>MISSION</td>\n",
       "      <td>MISSION</td>\n",
       "      <td>CENTRAL</td>\n",
       "      <td>BAYVIEW</td>\n",
       "      <td>INGLESIDE</td>\n",
       "      <td>RICHMOND</td>\n",
       "      <td>MISSION</td>\n",
       "      <td>MISSION</td>\n",
       "    </tr>\n",
       "    <tr>\n",
       "      <th>Latitude</th>\n",
       "      <td>37.7512</td>\n",
       "      <td>37.7512</td>\n",
       "      <td>37.7876</td>\n",
       "      <td>37.7334</td>\n",
       "      <td>37.7405</td>\n",
       "      <td>37.7859</td>\n",
       "      <td>37.7636</td>\n",
       "      <td>37.7667</td>\n",
       "    </tr>\n",
       "    <tr>\n",
       "      <th>Longitude</th>\n",
       "      <td>-122.407</td>\n",
       "      <td>-122.407</td>\n",
       "      <td>-122.412</td>\n",
       "      <td>-122.392</td>\n",
       "      <td>-122.448</td>\n",
       "      <td>-122.459</td>\n",
       "      <td>-122.412</td>\n",
       "      <td>-122.407</td>\n",
       "    </tr>\n",
       "    <tr>\n",
       "      <th>Point</th>\n",
       "      <td>(37.75120926, -122.40684509)</td>\n",
       "      <td>(37.75120926, -122.40684509)</td>\n",
       "      <td>(37.78764722, -122.41226304)</td>\n",
       "      <td>(37.73338699, -122.39183044)</td>\n",
       "      <td>(37.74054337, -122.44778442)</td>\n",
       "      <td>(37.78585434, -122.45884705)</td>\n",
       "      <td>(37.76357651, -122.41205597)</td>\n",
       "      <td>(37.76665115, -122.40678406)</td>\n",
       "    </tr>\n",
       "    <tr>\n",
       "      <th>Source</th>\n",
       "      <td>Phone</td>\n",
       "      <td>Phone</td>\n",
       "      <td>Mobile/Open311</td>\n",
       "      <td>Phone</td>\n",
       "      <td>Phone</td>\n",
       "      <td>Phone</td>\n",
       "      <td>Phone</td>\n",
       "      <td>Phone</td>\n",
       "    </tr>\n",
       "    <tr>\n",
       "      <th>Media URL</th>\n",
       "      <td>NaN</td>\n",
       "      <td>NaN</td>\n",
       "      <td>NaN</td>\n",
       "      <td>NaN</td>\n",
       "      <td>NaN</td>\n",
       "      <td>NaN</td>\n",
       "      <td>NaN</td>\n",
       "      <td>NaN</td>\n",
       "    </tr>\n",
       "  </tbody>\n",
       "</table>\n",
       "</div>"
      ],
      "text/plain": [
       "                                                      0      \\\n",
       "CaseID                                              8448866   \n",
       "Opened                                  2018-01-01 00:25:00   \n",
       "Closed                               01/05/2018 01:07:00 PM   \n",
       "Updated                              01/05/2018 01:07:00 PM   \n",
       "Status                                               Closed   \n",
       "Status Notes                            Case is a Duplicate   \n",
       "Responsible Agency                            DPW Ops Queue   \n",
       "Category                       Street and Sidewalk Cleaning   \n",
       "Request Type                                    Bulky Items   \n",
       "Request Details                       Boxed or Bagged Items   \n",
       "Address              2833 25TH ST, SAN FRANCISCO, CA, 94110   \n",
       "Street                                              25TH ST   \n",
       "Supervisor District                                       9   \n",
       "Neighborhood                                        Mission   \n",
       "Police District                                     MISSION   \n",
       "Latitude                                            37.7512   \n",
       "Longitude                                          -122.407   \n",
       "Point                          (37.75120926, -122.40684509)   \n",
       "Source                                                Phone   \n",
       "Media URL                                               NaN   \n",
       "\n",
       "                                                      2      \\\n",
       "CaseID                                              8448870   \n",
       "Opened                                  2018-01-01 00:28:00   \n",
       "Closed                               01/04/2018 01:15:50 PM   \n",
       "Updated                              01/04/2018 01:15:50 PM   \n",
       "Status                                               Closed   \n",
       "Status Notes              Case Resolved - Completed cleaned   \n",
       "Responsible Agency                            DPW Ops Queue   \n",
       "Category                       Street and Sidewalk Cleaning   \n",
       "Request Type                               General Cleaning   \n",
       "Request Details                         Other Loose Garbage   \n",
       "Address              2833 25TH ST, SAN FRANCISCO, CA, 94110   \n",
       "Street                                              25TH ST   \n",
       "Supervisor District                                       9   \n",
       "Neighborhood                                        Mission   \n",
       "Police District                                     MISSION   \n",
       "Latitude                                            37.7512   \n",
       "Longitude                                          -122.407   \n",
       "Point                          (37.75120926, -122.40684509)   \n",
       "Source                                                Phone   \n",
       "Media URL                                               NaN   \n",
       "\n",
       "                                                     26     \\\n",
       "CaseID                                             8448999   \n",
       "Opened                                 2018-01-01 02:55:00   \n",
       "Closed                              01/01/2018 03:31:23 AM   \n",
       "Updated                             01/01/2018 03:31:23 AM   \n",
       "Status                                              Closed   \n",
       "Status Notes                                  Area Cleared   \n",
       "Responsible Agency                           DPW Ops Queue   \n",
       "Category                                       Encampments   \n",
       "Request Type                            Encampment Reports   \n",
       "Request Details                         Encampment Cleanup   \n",
       "Address              629 POST ST, SAN FRANCISCO, CA, 94109   \n",
       "Street                                             POST ST   \n",
       "Supervisor District                                      3   \n",
       "Neighborhood                                Lower Nob Hill   \n",
       "Police District                                    CENTRAL   \n",
       "Latitude                                           37.7876   \n",
       "Longitude                                         -122.412   \n",
       "Point                         (37.78764722, -122.41226304)   \n",
       "Source                                      Mobile/Open311   \n",
       "Media URL                                              NaN   \n",
       "\n",
       "                                                                 916    \\\n",
       "CaseID                                                         8450864   \n",
       "Opened                                             2018-01-01 17:18:00   \n",
       "Closed                                          01/03/2018 06:38:00 AM   \n",
       "Updated                                         01/03/2018 06:38:00 AM   \n",
       "Status                                                          Closed   \n",
       "Status Notes         DPT Abandoned Vehicles- Gone on Arrival - 01/0...   \n",
       "Responsible Agency                   DPT Abandoned Vehicles Work Queue   \n",
       "Category                                             Abandoned Vehicle   \n",
       "Request Type                              Abandoned Vehicle - Car4door   \n",
       "Request Details                            MAROON - HONDA -  - 4WSN026   \n",
       "Address                     1721 QUESADA AVE, SAN FRANCISCO, CA, 94124   \n",
       "Street                                                     QUESADA AVE   \n",
       "Supervisor District                                                 10   \n",
       "Neighborhood                                            Silver Terrace   \n",
       "Police District                                                BAYVIEW   \n",
       "Latitude                                                       37.7334   \n",
       "Longitude                                                     -122.392   \n",
       "Point                                     (37.73338699, -122.39183044)   \n",
       "Source                                                           Phone   \n",
       "Media URL                                                          NaN   \n",
       "\n",
       "                                                                 10852  \\\n",
       "CaseID                                                         8476684   \n",
       "Opened                                             2018-01-08 08:17:00   \n",
       "Closed                                          01/10/2018 06:07:00 AM   \n",
       "Updated                                         01/10/2018 06:07:00 AM   \n",
       "Status                                                          Closed   \n",
       "Status Notes         DPT Abandoned Vehicles- Gone on Arrival - veh ...   \n",
       "Responsible Agency                   DPT Abandoned Vehicles Work Queue   \n",
       "Category                                             Abandoned Vehicle   \n",
       "Request Type                           Abandoned Vehicle - PickupTruck   \n",
       "Request Details                          MOLD GREEN - FORD -  - 72658C   \n",
       "Address                      144 MARIETTA DR, SAN FRANCISCO, CA, 94127   \n",
       "Street                                                     MARIETTA DR   \n",
       "Supervisor District                                                  7   \n",
       "Neighborhood                                             Miraloma Park   \n",
       "Police District                                              INGLESIDE   \n",
       "Latitude                                                       37.7405   \n",
       "Longitude                                                     -122.448   \n",
       "Point                                     (37.74054337, -122.44778442)   \n",
       "Source                                                           Phone   \n",
       "Media URL                                                          NaN   \n",
       "\n",
       "                                                                 23895  \\\n",
       "CaseID                                                         8511772   \n",
       "Opened                                             2018-01-16 10:44:00   \n",
       "Closed                                          01/24/2018 06:41:00 AM   \n",
       "Updated                                         01/24/2018 06:41:00 AM   \n",
       "Status                                                          Closed   \n",
       "Status Notes         DPT Abandoned Vehicles- Gone on Arrival - VEH ...   \n",
       "Responsible Agency                   DPT Abandoned Vehicles Work Queue   \n",
       "Category                                             Abandoned Vehicle   \n",
       "Request Type                                 Abandoned Vehicle - Other   \n",
       "Request Details                               yellow - VW - bus - NONE   \n",
       "Address                   3898 CALIFORNIA ST, SAN FRANCISCO, CA, 94118   \n",
       "Street                                                   CALIFORNIA ST   \n",
       "Supervisor District                                                  2   \n",
       "Neighborhood                                          Presidio Heights   \n",
       "Police District                                               RICHMOND   \n",
       "Latitude                                                       37.7859   \n",
       "Longitude                                                     -122.459   \n",
       "Point                                     (37.78585434, -122.45884705)   \n",
       "Source                                                           Phone   \n",
       "Media URL                                                          NaN   \n",
       "\n",
       "                                                                 33522  \\\n",
       "CaseID                                                         8538672   \n",
       "Opened                                             2018-01-22 15:16:00   \n",
       "Closed                                          01/26/2018 07:04:00 PM   \n",
       "Updated                                         01/26/2018 07:04:00 PM   \n",
       "Status                                                          Closed   \n",
       "Status Notes         DPT Abandoned Vehicles- Gone on Arrival - GOA ...   \n",
       "Responsible Agency                   DPT Abandoned Vehicles Work Queue   \n",
       "Category                                             Abandoned Vehicle   \n",
       "Request Type                               Abandoned Vehicle - Trailer   \n",
       "Request Details                         MULTICOLOR - FORD -  - 3TEW569   \n",
       "Address                       475 ALABAMA ST, SAN FRANCISCO, CA, 94110   \n",
       "Street                                                      ALABAMA ST   \n",
       "Supervisor District                                                  9   \n",
       "Neighborhood                                                   Mission   \n",
       "Police District                                                MISSION   \n",
       "Latitude                                                       37.7636   \n",
       "Longitude                                                     -122.412   \n",
       "Point                                     (37.76357651, -122.41205597)   \n",
       "Source                                                           Phone   \n",
       "Media URL                                                          NaN   \n",
       "\n",
       "                                                                 34751  \n",
       "CaseID                                                         8542098  \n",
       "Opened                                             2018-01-23 12:06:00  \n",
       "Closed                                          01/29/2018 12:14:00 PM  \n",
       "Updated                                         01/29/2018 12:14:00 PM  \n",
       "Status                                                          Closed  \n",
       "Status Notes         DPT Abandoned Vehicles- Gone on Arrival - veh ...  \n",
       "Responsible Agency                   DPT Abandoned Vehicles Work Queue  \n",
       "Category                                             Abandoned Vehicle  \n",
       "Request Type                                       Abandoned Vehicle -  \n",
       "Request Details                    MULTI COLO - CHEVY - VAN  - 6TIH401  \n",
       "Address                          212 UTAH ST, SAN FRANCISCO, CA, 94103  \n",
       "Street                                                         UTAH ST  \n",
       "Supervisor District                                                 10  \n",
       "Neighborhood                                          Showplace Square  \n",
       "Police District                                                MISSION  \n",
       "Latitude                                                       37.7667  \n",
       "Longitude                                                     -122.407  \n",
       "Point                                     (37.76665115, -122.40678406)  \n",
       "Source                                                           Phone  \n",
       "Media URL                                                          NaN  "
      ]
     },
     "execution_count": 25,
     "metadata": {},
     "output_type": "execute_result"
    }
   ],
   "source": [
    "Jan2018_data[Jan2018_data['CaseID'].isin([8448870,8448999,8448866,8538672,8542098,8476684,8450864,8511772])].T"
   ]
  },
  {
   "cell_type": "markdown",
   "metadata": {},
   "source": [
    "Since we are keeping `Category`, the `Request Details` appear to be too detailed for us to roll up or use in aggregation."
   ]
  },
  {
   "cell_type": "markdown",
   "metadata": {},
   "source": [
    "### 4.2 Condense Data<a id='4.1_Condense_Data'></a>"
   ]
  },
  {
   "cell_type": "markdown",
   "metadata": {},
   "source": [
    "Based on the above analysis, we should be able to reduce data by:\n",
    "  1. Converting `Media URL` to a True/False bool\n",
    "  2. Dropping columns `Address`, `Street`, `Latitude`, `Longitude`, and `point`\n",
    "  3. Drop column `Supervisor District` : we made a decision with the SF Police Incident data that this field has less relevance than `Neighborhood`\n",
    "  4. Drop columns `Updated` and `Closed` : we have the `Status` column preserving the state of the case\n",
    "  5. Drop columns `Status Notes` and `Responsible Agency`\n",
    "  6. Roll up all of the `Category` values that starts with `General Request` into one category\n",
    "  7. Roll up all of the `Request Type` values that start with certain names into one request type\n",
    "  8. Drop column `Request Details` : too high a level of granularity"
   ]
  },
  {
   "cell_type": "code",
   "execution_count": 26,
   "metadata": {},
   "outputs": [],
   "source": [
    "Jan2018_data[\"Has Media\"] = ~Jan2018_data[\"Media URL\"].isna()"
   ]
  },
  {
   "cell_type": "code",
   "execution_count": 27,
   "metadata": {},
   "outputs": [],
   "source": [
    "columns_to_drop = ['Address', 'Street', 'Latitude', 'Longitude', 'Point', 'Media URL', 'Supervisor District', 'Updated', 'Closed', 'Status Notes', 'Responsible Agency', 'Request Details']\n",
    "Jan2018_data.drop(columns=columns_to_drop, inplace=True)"
   ]
  },
  {
   "cell_type": "code",
   "execution_count": 28,
   "metadata": {},
   "outputs": [
    {
     "name": "stdout",
     "output_type": "stream",
     "text": [
      "<class 'pandas.core.frame.DataFrame'>\n",
      "RangeIndex: 47537 entries, 0 to 47536\n",
      "Data columns (total 9 columns):\n",
      " #   Column           Non-Null Count  Dtype         \n",
      "---  ------           --------------  -----         \n",
      " 0   CaseID           47537 non-null  int64         \n",
      " 1   Opened           47537 non-null  datetime64[ns]\n",
      " 2   Status           47537 non-null  object        \n",
      " 3   Category         47537 non-null  object        \n",
      " 4   Request Type     47537 non-null  object        \n",
      " 5   Neighborhood     45771 non-null  object        \n",
      " 6   Police District  45759 non-null  object        \n",
      " 7   Source           47537 non-null  object        \n",
      " 8   Has Media        47537 non-null  bool          \n",
      "dtypes: bool(1), datetime64[ns](1), int64(1), object(6)\n",
      "memory usage: 2.9+ MB\n"
     ]
    }
   ],
   "source": [
    "Jan2018_data.info()"
   ]
  },
  {
   "cell_type": "code",
   "execution_count": 29,
   "metadata": {},
   "outputs": [],
   "source": [
    "# Roll up Category values\n",
    "Jan2018_data['Category'] = Jan2018_data['Category'].apply(lambda x : re.sub(r\"General Request.*\", \"General Request\", x))"
   ]
  },
  {
   "cell_type": "code",
   "execution_count": 30,
   "metadata": {},
   "outputs": [
    {
     "data": {
      "text/plain": [
       "General Request    2388\n",
       "Name: Category, dtype: int64"
      ]
     },
     "execution_count": 30,
     "metadata": {},
     "output_type": "execute_result"
    }
   ],
   "source": [
    "Jan2018_data[Jan2018_data['Category'].str.startswith('General Request')]['Category'].value_counts()"
   ]
  },
  {
   "cell_type": "code",
   "execution_count": 31,
   "metadata": {},
   "outputs": [],
   "source": [
    "# Roll up Request Type values\n",
    "request_type_rollups = ['Construction Zone','Building','Streetlight','Sign']\n",
    "for request_type in request_type_rollups:\n",
    "    repl = r''+request_type+\".*\"\n",
    "    Jan2018_data['Request Type'] = Jan2018_data['Request Type'].apply(lambda x : re.sub(repl, request_type, x))"
   ]
  },
  {
   "cell_type": "code",
   "execution_count": 32,
   "metadata": {},
   "outputs": [
    {
     "data": {
      "text/plain": [
       "Streetlight          727\n",
       "Sign                 430\n",
       "Building             176\n",
       "Construction Zone     94\n",
       "Name: Request Type, dtype: int64"
      ]
     },
     "execution_count": 32,
     "metadata": {},
     "output_type": "execute_result"
    }
   ],
   "source": [
    "Jan2018_data[Jan2018_data['Request Type'].str.startswith(('Construction Zone','Building','Streetlight','Sign'))]['Request Type'].value_counts()"
   ]
  },
  {
   "cell_type": "code",
   "execution_count": 33,
   "metadata": {},
   "outputs": [],
   "source": [
    "# Create year-month\n",
    "Jan2018_data['Opened Year Month'] = Jan2018_data['Opened'].dt.strftime('%Y%m')"
   ]
  },
  {
   "cell_type": "code",
   "execution_count": 34,
   "metadata": {},
   "outputs": [],
   "source": [
    "# aggregated data\n",
    "cols_to_groupby = ['Opened Year Month','Source','Neighborhood','Police District','Status','Category','Request Type','Has Media']\n",
    "agg_Jan2018_data = Jan2018_data.groupby(cols_to_groupby).agg({'CaseID': 'count'})\n",
    "agg_Jan2018_data.columns = ['Case Count']\n",
    "agg_Jan2018_data = agg_Jan2018_data.reset_index()"
   ]
  },
  {
   "cell_type": "code",
   "execution_count": 35,
   "metadata": {},
   "outputs": [
    {
     "name": "stdout",
     "output_type": "stream",
     "text": [
      "<class 'pandas.core.frame.DataFrame'>\n",
      "RangeIndex: 10019 entries, 0 to 10018\n",
      "Data columns (total 9 columns):\n",
      " #   Column             Non-Null Count  Dtype \n",
      "---  ------             --------------  ----- \n",
      " 0   Opened Year Month  10019 non-null  object\n",
      " 1   Source             10019 non-null  object\n",
      " 2   Neighborhood       10019 non-null  object\n",
      " 3   Police District    10019 non-null  object\n",
      " 4   Status             10019 non-null  object\n",
      " 5   Category           10019 non-null  object\n",
      " 6   Request Type       10019 non-null  object\n",
      " 7   Has Media          10019 non-null  bool  \n",
      " 8   Case Count         10019 non-null  int64 \n",
      "dtypes: bool(1), int64(1), object(7)\n",
      "memory usage: 636.1+ KB\n"
     ]
    }
   ],
   "source": [
    "agg_Jan2018_data.info()"
   ]
  },
  {
   "cell_type": "code",
   "execution_count": 36,
   "metadata": {},
   "outputs": [
    {
     "data": {
      "text/html": [
       "<div>\n",
       "<style scoped>\n",
       "    .dataframe tbody tr th:only-of-type {\n",
       "        vertical-align: middle;\n",
       "    }\n",
       "\n",
       "    .dataframe tbody tr th {\n",
       "        vertical-align: top;\n",
       "    }\n",
       "\n",
       "    .dataframe thead th {\n",
       "        text-align: right;\n",
       "    }\n",
       "</style>\n",
       "<table border=\"1\" class=\"dataframe\">\n",
       "  <thead>\n",
       "    <tr style=\"text-align: right;\">\n",
       "      <th></th>\n",
       "      <th>Opened Year Month</th>\n",
       "      <th>Source</th>\n",
       "      <th>Neighborhood</th>\n",
       "      <th>Police District</th>\n",
       "      <th>Status</th>\n",
       "      <th>Category</th>\n",
       "      <th>Request Type</th>\n",
       "      <th>Has Media</th>\n",
       "      <th>Case Count</th>\n",
       "    </tr>\n",
       "  </thead>\n",
       "  <tbody>\n",
       "    <tr>\n",
       "      <th>2562</th>\n",
       "      <td>201801</td>\n",
       "      <td>Mobile/Open311</td>\n",
       "      <td>Mission</td>\n",
       "      <td>MISSION</td>\n",
       "      <td>Closed</td>\n",
       "      <td>Street and Sidewalk Cleaning</td>\n",
       "      <td>General Cleaning</td>\n",
       "      <td>True</td>\n",
       "      <td>578</td>\n",
       "    </tr>\n",
       "    <tr>\n",
       "      <th>2493</th>\n",
       "      <td>201801</td>\n",
       "      <td>Mobile/Open311</td>\n",
       "      <td>Mission</td>\n",
       "      <td>MISSION</td>\n",
       "      <td>Closed</td>\n",
       "      <td>Encampments</td>\n",
       "      <td>Encampment Reports</td>\n",
       "      <td>True</td>\n",
       "      <td>466</td>\n",
       "    </tr>\n",
       "    <tr>\n",
       "      <th>3734</th>\n",
       "      <td>201801</td>\n",
       "      <td>Mobile/Open311</td>\n",
       "      <td>Showplace Square</td>\n",
       "      <td>SOUTHERN</td>\n",
       "      <td>Closed</td>\n",
       "      <td>Encampments</td>\n",
       "      <td>Encampment Reports</td>\n",
       "      <td>False</td>\n",
       "      <td>433</td>\n",
       "    </tr>\n",
       "    <tr>\n",
       "      <th>2511</th>\n",
       "      <td>201801</td>\n",
       "      <td>Mobile/Open311</td>\n",
       "      <td>Mission</td>\n",
       "      <td>MISSION</td>\n",
       "      <td>Closed</td>\n",
       "      <td>Graffiti</td>\n",
       "      <td>Graffiti on Parking_meter</td>\n",
       "      <td>True</td>\n",
       "      <td>400</td>\n",
       "    </tr>\n",
       "    <tr>\n",
       "      <th>7110</th>\n",
       "      <td>201801</td>\n",
       "      <td>Phone</td>\n",
       "      <td>Portola</td>\n",
       "      <td>BAYVIEW</td>\n",
       "      <td>Closed</td>\n",
       "      <td>Street and Sidewalk Cleaning</td>\n",
       "      <td>Bulky Items</td>\n",
       "      <td>False</td>\n",
       "      <td>399</td>\n",
       "    </tr>\n",
       "  </tbody>\n",
       "</table>\n",
       "</div>"
      ],
      "text/plain": [
       "     Opened Year Month          Source      Neighborhood Police District  \\\n",
       "2562            201801  Mobile/Open311           Mission         MISSION   \n",
       "2493            201801  Mobile/Open311           Mission         MISSION   \n",
       "3734            201801  Mobile/Open311  Showplace Square        SOUTHERN   \n",
       "2511            201801  Mobile/Open311           Mission         MISSION   \n",
       "7110            201801           Phone           Portola         BAYVIEW   \n",
       "\n",
       "      Status                      Category               Request Type  \\\n",
       "2562  Closed  Street and Sidewalk Cleaning           General Cleaning   \n",
       "2493  Closed                   Encampments         Encampment Reports   \n",
       "3734  Closed                   Encampments         Encampment Reports   \n",
       "2511  Closed                      Graffiti  Graffiti on Parking_meter   \n",
       "7110  Closed  Street and Sidewalk Cleaning                Bulky Items   \n",
       "\n",
       "      Has Media  Case Count  \n",
       "2562       True         578  \n",
       "2493       True         466  \n",
       "3734      False         433  \n",
       "2511       True         400  \n",
       "7110      False         399  "
      ]
     },
     "execution_count": 36,
     "metadata": {},
     "output_type": "execute_result"
    }
   ],
   "source": [
    "agg_Jan2018_data.sort_values('Case Count',ascending=False).head()"
   ]
  },
  {
   "cell_type": "markdown",
   "metadata": {},
   "source": [
    "This looks good, so we will define a function to handle this aggregation for every month."
   ]
  },
  {
   "cell_type": "markdown",
   "metadata": {},
   "source": [
    "#### 4.2.1 Condense Data Function<a id='4.2.1_Condense_Data_Function'></a>\n",
    "\n",
    "This function will take in raw 311 monthly data and return an aggregated, condensed version."
   ]
  },
  {
   "cell_type": "code",
   "execution_count": 37,
   "metadata": {},
   "outputs": [],
   "source": [
    "def aggregate_monthly(df_monthly):\n",
    "    df_monthly['Opened'] = pd.to_datetime(df_monthly['Opened'])\n",
    "    \n",
    "    df_monthly['Has Media'] = ~df_monthly['Media URL'].isna()\n",
    "    \n",
    "    columns_to_drop = ['Address', 'Street', 'Latitude', 'Longitude', 'Point', 'Media URL', 'Supervisor District', 'Updated', 'Closed', 'Status Notes', 'Responsible Agency', 'Request Details']\n",
    "    df_monthly.drop(columns=columns_to_drop, inplace=True)\n",
    "    \n",
    "    # Roll up Category values\n",
    "    df_monthly['Category'] = df_monthly['Category'].apply(lambda x : re.sub(r\"General Request.*\", \"General Request\", x))\n",
    "    \n",
    "    # Roll up Request Type values\n",
    "    request_type_rollups = ['Construction Zone','Building','Streetlight','Sign']\n",
    "    for request_type in request_type_rollups:\n",
    "        repl = r''+request_type+\".*\"\n",
    "        df_monthly['Request Type'] = df_monthly['Request Type'].apply(lambda x : re.sub(repl, request_type, x))\n",
    "    \n",
    "    # Create year-month\n",
    "    df_monthly['Opened Year Month'] = df_monthly['Opened'].dt.strftime('%Y%m')\n",
    "    \n",
    "    # aggregated data\n",
    "    cols_to_groupby = ['Opened Year Month','Source','Neighborhood','Police District','Status','Category','Request Type','Has Media']\n",
    "    df_agg = df_monthly.groupby(cols_to_groupby).agg({'CaseID': 'count'})\n",
    "    df_agg.columns = ['Case Count']\n",
    "    df_agg = df_agg.reset_index()\n",
    "    \n",
    "    return df_agg"
   ]
  },
  {
   "cell_type": "code",
   "execution_count": 38,
   "metadata": {},
   "outputs": [],
   "source": [
    "# test the function against Jan 2018 data and we should see the same result\n",
    "df_test = aggregate_monthly( pd.read_csv('../raw_data/311_Cases_201801.csv') )"
   ]
  },
  {
   "cell_type": "code",
   "execution_count": 39,
   "metadata": {},
   "outputs": [
    {
     "name": "stdout",
     "output_type": "stream",
     "text": [
      "<class 'pandas.core.frame.DataFrame'>\n",
      "RangeIndex: 10019 entries, 0 to 10018\n",
      "Data columns (total 9 columns):\n",
      " #   Column             Non-Null Count  Dtype \n",
      "---  ------             --------------  ----- \n",
      " 0   Opened Year Month  10019 non-null  object\n",
      " 1   Source             10019 non-null  object\n",
      " 2   Neighborhood       10019 non-null  object\n",
      " 3   Police District    10019 non-null  object\n",
      " 4   Status             10019 non-null  object\n",
      " 5   Category           10019 non-null  object\n",
      " 6   Request Type       10019 non-null  object\n",
      " 7   Has Media          10019 non-null  bool  \n",
      " 8   Case Count         10019 non-null  int64 \n",
      "dtypes: bool(1), int64(1), object(7)\n",
      "memory usage: 636.1+ KB\n"
     ]
    }
   ],
   "source": [
    "df_test.info()"
   ]
  },
  {
   "cell_type": "code",
   "execution_count": 40,
   "metadata": {},
   "outputs": [
    {
     "data": {
      "text/html": [
       "<div>\n",
       "<style scoped>\n",
       "    .dataframe tbody tr th:only-of-type {\n",
       "        vertical-align: middle;\n",
       "    }\n",
       "\n",
       "    .dataframe tbody tr th {\n",
       "        vertical-align: top;\n",
       "    }\n",
       "\n",
       "    .dataframe thead th {\n",
       "        text-align: right;\n",
       "    }\n",
       "</style>\n",
       "<table border=\"1\" class=\"dataframe\">\n",
       "  <thead>\n",
       "    <tr style=\"text-align: right;\">\n",
       "      <th></th>\n",
       "      <th>Opened Year Month</th>\n",
       "      <th>Source</th>\n",
       "      <th>Neighborhood</th>\n",
       "      <th>Police District</th>\n",
       "      <th>Status</th>\n",
       "      <th>Category</th>\n",
       "      <th>Request Type</th>\n",
       "      <th>Has Media</th>\n",
       "      <th>Case Count</th>\n",
       "    </tr>\n",
       "  </thead>\n",
       "  <tbody>\n",
       "    <tr>\n",
       "      <th>2562</th>\n",
       "      <td>201801</td>\n",
       "      <td>Mobile/Open311</td>\n",
       "      <td>Mission</td>\n",
       "      <td>MISSION</td>\n",
       "      <td>Closed</td>\n",
       "      <td>Street and Sidewalk Cleaning</td>\n",
       "      <td>General Cleaning</td>\n",
       "      <td>True</td>\n",
       "      <td>578</td>\n",
       "    </tr>\n",
       "    <tr>\n",
       "      <th>2493</th>\n",
       "      <td>201801</td>\n",
       "      <td>Mobile/Open311</td>\n",
       "      <td>Mission</td>\n",
       "      <td>MISSION</td>\n",
       "      <td>Closed</td>\n",
       "      <td>Encampments</td>\n",
       "      <td>Encampment Reports</td>\n",
       "      <td>True</td>\n",
       "      <td>466</td>\n",
       "    </tr>\n",
       "    <tr>\n",
       "      <th>3734</th>\n",
       "      <td>201801</td>\n",
       "      <td>Mobile/Open311</td>\n",
       "      <td>Showplace Square</td>\n",
       "      <td>SOUTHERN</td>\n",
       "      <td>Closed</td>\n",
       "      <td>Encampments</td>\n",
       "      <td>Encampment Reports</td>\n",
       "      <td>False</td>\n",
       "      <td>433</td>\n",
       "    </tr>\n",
       "    <tr>\n",
       "      <th>2511</th>\n",
       "      <td>201801</td>\n",
       "      <td>Mobile/Open311</td>\n",
       "      <td>Mission</td>\n",
       "      <td>MISSION</td>\n",
       "      <td>Closed</td>\n",
       "      <td>Graffiti</td>\n",
       "      <td>Graffiti on Parking_meter</td>\n",
       "      <td>True</td>\n",
       "      <td>400</td>\n",
       "    </tr>\n",
       "    <tr>\n",
       "      <th>7110</th>\n",
       "      <td>201801</td>\n",
       "      <td>Phone</td>\n",
       "      <td>Portola</td>\n",
       "      <td>BAYVIEW</td>\n",
       "      <td>Closed</td>\n",
       "      <td>Street and Sidewalk Cleaning</td>\n",
       "      <td>Bulky Items</td>\n",
       "      <td>False</td>\n",
       "      <td>399</td>\n",
       "    </tr>\n",
       "  </tbody>\n",
       "</table>\n",
       "</div>"
      ],
      "text/plain": [
       "     Opened Year Month          Source      Neighborhood Police District  \\\n",
       "2562            201801  Mobile/Open311           Mission         MISSION   \n",
       "2493            201801  Mobile/Open311           Mission         MISSION   \n",
       "3734            201801  Mobile/Open311  Showplace Square        SOUTHERN   \n",
       "2511            201801  Mobile/Open311           Mission         MISSION   \n",
       "7110            201801           Phone           Portola         BAYVIEW   \n",
       "\n",
       "      Status                      Category               Request Type  \\\n",
       "2562  Closed  Street and Sidewalk Cleaning           General Cleaning   \n",
       "2493  Closed                   Encampments         Encampment Reports   \n",
       "3734  Closed                   Encampments         Encampment Reports   \n",
       "2511  Closed                      Graffiti  Graffiti on Parking_meter   \n",
       "7110  Closed  Street and Sidewalk Cleaning                Bulky Items   \n",
       "\n",
       "      Has Media  Case Count  \n",
       "2562       True         578  \n",
       "2493       True         466  \n",
       "3734      False         433  \n",
       "2511       True         400  \n",
       "7110      False         399  "
      ]
     },
     "execution_count": 40,
     "metadata": {},
     "output_type": "execute_result"
    }
   ],
   "source": [
    "df_test.sort_values('Case Count',ascending=False).head()"
   ]
  },
  {
   "cell_type": "markdown",
   "metadata": {},
   "source": [
    "Great! We are ready to load all files and combine the aggregated data."
   ]
  },
  {
   "cell_type": "markdown",
   "metadata": {},
   "source": [
    "## 5 Load All Files<a id='5_Load_All_Files'></a>"
   ]
  },
  {
   "cell_type": "code",
   "execution_count": 51,
   "metadata": {},
   "outputs": [
    {
     "name": "stdout",
     "output_type": "stream",
     "text": [
      "raw_data/311_Cases_201801.csv\n",
      "(10019, 9)\n",
      "raw_data/311_Cases_201802.csv\n",
      "(9610, 9)\n",
      "raw_data/311_Cases_201803.csv\n",
      "(10241, 9)\n",
      "raw_data/311_Cases_201804.csv\n",
      "(11667, 9)\n",
      "raw_data/311_Cases_201805.csv\n",
      "(11948, 9)\n",
      "raw_data/311_Cases_201806.csv\n",
      "(11598, 9)\n",
      "raw_data/311_Cases_201807.csv\n",
      "(11503, 9)\n",
      "raw_data/311_Cases_201808.csv\n",
      "(11850, 9)\n",
      "raw_data/311_Cases_201809.csv\n",
      "(11313, 9)\n",
      "raw_data/311_Cases_201810.csv\n",
      "(11733, 9)\n",
      "raw_data/311_Cases_201811.csv\n",
      "(10968, 9)\n",
      "raw_data/311_Cases_201812.csv\n",
      "(10779, 9)\n",
      "raw_data/311_Cases_201901.csv\n",
      "(12048, 9)\n",
      "raw_data/311_Cases_201902.csv\n",
      "(10690, 9)\n",
      "raw_data/311_Cases_201903.csv\n",
      "(11309, 9)\n",
      "raw_data/311_Cases_201904.csv\n",
      "(11422, 9)\n",
      "raw_data/311_Cases_201905.csv\n",
      "(11689, 9)\n",
      "raw_data/311_Cases_201906.csv\n",
      "(11599, 9)\n",
      "raw_data/311_Cases_201907.csv\n",
      "(11807, 9)\n",
      "raw_data/311_Cases_201908.csv\n",
      "(12181, 9)\n",
      "raw_data/311_Cases_201909.csv\n",
      "(12056, 9)\n",
      "raw_data/311_Cases_201910.csv\n",
      "(12531, 9)\n",
      "raw_data/311_Cases_201911.csv\n",
      "(11702, 9)\n",
      "raw_data/311_Cases_201912.csv\n",
      "(11596, 9)\n",
      "raw_data/311_Cases_202001.csv\n",
      "(12232, 9)\n",
      "raw_data/311_Cases_202002.csv\n",
      "(12009, 9)\n",
      "raw_data/311_Cases_202003.csv\n",
      "(11144, 9)\n",
      "raw_data/311_Cases_202004.csv\n",
      "(9152, 9)\n",
      "raw_data/311_Cases_202005.csv\n",
      "(10273, 9)\n",
      "raw_data/311_Cases_202006.csv\n",
      "(10875, 9)\n",
      "raw_data/311_Cases_202007.csv\n",
      "(11336, 9)\n",
      "raw_data/311_Cases_202008.csv\n",
      "(11866, 9)\n",
      "raw_data/311_Cases_202009.csv\n",
      "(11734, 9)\n"
     ]
    }
   ],
   "source": [
    "filename_prefix = '../raw_data/311_Cases_'\n",
    "filename_suffix = '.csv'\n",
    "\n",
    "agg_311 = pd.DataFrame()\n",
    "\n",
    "# note that we only have data up to September 2020\n",
    "for year in [2018,2019,2020]:\n",
    "    for month in range(1,13):\n",
    "        if year == 2020 and month == 10:\n",
    "            break\n",
    "        filename = filename_prefix + str(year)+str(month).zfill(2) + filename_suffix\n",
    "        monthly_311 = pd.read_csv(filename, low_memory=False)\n",
    "        print(filename)\n",
    "        agg_monthly_311 = aggregate_monthly( monthly_311 )\n",
    "        print(agg_monthly_311.shape)\n",
    "#        print(monthly_311.info())\n",
    "        agg_311 = agg_311.append( agg_monthly_311, ignore_index=True )"
   ]
  },
  {
   "cell_type": "code",
   "execution_count": 52,
   "metadata": {},
   "outputs": [
    {
     "name": "stdout",
     "output_type": "stream",
     "text": [
      "<class 'pandas.core.frame.DataFrame'>\n",
      "RangeIndex: 374480 entries, 0 to 374479\n",
      "Data columns (total 9 columns):\n",
      " #   Column             Non-Null Count   Dtype \n",
      "---  ------             --------------   ----- \n",
      " 0   Opened Year Month  374480 non-null  object\n",
      " 1   Source             374480 non-null  object\n",
      " 2   Neighborhood       374480 non-null  object\n",
      " 3   Police District    374480 non-null  object\n",
      " 4   Status             374480 non-null  object\n",
      " 5   Category           374480 non-null  object\n",
      " 6   Request Type       374480 non-null  object\n",
      " 7   Has Media          374480 non-null  bool  \n",
      " 8   Case Count         374480 non-null  int64 \n",
      "dtypes: bool(1), int64(1), object(7)\n",
      "memory usage: 23.2+ MB\n"
     ]
    }
   ],
   "source": [
    "agg_311.info()"
   ]
  },
  {
   "cell_type": "markdown",
   "metadata": {},
   "source": [
    "## 6 Save data<a id='6_Save_data'></a>\n",
    "\n",
    "We will be saving our aggregated data and the list of `Neighborhood`s to a separate location, to guard against overwriting our original data."
   ]
  },
  {
   "cell_type": "code",
   "execution_count": 53,
   "metadata": {},
   "outputs": [
    {
     "data": {
      "text/plain": [
       "(374480, 9)"
      ]
     },
     "execution_count": 53,
     "metadata": {},
     "output_type": "execute_result"
    }
   ],
   "source": [
    "agg_311.shape"
   ]
  },
  {
   "cell_type": "code",
   "execution_count": 54,
   "metadata": {},
   "outputs": [
    {
     "data": {
      "text/plain": [
       "array(['Alamo Square', 'Anza Vista', 'Apparel City',\n",
       "       'Aquatic Park / Ft. Mason', 'Ashbury Heights', 'Bayview',\n",
       "       'Bernal Heights', 'Bret Harte', 'Buena Vista',\n",
       "       'Candlestick Point SRA', 'Castro', 'Cathedral Hill', 'Cayuga',\n",
       "       'Central Waterfront', 'Chinatown', 'Civic Center', 'Cole Valley',\n",
       "       'Cow Hollow', 'Crocker Amazon', 'Dogpatch', 'Dolores Heights',\n",
       "       'Downtown / Union Square', 'Duboce Triangle', 'Eureka Valley',\n",
       "       'Excelsior', 'Fairmount', 'Financial District',\n",
       "       \"Fisherman's Wharf\", 'Forest Hill', 'Forest Knolls', 'Glen Park',\n",
       "       'Golden Gate Heights', 'Golden Gate Park', 'Haight Ashbury',\n",
       "       'Hayes Valley', 'Hunters Point', 'Ingleside', 'Inner Richmond',\n",
       "       'Inner Sunset', 'Lakeshore', 'Little Hollywood', 'Lone Mountain',\n",
       "       'Lower Haight', 'Lower Nob Hill', 'Lower Pacific Heights',\n",
       "       'Marina', 'Merced Heights', 'Mint Hill', 'Miraloma Park',\n",
       "       'Mission', 'Mission Bay', 'Mission Dolores', 'Mission Terrace',\n",
       "       'Mt. Davidson Manor', 'Nob Hill', 'Noe Valley', 'North Beach',\n",
       "       'Northern Waterfront', 'Oceanview', 'Outer Mission',\n",
       "       'Outer Richmond', 'Outer Sunset', 'Pacific Heights', 'Panhandle',\n",
       "       'Parkside', 'Parnassus Heights', 'Peralta Heights', 'Polk Gulch',\n",
       "       'Portola', 'Potrero Hill', 'Presidio Heights', 'Presidio Terrace',\n",
       "       'Produce Market', 'Rincon Hill', 'Russian Hill', 'Seacliff',\n",
       "       'Sherwood Forest', 'Showplace Square', 'Silver Terrace',\n",
       "       'South Beach', 'South of Market', 'St. Francis Wood',\n",
       "       \"St. Mary's Park\", 'Stonestown', 'Sunnydale', 'Sunnyside',\n",
       "       'Sutro Heights', 'Telegraph Hill', 'Tenderloin', 'Treasure Island',\n",
       "       'Union Street', 'University Mound', 'Upper Market',\n",
       "       'Visitacion Valley', 'West Portal', 'Western Addition',\n",
       "       'Westwood Park', 'Balboa Terrace', 'Clarendon Heights',\n",
       "       'Corona Heights', 'Diamond Heights', 'Holly Park', 'India Basin',\n",
       "       'Ingleside Terraces', 'Japantown', 'Laguna Honda', 'Lake Street',\n",
       "       'Laurel Heights / Jordan Park', 'Lincoln Park / Ft. Miley',\n",
       "       'McLaren Park', 'Merced Manor', 'Midtown Terrace',\n",
       "       'Monterey Heights', 'Parkmerced', 'Presidio National Park',\n",
       "       'Westwood Highlands', 'Yerba Buena Island'], dtype=object)"
      ]
     },
     "execution_count": 54,
     "metadata": {},
     "output_type": "execute_result"
    }
   ],
   "source": [
    "agg_311['Neighborhood'].unique()"
   ]
  },
  {
   "cell_type": "code",
   "execution_count": 55,
   "metadata": {},
   "outputs": [],
   "source": [
    "neighborhood_data = pd.DataFrame(agg_311['Neighborhood'].unique())"
   ]
  },
  {
   "cell_type": "code",
   "execution_count": 56,
   "metadata": {},
   "outputs": [
    {
     "data": {
      "text/html": [
       "<div>\n",
       "<style scoped>\n",
       "    .dataframe tbody tr th:only-of-type {\n",
       "        vertical-align: middle;\n",
       "    }\n",
       "\n",
       "    .dataframe tbody tr th {\n",
       "        vertical-align: top;\n",
       "    }\n",
       "\n",
       "    .dataframe thead th {\n",
       "        text-align: right;\n",
       "    }\n",
       "</style>\n",
       "<table border=\"1\" class=\"dataframe\">\n",
       "  <thead>\n",
       "    <tr style=\"text-align: right;\">\n",
       "      <th></th>\n",
       "      <th>Neighborhood</th>\n",
       "    </tr>\n",
       "  </thead>\n",
       "  <tbody>\n",
       "    <tr>\n",
       "      <th>0</th>\n",
       "      <td>Alamo Square</td>\n",
       "    </tr>\n",
       "    <tr>\n",
       "      <th>1</th>\n",
       "      <td>Anza Vista</td>\n",
       "    </tr>\n",
       "    <tr>\n",
       "      <th>2</th>\n",
       "      <td>Apparel City</td>\n",
       "    </tr>\n",
       "    <tr>\n",
       "      <th>3</th>\n",
       "      <td>Aquatic Park / Ft. Mason</td>\n",
       "    </tr>\n",
       "    <tr>\n",
       "      <th>4</th>\n",
       "      <td>Ashbury Heights</td>\n",
       "    </tr>\n",
       "    <tr>\n",
       "      <th>...</th>\n",
       "      <td>...</td>\n",
       "    </tr>\n",
       "    <tr>\n",
       "      <th>112</th>\n",
       "      <td>Monterey Heights</td>\n",
       "    </tr>\n",
       "    <tr>\n",
       "      <th>113</th>\n",
       "      <td>Parkmerced</td>\n",
       "    </tr>\n",
       "    <tr>\n",
       "      <th>114</th>\n",
       "      <td>Presidio National Park</td>\n",
       "    </tr>\n",
       "    <tr>\n",
       "      <th>115</th>\n",
       "      <td>Westwood Highlands</td>\n",
       "    </tr>\n",
       "    <tr>\n",
       "      <th>116</th>\n",
       "      <td>Yerba Buena Island</td>\n",
       "    </tr>\n",
       "  </tbody>\n",
       "</table>\n",
       "<p>117 rows × 1 columns</p>\n",
       "</div>"
      ],
      "text/plain": [
       "                 Neighborhood\n",
       "0                Alamo Square\n",
       "1                  Anza Vista\n",
       "2                Apparel City\n",
       "3    Aquatic Park / Ft. Mason\n",
       "4             Ashbury Heights\n",
       "..                        ...\n",
       "112          Monterey Heights\n",
       "113                Parkmerced\n",
       "114    Presidio National Park\n",
       "115        Westwood Highlands\n",
       "116        Yerba Buena Island\n",
       "\n",
       "[117 rows x 1 columns]"
      ]
     },
     "execution_count": 56,
     "metadata": {},
     "output_type": "execute_result"
    }
   ],
   "source": [
    "neighborhood_data.columns = ['Neighborhood']\n",
    "neighborhood_data"
   ]
  },
  {
   "cell_type": "code",
   "execution_count": 57,
   "metadata": {},
   "outputs": [],
   "source": [
    "datapath = '../data'\n",
    "\n",
    "# create datapath if it doesn't exist\n",
    "if not os.path.exists(datapath):\n",
    "    os.mkdir(datapath)"
   ]
  },
  {
   "cell_type": "code",
   "execution_count": 58,
   "metadata": {},
   "outputs": [],
   "source": [
    "# write aggregated data\n",
    "datapath_aggdata = os.path.join(datapath, '311_Cases_aggregated.csv')\n",
    "if not os.path.exists(datapath_aggdata):\n",
    "    agg_311.to_csv(datapath_aggdata, index=False)"
   ]
  },
  {
   "cell_type": "code",
   "execution_count": 59,
   "metadata": {},
   "outputs": [],
   "source": [
    "# write neighborhoods list\n",
    "datapath_neighborhoods = os.path.join(datapath, '311_Neighborhoods.csv')\n",
    "if not os.path.exists(datapath_neighborhoods):\n",
    "    neighborhood_data.to_csv(datapath_neighborhoods, index=False)"
   ]
  }
 ],
 "metadata": {
  "kernelspec": {
   "display_name": "Python 3",
   "language": "python",
   "name": "python3"
  },
  "language_info": {
   "codemirror_mode": {
    "name": "ipython",
    "version": 3
   },
   "file_extension": ".py",
   "mimetype": "text/x-python",
   "name": "python",
   "nbconvert_exporter": "python",
   "pygments_lexer": "ipython3",
   "version": "3.8.3"
  }
 },
 "nbformat": 4,
 "nbformat_minor": 4
}
