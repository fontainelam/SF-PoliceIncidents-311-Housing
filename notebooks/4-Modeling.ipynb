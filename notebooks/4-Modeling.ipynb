{
 "cells": [
  {
   "cell_type": "markdown",
   "metadata": {},
   "source": [
    "# 4 Modeling - Investigating San Francisco Housing Prices Through Police Incident Reports and 311 Cases<a id='Modeling'></a>"
   ]
  },
  {
   "cell_type": "markdown",
   "metadata": {},
   "source": [
    "## 1 Contents<a id='1_Contents'></a>\n",
    "* [Modeling - Investigating San Francisco Housing Prices Through Police Incident Reports and 311 Cases](#Modeling)\n",
    "  * [1 Contents](#1_Contents)\n",
    "  * [2 Introduction](#2_Introduction)\n",
    "  * [3 Imports](#3_Imports)\n",
    "  * [4 Load The Data](#4_Load_The_Data)\n",
    "  * [5 Create Train and Test Splits](#5_Create_Train_and_Test_Splits)\n",
    "    * [5.1 All data](#5.1_All_data)\n",
    "    * [5.2 Without outliers](#5.2_Without_outliers)\n",
    "  * [6 Models](#6_Models)\n",
    "    * [6.0 Dummy Model 0 - Standard Scaler, PCA, DummyRegressor](#6.0_Model_0_-_StandardScaler_PCA_DummyRegressor)\n",
    "    * [6.1 Linear Regression Models](#6.1_Linear_Regression_Models)\n",
    "      * [6.1.1 Model 1 - Standard Scaler, PCA, Linear Regression](#6.1.1_Model_1_-_StandardScaler_PCA_LinearRegression)\n",
    "      * [6.1.2 Model 2 - Robust Scaler, PCA, Linear Regression](#6.1.2_Model_2_-_RobustScaler_PCA_LinearRegression)\n",
    "      * [6.1.3 Model 3 - Min Max Scaler, PCA, Linear Regression](#6.1.3_Model_3_-_MinMaxScaler_PCA_LinearRegression)\n",
    "      * [6.1.4 Linear Regression Model Evaluation](#6.1.4_Linear_Regression_Model_Evaluation)\n",
    "      * [6.1.5 Linear Regression Models - Data Without Outliers](#6.1.5_Linear_Regression_Models-Data_Without_Outliers)\n",
    "      * [6.1.6 Linear Regression Model Evaluation - Without Outliers](#6.1.6_Linear_Regression_Model_Evaluation-Without_Outliers)\n",
    "    * [6.2 Other Regression Models](#6.2_Other_Regression_Models)\n",
    "      * [6.2.1 Model 4 - Min Max Scaler, PCA, Random Forest](#6.2.1_Model_4_-_MinMaxScaler_PCA_RandomForest)\n",
    "      * [6.2.2 Model 5 - Min Max Scaler, PCA, Ridge](#6.2.2_Model_5_-_MinMaxScaler_PCA_Ridge)\n",
    "      * [6.2.3 Model 6 - Min Max Scaler, PCA, Lasso](#6.2.3_Model_6_-_MinMaxScaler_PCA_Lasso)\n",
    "      * [6.2.4 Model 7 - Min Max Scaler, PCA, LassoLars](#6.2.4_Model_7_-_MinMaxScaler_PCA_LassoLars)\n",
    "      * [6.2.5 Model 8 - Min Max Scaler, PCA, ElasticNet](#6.2.5_Model_8_-_MinMaxScaler_PCA_ElasticNet)\n",
    "      * [6.2.6 Other Regression Model Evaluation](#6.2.6_Other_Regression_Model_Evaluation)\n",
    "    * [6.3 Experimental Models](#6.3_Experimental_Models)\n",
    "      * [6.3.1 Model 9 - Min Max Scaler, SelectKBest, Linear Regression](#6.3.1_Model_9_-_MinMaxScaler_SelectKBest_LinearRegression)\n",
    "      * [6.3.2 Model 10 - Min Max Scaler, Limited PCA, Random Forest](#6.3.2_Model_10_-_MinMaxScaler_LimitedPCA_RandomForest)\n",
    "      * [6.3.3 Experimental Model Evaluation](#6.3.3_Experimental_Model_Evaluation)\n",
    "  * [7 Conclusion](#7_Conclusion)"
   ]
  },
  {
   "cell_type": "markdown",
   "metadata": {},
   "source": [
    "## 2 Introduction<a id='2_Introduction'></a>\n",
    "\n",
    "In this notebook, we will build different machine learning models using hyperparameter tuning and compare them to determine the best model that most accurately predicts the relationship between San Francisco housing prices and police incident reports and 311 cases. \n",
    "\n",
    "We will use the file `Post_EDA_SF_Combined_SFPD_311_Housing.csv` that was created in our previous Jupyter Notebook, `2-Exploratory_Data_Analysis.ipynb`. This file contains all SF police incident reports, 311 cases, and housing sales data aggregated by month and by neighborhood, from January 2018 up to and including September 2020, wherein each row is an observation with a distinct pairing on month-year and each column represents a possible feature to be used in modelling."
   ]
  },
  {
   "cell_type": "markdown",
   "metadata": {},
   "source": [
    "## 3 Imports<a id='3_Imports'></a>"
   ]
  },
  {
   "cell_type": "code",
   "execution_count": 1,
   "metadata": {},
   "outputs": [],
   "source": [
    "import pandas as pd\n",
    "import numpy as np\n",
    "import os\n",
    "import matplotlib.pyplot as plt\n",
    "import seaborn as sns\n",
    "from sklearn import __version__ as sklearn_version\n",
    "from sklearn.decomposition import PCA\n",
    "from sklearn.model_selection import cross_validate, GridSearchCV, learning_curve\n",
    "from sklearn.preprocessing import scale, RobustScaler, StandardScaler, MinMaxScaler\n",
    "from sklearn.dummy import DummyRegressor\n",
    "from sklearn.linear_model import LinearRegression, Ridge, Lasso, LassoLars, ElasticNet\n",
    "from sklearn.ensemble import RandomForestRegressor\n",
    "from sklearn.pipeline import make_pipeline\n",
    "from sklearn.feature_selection import SelectKBest, mutual_info_regression\n",
    "from sklearn.metrics import r2_score, mean_squared_error, mean_absolute_error\n"
   ]
  },
  {
   "cell_type": "markdown",
   "metadata": {},
   "source": [
    "## 4 Load The Data<a id='4_Load_The_Data'></a>"
   ]
  },
  {
   "cell_type": "code",
   "execution_count": 2,
   "metadata": {},
   "outputs": [],
   "source": [
    "df = pd.read_csv('../data/Post_EDA_SF_Combined_SFPD_311_Housing.csv')"
   ]
  },
  {
   "cell_type": "code",
   "execution_count": 3,
   "metadata": {},
   "outputs": [
    {
     "name": "stdout",
     "output_type": "stream",
     "text": [
      "<class 'pandas.core.frame.DataFrame'>\n",
      "RangeIndex: 1188 entries, 0 to 1187\n",
      "Data columns (total 82 columns):\n",
      " #   Column                                        Non-Null Count  Dtype  \n",
      "---  ------                                        --------------  -----  \n",
      " 0   Year Month                                    1188 non-null   int64  \n",
      " 1   Neighborhood                                  1188 non-null   object \n",
      " 2   Arson                                         1188 non-null   int64  \n",
      " 3   Assault                                       1188 non-null   int64  \n",
      " 4   Burglary                                      1188 non-null   int64  \n",
      " 5   Case Closure                                  1188 non-null   int64  \n",
      " 6   Civil Sidewalks                               1188 non-null   int64  \n",
      " 7   Courtesy Report                               1188 non-null   int64  \n",
      " 8   Disorderly Conduct                            1188 non-null   int64  \n",
      " 9   Drug Offense                                  1188 non-null   int64  \n",
      " 10  Drug Violation                                1188 non-null   int64  \n",
      " 11  Embezzlement                                  1188 non-null   int64  \n",
      " 12  Family Offense                                1188 non-null   int64  \n",
      " 13  Fire Report                                   1188 non-null   int64  \n",
      " 14  Forgery And Counterfeiting                    1188 non-null   int64  \n",
      " 15  Fraud                                         1188 non-null   int64  \n",
      " 16  Gambling                                      1188 non-null   int64  \n",
      " 17  Homicide                                      1188 non-null   int64  \n",
      " 18  Human Trafficking (A), Commercial Sex Acts    1188 non-null   int64  \n",
      " 19  Human Trafficking (B), Involuntary Servitude  1188 non-null   int64  \n",
      " 20  Human Trafficking, Commercial Sex Acts        1188 non-null   int64  \n",
      " 21  Larceny Theft                                 1188 non-null   int64  \n",
      " 22  Liquor Laws                                   1188 non-null   int64  \n",
      " 23  Lost Property                                 1188 non-null   int64  \n",
      " 24  Malicious Mischief                            1188 non-null   int64  \n",
      " 25  Miscellaneous Investigation                   1188 non-null   int64  \n",
      " 26  Missing Person                                1188 non-null   int64  \n",
      " 27  Motor Vehicle Theft                           1188 non-null   int64  \n",
      " 28  Motor Vehicle Theft?                          1188 non-null   int64  \n",
      " 29  Non-Criminal                                  1188 non-null   int64  \n",
      " 30  Offences Against The Family And Children      1188 non-null   int64  \n",
      " 31  Other                                         1188 non-null   int64  \n",
      " 32  Other Miscellaneous                           1188 non-null   int64  \n",
      " 33  Other Offenses                                1188 non-null   int64  \n",
      " 34  Prostitution                                  1188 non-null   int64  \n",
      " 35  Rape                                          1188 non-null   int64  \n",
      " 36  Recovered Vehicle                             1188 non-null   int64  \n",
      " 37  Robbery                                       1188 non-null   int64  \n",
      " 38  Sex Offense                                   1188 non-null   int64  \n",
      " 39  Stolen Property                               1188 non-null   int64  \n",
      " 40  Suicide                                       1188 non-null   int64  \n",
      " 41  Suspicious                                    1188 non-null   int64  \n",
      " 42  Suspicious Occ                                1188 non-null   int64  \n",
      " 43  Traffic Collision                             1188 non-null   int64  \n",
      " 44  Traffic Violation Arrest                      1188 non-null   int64  \n",
      " 45  Vandalism                                     1188 non-null   int64  \n",
      " 46  Vehicle Impounded                             1188 non-null   int64  \n",
      " 47  Vehicle Misplaced                             1188 non-null   int64  \n",
      " 48  Warrant                                       1188 non-null   int64  \n",
      " 49  Weapons Carrying Etc                          1188 non-null   int64  \n",
      " 50  Weapons Offence                               1188 non-null   int64  \n",
      " 51  Weapons Offense                               1188 non-null   int64  \n",
      " 52  311 External Request                          1188 non-null   int64  \n",
      " 53  Abandoned Vehicle                             1188 non-null   int64  \n",
      " 54  Blocked Street or SideWalk                    1188 non-null   int64  \n",
      " 55  Catch Basin Maintenance                       1188 non-null   int64  \n",
      " 56  Color Curb                                    1188 non-null   int64  \n",
      " 57  DPW Volunteer Programs                        1188 non-null   int64  \n",
      " 58  Damaged Property                              1188 non-null   int64  \n",
      " 59  Encampments                                   1188 non-null   int64  \n",
      " 60  General Request                               1188 non-null   int64  \n",
      " 61  Graffiti                                      1188 non-null   int64  \n",
      " 62  Homeless Concerns                             1188 non-null   int64  \n",
      " 63  Illegal Postings                              1188 non-null   int64  \n",
      " 64  Litter Receptacles                            1188 non-null   int64  \n",
      " 65  MUNI Feedback                                 1188 non-null   int64  \n",
      " 66  Muni Employee Feedback                        1188 non-null   int64  \n",
      " 67  Muni Service Feedback                         1188 non-null   int64  \n",
      " 68  Noise Report                                  1188 non-null   int64  \n",
      " 69  Parking Enforcement                           1188 non-null   int64  \n",
      " 70  Rec and Park Requests                         1188 non-null   int64  \n",
      " 71  Residential Building Request                  1188 non-null   int64  \n",
      " 72  SFHA Requests                                 1188 non-null   int64  \n",
      " 73  Sewer Issues                                  1188 non-null   int64  \n",
      " 74  Sidewalk or Curb                              1188 non-null   int64  \n",
      " 75  Sign Repair                                   1188 non-null   int64  \n",
      " 76  Street Defects                                1188 non-null   int64  \n",
      " 77  Street and Sidewalk Cleaning                  1188 non-null   int64  \n",
      " 78  Streetlights                                  1188 non-null   int64  \n",
      " 79  Temporary Sign Request                        1188 non-null   int64  \n",
      " 80  Tree Maintenance                              1188 non-null   int64  \n",
      " 81  Median Sale Price                             1188 non-null   float64\n",
      "dtypes: float64(1), int64(80), object(1)\n",
      "memory usage: 761.2+ KB\n"
     ]
    }
   ],
   "source": [
    "df.info()"
   ]
  },
  {
   "cell_type": "markdown",
   "metadata": {},
   "source": [
    "## 5 Create Train and Test Splits<a id='5_Create_Train_and_Test_Splits'></a>"
   ]
  },
  {
   "cell_type": "markdown",
   "metadata": {},
   "source": [
    "### 5.1 All data<a id='5.1_All_data'></a>\n",
    "\n",
    "In our previous notebook `3-Preprocessing_and_Training.ipynb`, we manually created the train and test splits so as to avoid data leakage.\n",
    "\n",
    "Here, we will split out 85% of the data into the training set, leaving 15% of the data in the test set."
   ]
  },
  {
   "cell_type": "code",
   "execution_count": 4,
   "metadata": {},
   "outputs": [
    {
     "name": "stdout",
     "output_type": "stream",
     "text": [
      "Earliest date: 201801 Latest date: 202009 Number of months: 33\n"
     ]
    }
   ],
   "source": [
    "# Look at how many months of data we have\n",
    "print('Earliest date:',df['Year Month'].min(), 'Latest date:', df['Year Month'].max(), 'Number of months:', len(df['Year Month'].unique()))"
   ]
  },
  {
   "cell_type": "code",
   "execution_count": 5,
   "metadata": {},
   "outputs": [],
   "source": [
    "# We will split the data with 28 months in train and 5 months in test, approx 85/15 train/test split\n",
    "train = df[df['Year Month'] < 202005]\n",
    "test = df[df['Year Month'] >= 202005]"
   ]
  },
  {
   "cell_type": "code",
   "execution_count": 6,
   "metadata": {},
   "outputs": [
    {
     "data": {
      "text/plain": [
       "((1008, 82), (180, 82))"
      ]
     },
     "execution_count": 6,
     "metadata": {},
     "output_type": "execute_result"
    }
   ],
   "source": [
    "train.shape, test.shape"
   ]
  },
  {
   "cell_type": "markdown",
   "metadata": {},
   "source": [
    "We will set X to be all the features, and y to be the Median Sale Prince __in thousands of $__."
   ]
  },
  {
   "cell_type": "code",
   "execution_count": 7,
   "metadata": {},
   "outputs": [],
   "source": [
    "X_train = train.drop(columns='Median Sale Price')\n",
    "X_test = test.drop(columns='Median Sale Price')\n",
    "y_train = train['Median Sale Price'] / 1000\n",
    "y_test = test['Median Sale Price'] / 1000"
   ]
  },
  {
   "cell_type": "code",
   "execution_count": 8,
   "metadata": {},
   "outputs": [
    {
     "data": {
      "text/plain": [
       "((1008, 81), (180, 81))"
      ]
     },
     "execution_count": 8,
     "metadata": {},
     "output_type": "execute_result"
    }
   ],
   "source": [
    "X_train.shape, X_test.shape"
   ]
  },
  {
   "cell_type": "code",
   "execution_count": 9,
   "metadata": {},
   "outputs": [
    {
     "data": {
      "text/plain": [
       "((1008,), (180,))"
      ]
     },
     "execution_count": 9,
     "metadata": {},
     "output_type": "execute_result"
    }
   ],
   "source": [
    "y_train.shape, y_test.shape"
   ]
  },
  {
   "cell_type": "code",
   "execution_count": 10,
   "metadata": {},
   "outputs": [
    {
     "data": {
      "text/plain": [
       "((1008, 79), (180, 79))"
      ]
     },
     "execution_count": 10,
     "metadata": {},
     "output_type": "execute_result"
    }
   ],
   "source": [
    "# Save the 'Year Month' and 'Neighborhood' columns from the train/test data into ids_train and ids_test\n",
    "# and drop these from 'X_train' and 'X_test'\n",
    "ids_list = ['Year Month', 'Neighborhood']\n",
    "ids_train = X_train[ids_list]\n",
    "ids_test = X_test[ids_list]\n",
    "X_train.drop(columns=ids_list, inplace=True)\n",
    "X_test.drop(columns=ids_list, inplace=True)\n",
    "X_train.shape, X_test.shape"
   ]
  },
  {
   "cell_type": "markdown",
   "metadata": {},
   "source": [
    "### 5.2 Without outliers<a id='5.2_Without_outliers'></a>\n",
    "\n",
    "In our previous notebook `3-Preprocessing_and_Training.ipynb`, we noticed that we had some features that distorted the shape and scale of the distribution; namely: Street and Sidewalk Cleaning, Graffiti, and Encampments. \n",
    "\n",
    "Let's also create a train and test split on the data without those specific features."
   ]
  },
  {
   "cell_type": "code",
   "execution_count": 11,
   "metadata": {},
   "outputs": [
    {
     "data": {
      "image/png": "[encoded data removed]",
      "text/plain": [
       "<Figure size 1152x2160 with 1 Axes>"
      ]
     },
     "metadata": {
      "needs_background": "light"
     },
     "output_type": "display_data"
    }
   ],
   "source": [
    "# Plot the features of X_train\n",
    "f, ax = plt.subplots(figsize=(16,30))\n",
    "g = sns.boxplot(data=X_train, orient='h')"
   ]
  },
  {
   "cell_type": "code",
   "execution_count": 12,
   "metadata": {},
   "outputs": [],
   "source": [
    "df_wo_outliers = df.drop(columns=['Street and Sidewalk Cleaning','Graffiti','Encampments'])"
   ]
  },
  {
   "cell_type": "markdown",
   "metadata": {},
   "source": [
    "Again, we will split out 85% of the data into the training set, leaving 15% of the data in the test set."
   ]
  },
  {
   "cell_type": "code",
   "execution_count": 13,
   "metadata": {},
   "outputs": [],
   "source": [
    "# We will split the data with 28 months in train and 5 months in test, approx 85/15 train/test split\n",
    "train_wo_outliers = df_wo_outliers[df_wo_outliers['Year Month'] < 202005]\n",
    "test_wo_outliers = df_wo_outliers[df_wo_outliers['Year Month'] >= 202005]"
   ]
  },
  {
   "cell_type": "code",
   "execution_count": 14,
   "metadata": {},
   "outputs": [
    {
     "data": {
      "text/plain": [
       "((1008, 79), (180, 79))"
      ]
     },
     "execution_count": 14,
     "metadata": {},
     "output_type": "execute_result"
    }
   ],
   "source": [
    "train_wo_outliers.shape, test_wo_outliers.shape"
   ]
  },
  {
   "cell_type": "markdown",
   "metadata": {},
   "source": [
    "We will set X to be all the features, and y to be the Median Sale Prince __in thousands of $__."
   ]
  },
  {
   "cell_type": "code",
   "execution_count": 15,
   "metadata": {},
   "outputs": [],
   "source": [
    "X_train_wo_outliers = train_wo_outliers.drop(columns='Median Sale Price')\n",
    "X_test_wo_outliers = test_wo_outliers.drop(columns='Median Sale Price')\n",
    "y_train_wo_outliers = train_wo_outliers['Median Sale Price'] / 1000\n",
    "y_test_wo_outliers = test_wo_outliers['Median Sale Price'] / 1000"
   ]
  },
  {
   "cell_type": "code",
   "execution_count": 16,
   "metadata": {},
   "outputs": [
    {
     "data": {
      "text/plain": [
       "((1008, 78), (180, 78))"
      ]
     },
     "execution_count": 16,
     "metadata": {},
     "output_type": "execute_result"
    }
   ],
   "source": [
    "X_train_wo_outliers.shape, X_test_wo_outliers.shape"
   ]
  },
  {
   "cell_type": "code",
   "execution_count": 17,
   "metadata": {},
   "outputs": [
    {
     "data": {
      "text/plain": [
       "((1008,), (180,))"
      ]
     },
     "execution_count": 17,
     "metadata": {},
     "output_type": "execute_result"
    }
   ],
   "source": [
    "y_train_wo_outliers.shape, y_test_wo_outliers.shape"
   ]
  },
  {
   "cell_type": "code",
   "execution_count": 18,
   "metadata": {},
   "outputs": [
    {
     "data": {
      "text/plain": [
       "((1008, 76), (180, 76))"
      ]
     },
     "execution_count": 18,
     "metadata": {},
     "output_type": "execute_result"
    }
   ],
   "source": [
    "# Save the 'Year Month' and 'Neighborhood' columns from the train/test data into ids_train and ids_test\n",
    "# and drop these from 'X_train' and 'X_test'\n",
    "ids_list = ['Year Month', 'Neighborhood']\n",
    "ids_train_wo_outliers = X_train_wo_outliers[ids_list]\n",
    "ids_test_wo_outliers = X_test_wo_outliers[ids_list]\n",
    "X_train_wo_outliers.drop(columns=ids_list, inplace=True)\n",
    "X_test_wo_outliers.drop(columns=ids_list, inplace=True)\n",
    "X_train_wo_outliers.shape, X_test_wo_outliers.shape"
   ]
  },
  {
   "cell_type": "markdown",
   "metadata": {},
   "source": [
    "## 6 Models<a id='6_Models'></a>\n",
    "\n",
    "We're ready to create and evaluate some models. In order to do this, for each model, we will create a pipeline, then pass it into `GridSearchCV` to determine our optimal parameters for that model.\n",
    "\n",
    "Each pipeline will consist of:\n",
    "  * scaler: since our features contain numbers that vary by orders of magniture, we must scale them in preparation for PCA\n",
    "  * dimensionality reducer (i.e. PCA, SelectKBest) : reduce dimensionality of the data or selectively choose features\n",
    "  * regressor: our prediction component\n",
    "  \n",
    "We will use the default `GridSearchCV` scoring mechanism, which, for regression, is `r2_score`.\n",
    "\n",
    "We will also run the models against "
   ]
  },
  {
   "cell_type": "code",
   "execution_count": 19,
   "metadata": {},
   "outputs": [],
   "source": [
    "# define a model evaluation method: pass in a list of models, a descriptor, \n",
    "def print_model_evaluation(models, descriptor, starting_model_num=1, X_test_set=X_test, y_test_set=y_test):\n",
    "    print(' '*(len(descriptor)+1) + \"          R2(train)  R2(test)   MAE          SQRT(MSE)\")\n",
    "    for i, model in enumerate(models, start=starting_model_num):\n",
    "        y_pred = model.best_estimator_.predict(X_test_set)\n",
    "        print(\"{} Model {}:  {:0.6f}   {:0.6f}   {:0,.6f}   {:0,.6f}\".format(\n",
    "            descriptor,\n",
    "            i, \n",
    "            model.best_score_, \n",
    "            r2_score(y_test_set, y_pred), \n",
    "            mean_absolute_error(y_test_set, y_pred), \n",
    "            (mean_squared_error(y_test_set, y_pred))**0.5))"
   ]
  },
  {
   "cell_type": "markdown",
   "metadata": {},
   "source": [
    "### 6.0 Dummy Model 0 - Standard Scaler, PCA, DummyRegressor<a id='6.0_Model_0_-_StandardScaler_PCA_DummyRegressor'></a>\n",
    "\n",
    "Let's find a baseline with a `DummyRegressor`. In our previous notebook `3-Preprocessing_and_Training.ipynb`, we determined that when PCA n_components=4, 91.5% of the variance is already explained."
   ]
  },
  {
   "cell_type": "code",
   "execution_count": 20,
   "metadata": {},
   "outputs": [
    {
     "data": {
      "text/plain": [
       "dict_keys(['memory', 'steps', 'verbose', 'standardscaler', 'pca', 'dummyregressor', 'standardscaler__copy', 'standardscaler__with_mean', 'standardscaler__with_std', 'pca__copy', 'pca__iterated_power', 'pca__n_components', 'pca__random_state', 'pca__svd_solver', 'pca__tol', 'pca__whiten', 'dummyregressor__constant', 'dummyregressor__quantile', 'dummyregressor__strategy'])"
      ]
     },
     "execution_count": 20,
     "metadata": {},
     "output_type": "execute_result"
    }
   ],
   "source": [
    "pipe_0 = make_pipeline(\n",
    "    StandardScaler(), \n",
    "    PCA(n_components=4, random_state=42),\n",
    "    DummyRegressor() )\n",
    "pipe_0.get_params().keys()"
   ]
  },
  {
   "cell_type": "code",
   "execution_count": 21,
   "metadata": {},
   "outputs": [
    {
     "data": {
      "text/plain": [
       "GridSearchCV(cv=5,\n",
       "             estimator=Pipeline(steps=[('standardscaler', StandardScaler()),\n",
       "                                       ('pca',\n",
       "                                        PCA(n_components=4, random_state=42)),\n",
       "                                       ('dummyregressor', DummyRegressor())]),\n",
       "             param_grid={'dummyregressor__strategy': ['mean', 'median']})"
      ]
     },
     "execution_count": 21,
     "metadata": {},
     "output_type": "execute_result"
    }
   ],
   "source": [
    "param_grid_0 = {'dummyregressor__strategy': ['mean','median']}\n",
    "model_0 = GridSearchCV(pipe_0, param_grid_0, cv=5)\n",
    "model_0.fit(X_train, y_train)"
   ]
  },
  {
   "cell_type": "code",
   "execution_count": 22,
   "metadata": {
    "scrolled": false
   },
   "outputs": [
    {
     "name": "stdout",
     "output_type": "stream",
     "text": [
      "Model 0: Best Score: -0.0014654209162468846\n",
      "Model 0: Best Parameters: {'dummyregressor__strategy': 'mean'}\n"
     ]
    }
   ],
   "source": [
    "print(\"Model 0: Best Score: \" + str(model_0.best_score_))\n",
    "print(\"Model 0: Best Parameters: \" + str(model_0.best_params_))"
   ]
  },
  {
   "cell_type": "code",
   "execution_count": 23,
   "metadata": {},
   "outputs": [
    {
     "name": "stdout",
     "output_type": "stream",
     "text": [
      "                R2(train)  R2(test)   MAE          SQRT(MSE)\n",
      "Dummy Model 0:  -0.001465   -0.000054   366.071097   453.689118\n"
     ]
    }
   ],
   "source": [
    "print_model_evaluation([model_0], 'Dummy', 0)"
   ]
  },
  {
   "cell_type": "markdown",
   "metadata": {},
   "source": [
    "### 6.1 Linear Regression Models<a id='6.1_Linear_Regression_Models'></a>\n",
    "\n",
    "We will first compare different pipelines that use `LinearRegression`."
   ]
  },
  {
   "cell_type": "markdown",
   "metadata": {},
   "source": [
    "#### 6.1.1 Model 1 - Standard Scaler, PCA, Linear Regression<a id='6.1.1_Model_1_-_StandardScaler_PCA_LinearRegression'></a>\n",
    "\n",
    "Our first model uses a basic pipeline consisting of `StandardScaler`, `PCA`, and `LinearRegression`."
   ]
  },
  {
   "cell_type": "code",
   "execution_count": 24,
   "metadata": {},
   "outputs": [
    {
     "data": {
      "text/plain": [
       "dict_keys(['memory', 'steps', 'verbose', 'standardscaler', 'pca', 'linearregression', 'standardscaler__copy', 'standardscaler__with_mean', 'standardscaler__with_std', 'pca__copy', 'pca__iterated_power', 'pca__n_components', 'pca__random_state', 'pca__svd_solver', 'pca__tol', 'pca__whiten', 'linearregression__copy_X', 'linearregression__fit_intercept', 'linearregression__n_jobs', 'linearregression__normalize'])"
      ]
     },
     "execution_count": 24,
     "metadata": {},
     "output_type": "execute_result"
    }
   ],
   "source": [
    "pipe_1 = make_pipeline(\n",
    "    StandardScaler(), \n",
    "    PCA(random_state=42),\n",
    "    LinearRegression() )\n",
    "pipe_1.get_params().keys()"
   ]
  },
  {
   "cell_type": "code",
   "execution_count": 25,
   "metadata": {},
   "outputs": [
    {
     "data": {
      "text/plain": [
       "GridSearchCV(cv=5,\n",
       "             estimator=Pipeline(steps=[('standardscaler', StandardScaler()),\n",
       "                                       ('pca', PCA(random_state=42)),\n",
       "                                       ('linearregression',\n",
       "                                        LinearRegression())]),\n",
       "             param_grid={'pca__n_components': array([ 4,  5,  6,  7,  8,  9, 10, 11, 12, 13, 14, 15, 16, 17, 18, 19])})"
      ]
     },
     "execution_count": 25,
     "metadata": {},
     "output_type": "execute_result"
    }
   ],
   "source": [
    "param_grid_1 = {'pca__n_components': np.arange(4,20)}\n",
    "model_1 = GridSearchCV(pipe_1, param_grid_1, cv=5)\n",
    "model_1.fit(X_train, y_train)"
   ]
  },
  {
   "cell_type": "code",
   "execution_count": 26,
   "metadata": {
    "scrolled": false
   },
   "outputs": [
    {
     "name": "stdout",
     "output_type": "stream",
     "text": [
      "Model 1: Best Score: 0.2376077027842245\n",
      "Model 1: Best Parameters: {'pca__n_components': 17}\n"
     ]
    }
   ],
   "source": [
    "print(\"Model 1: Best Score: \" + str(model_1.best_score_))\n",
    "print(\"Model 1: Best Parameters: \" + str(model_1.best_params_))"
   ]
  },
  {
   "cell_type": "markdown",
   "metadata": {},
   "source": [
    "#### 6.1.2 Model 2 - Robust Scaler, PCA, Linear Regression<a id='6.1.2_Model_2_-_RobustScaler_PCA_LinearRegression'></a>\n",
    "\n",
    "Our second model will try to improve on the first by switching out the `StandardScaler` for the `RobustScaler`."
   ]
  },
  {
   "cell_type": "code",
   "execution_count": 27,
   "metadata": {},
   "outputs": [
    {
     "data": {
      "text/plain": [
       "dict_keys(['memory', 'steps', 'verbose', 'robustscaler', 'pca', 'linearregression', 'robustscaler__copy', 'robustscaler__quantile_range', 'robustscaler__with_centering', 'robustscaler__with_scaling', 'pca__copy', 'pca__iterated_power', 'pca__n_components', 'pca__random_state', 'pca__svd_solver', 'pca__tol', 'pca__whiten', 'linearregression__copy_X', 'linearregression__fit_intercept', 'linearregression__n_jobs', 'linearregression__normalize'])"
      ]
     },
     "execution_count": 27,
     "metadata": {},
     "output_type": "execute_result"
    }
   ],
   "source": [
    "pipe_2 = make_pipeline(\n",
    "    RobustScaler(), \n",
    "    PCA(random_state=42),\n",
    "    LinearRegression() )\n",
    "pipe_2.get_params().keys()"
   ]
  },
  {
   "cell_type": "code",
   "execution_count": 28,
   "metadata": {},
   "outputs": [
    {
     "data": {
      "text/plain": [
       "GridSearchCV(cv=5,\n",
       "             estimator=Pipeline(steps=[('robustscaler', RobustScaler()),\n",
       "                                       ('pca', PCA(random_state=42)),\n",
       "                                       ('linearregression',\n",
       "                                        LinearRegression())]),\n",
       "             param_grid={'pca__n_components': array([ 4,  5,  6,  7,  8,  9, 10, 11, 12, 13, 14, 15, 16, 17, 18, 19])})"
      ]
     },
     "execution_count": 28,
     "metadata": {},
     "output_type": "execute_result"
    }
   ],
   "source": [
    "param_grid_2 = {'pca__n_components': np.arange(4,20)}\n",
    "model_2 = GridSearchCV(pipe_2, param_grid_2, cv=5)\n",
    "model_2.fit(X_train, y_train)"
   ]
  },
  {
   "cell_type": "code",
   "execution_count": 29,
   "metadata": {
    "scrolled": true
   },
   "outputs": [
    {
     "name": "stdout",
     "output_type": "stream",
     "text": [
      "Model 2: Best Score: 0.26785265231223887\n",
      "Model 2: Best Parameters: {'pca__n_components': 17}\n"
     ]
    }
   ],
   "source": [
    "print(\"Model 2: Best Score: \" + str(model_2.best_score_))\n",
    "print(\"Model 2: Best Parameters: \" + str(model_2.best_params_))"
   ]
  },
  {
   "cell_type": "markdown",
   "metadata": {},
   "source": [
    "#### 6.1.3 Model 3 - Min Max Scaler, PCA, Linear Regression<a id='6.1.3_Model_3_-_MinMaxScaler_PCA_LinearRegression'></a>\n",
    "\n",
    "Our third model will try to improve on the second by switching out the `RobustScaler` for the `MinMaxScaler`."
   ]
  },
  {
   "cell_type": "code",
   "execution_count": 30,
   "metadata": {},
   "outputs": [
    {
     "data": {
      "text/plain": [
       "dict_keys(['memory', 'steps', 'verbose', 'minmaxscaler', 'pca', 'linearregression', 'minmaxscaler__copy', 'minmaxscaler__feature_range', 'pca__copy', 'pca__iterated_power', 'pca__n_components', 'pca__random_state', 'pca__svd_solver', 'pca__tol', 'pca__whiten', 'linearregression__copy_X', 'linearregression__fit_intercept', 'linearregression__n_jobs', 'linearregression__normalize'])"
      ]
     },
     "execution_count": 30,
     "metadata": {},
     "output_type": "execute_result"
    }
   ],
   "source": [
    "pipe_3 = make_pipeline(\n",
    "    MinMaxScaler(), \n",
    "    PCA(random_state=42),\n",
    "    LinearRegression() )\n",
    "pipe_3.get_params().keys()"
   ]
  },
  {
   "cell_type": "code",
   "execution_count": 31,
   "metadata": {},
   "outputs": [
    {
     "data": {
      "text/plain": [
       "GridSearchCV(cv=5,\n",
       "             estimator=Pipeline(steps=[('minmaxscaler', MinMaxScaler()),\n",
       "                                       ('pca', PCA(random_state=42)),\n",
       "                                       ('linearregression',\n",
       "                                        LinearRegression())]),\n",
       "             param_grid={'pca__n_components': array([ 4,  5,  6,  7,  8,  9, 10, 11, 12, 13, 14, 15, 16, 17, 18, 19])})"
      ]
     },
     "execution_count": 31,
     "metadata": {},
     "output_type": "execute_result"
    }
   ],
   "source": [
    "param_grid_3 = {'pca__n_components': np.arange(4,20)}\n",
    "model_3 = GridSearchCV(pipe_3, param_grid_3, cv=5)\n",
    "model_3.fit(X_train, y_train)"
   ]
  },
  {
   "cell_type": "code",
   "execution_count": 32,
   "metadata": {
    "scrolled": true
   },
   "outputs": [
    {
     "name": "stdout",
     "output_type": "stream",
     "text": [
      "Model 3: Best Score: 0.28029558743141003\n",
      "Model 3: Best Parameters: {'pca__n_components': 19}\n"
     ]
    }
   ],
   "source": [
    "print(\"Model 3: Best Score: \" + str(model_3.best_score_))\n",
    "print(\"Model 3: Best Parameters: \" + str(model_3.best_params_))"
   ]
  },
  {
   "cell_type": "markdown",
   "metadata": {},
   "source": [
    "#### 6.1.4 Linear Regression Model Evaluation<a id='6.1.4_Linear_Regression_Model_Evaluation'></a>\n",
    "\n",
    "Let's evaluate the above models, comparing the different scalers."
   ]
  },
  {
   "cell_type": "code",
   "execution_count": 33,
   "metadata": {},
   "outputs": [
    {
     "name": "stdout",
     "output_type": "stream",
     "text": [
      "                            R2(train)  R2(test)   MAE          SQRT(MSE)\n",
      "Linear Regression Model 1:  0.237608   0.273431   291.680729   386.709726\n",
      "Linear Regression Model 2:  0.267853   0.239206   298.509300   395.712791\n",
      "Linear Regression Model 3:  0.280296   0.290939   282.675887   382.022059\n"
     ]
    }
   ],
   "source": [
    "lin_reg_models = [model_1, model_2, model_3]\n",
    "print_model_evaluation(lin_reg_models, 'Linear Regression', 1)"
   ]
  },
  {
   "cell_type": "markdown",
   "metadata": {},
   "source": [
    "It appears that `model_3`, which uses `MinMaxScaler`, produces the best results. However, none of these model evaluation metrics look particularly good. Let's try using these same models on the data without outliers to see if that produces better results."
   ]
  },
  {
   "cell_type": "markdown",
   "metadata": {},
   "source": [
    "#### 6.1.5 Linear Regression Models - Data Without Outliers<a id='6.1.5_Linear_Regression_Models-Data_Without_Outliers'></a>\n",
    "\n",
    "Let's run the above models, but on the data without outliers."
   ]
  },
  {
   "cell_type": "code",
   "execution_count": 34,
   "metadata": {},
   "outputs": [
    {
     "data": {
      "text/plain": [
       "GridSearchCV(cv=5,\n",
       "             estimator=Pipeline(steps=[('standardscaler', StandardScaler()),\n",
       "                                       ('pca', PCA(random_state=42)),\n",
       "                                       ('linearregression',\n",
       "                                        LinearRegression())]),\n",
       "             param_grid={'pca__n_components': array([ 4,  5,  6,  7,  8,  9, 10, 11, 12, 13, 14, 15, 16, 17, 18, 19])})"
      ]
     },
     "execution_count": 34,
     "metadata": {},
     "output_type": "execute_result"
    }
   ],
   "source": [
    "model_1.fit(X_train_wo_outliers, y_train_wo_outliers)"
   ]
  },
  {
   "cell_type": "code",
   "execution_count": 35,
   "metadata": {
    "scrolled": false
   },
   "outputs": [
    {
     "name": "stdout",
     "output_type": "stream",
     "text": [
      "Model 1 - Without Outliers: Best Score: 0.2255374236724082\n",
      "Model 1 - Without Outliers: Best Parameters: {'pca__n_components': 18}\n"
     ]
    }
   ],
   "source": [
    "print(\"Model 1 - Without Outliers: Best Score: \" + str(model_1.best_score_))\n",
    "print(\"Model 1 - Without Outliers: Best Parameters: \" + str(model_1.best_params_))"
   ]
  },
  {
   "cell_type": "code",
   "execution_count": 36,
   "metadata": {},
   "outputs": [
    {
     "data": {
      "text/plain": [
       "GridSearchCV(cv=5,\n",
       "             estimator=Pipeline(steps=[('robustscaler', RobustScaler()),\n",
       "                                       ('pca', PCA(random_state=42)),\n",
       "                                       ('linearregression',\n",
       "                                        LinearRegression())]),\n",
       "             param_grid={'pca__n_components': array([ 4,  5,  6,  7,  8,  9, 10, 11, 12, 13, 14, 15, 16, 17, 18, 19])})"
      ]
     },
     "execution_count": 36,
     "metadata": {},
     "output_type": "execute_result"
    }
   ],
   "source": [
    "model_2.fit(X_train_wo_outliers, y_train_wo_outliers)"
   ]
  },
  {
   "cell_type": "code",
   "execution_count": 37,
   "metadata": {
    "scrolled": true
   },
   "outputs": [
    {
     "name": "stdout",
     "output_type": "stream",
     "text": [
      "Model 2 - Without Outliers: Best Score: 0.2612535139441946\n",
      "Model 2 - Without Outliers: Best Parameters: {'pca__n_components': 18}\n"
     ]
    }
   ],
   "source": [
    "print(\"Model 2 - Without Outliers: Best Score: \" + str(model_2.best_score_))\n",
    "print(\"Model 2 - Without Outliers: Best Parameters: \" + str(model_2.best_params_))"
   ]
  },
  {
   "cell_type": "code",
   "execution_count": 38,
   "metadata": {},
   "outputs": [
    {
     "data": {
      "text/plain": [
       "GridSearchCV(cv=5,\n",
       "             estimator=Pipeline(steps=[('minmaxscaler', MinMaxScaler()),\n",
       "                                       ('pca', PCA(random_state=42)),\n",
       "                                       ('linearregression',\n",
       "                                        LinearRegression())]),\n",
       "             param_grid={'pca__n_components': array([ 4,  5,  6,  7,  8,  9, 10, 11, 12, 13, 14, 15, 16, 17, 18, 19])})"
      ]
     },
     "execution_count": 38,
     "metadata": {},
     "output_type": "execute_result"
    }
   ],
   "source": [
    "model_3.fit(X_train_wo_outliers, y_train_wo_outliers)"
   ]
  },
  {
   "cell_type": "code",
   "execution_count": 39,
   "metadata": {
    "scrolled": true
   },
   "outputs": [
    {
     "name": "stdout",
     "output_type": "stream",
     "text": [
      "Model 3 - Without Outliers: Best Score: 0.27811481323757625\n",
      "Model 3 - Without Outliers: Best Parameters: {'pca__n_components': 19}\n"
     ]
    }
   ],
   "source": [
    "print(\"Model 3 - Without Outliers: Best Score: \" + str(model_3.best_score_))\n",
    "print(\"Model 3 - Without Outliers: Best Parameters: \" + str(model_3.best_params_))"
   ]
  },
  {
   "cell_type": "markdown",
   "metadata": {},
   "source": [
    "#### 6.1.6 Linear Regression Model Evaluation - Without Outliers<a id='6.1.6_Linear_Regression_Model_Evaluation-Without_Outliers'></a>\n",
    "\n",
    "Let's evaluate the above models running on data without outliers."
   ]
  },
  {
   "cell_type": "code",
   "execution_count": 40,
   "metadata": {},
   "outputs": [
    {
     "name": "stdout",
     "output_type": "stream",
     "text": [
      "                                               R2(train)  R2(test)   MAE          SQRT(MSE)\n",
      "Linear Regression - Without Outliers Model 1:  0.225537   0.275221   291.069177   386.233093\n",
      "Linear Regression - Without Outliers Model 2:  0.261254   0.276444   283.060429   385.907194\n",
      "Linear Regression - Without Outliers Model 3:  0.278115   0.240599   304.171410   395.350381\n"
     ]
    }
   ],
   "source": [
    "print_model_evaluation(lin_reg_models, 'Linear Regression - Without Outliers', 1, X_test_wo_outliers, y_test_wo_outliers)"
   ]
  },
  {
   "cell_type": "markdown",
   "metadata": {},
   "source": [
    "Again, it appears that `model_3` produces the best results. However, it doesn't appear that training on data without outliers produces any better results than using the complete data set. Thus, we will continue to use the complete data set going forward."
   ]
  },
  {
   "cell_type": "markdown",
   "metadata": {},
   "source": [
    "### 6.2 Other Regression Models<a id='6.2_Other_Regression_Models'></a>\n",
    "\n",
    "We will try some other regression models."
   ]
  },
  {
   "cell_type": "markdown",
   "metadata": {},
   "source": [
    "#### 6.2.1 Model 4 - Min Max Scaler, PCA, Random Forest<a id='6.2.1_Model_4_-_MinMaxScaler_PCA_RandomForest'></a>\n",
    "\n",
    "In the above models, we seem to have determined that the best scaler to use is `MinMaxScaler` and the best number of components for PCA is anywhere from 17 to 20. In the fourth model, we will swap out the `LinearRegressor` for `RandomForestRegressor`."
   ]
  },
  {
   "cell_type": "code",
   "execution_count": 41,
   "metadata": {},
   "outputs": [
    {
     "data": {
      "text/plain": [
       "dict_keys(['memory', 'steps', 'verbose', 'minmaxscaler', 'pca', 'randomforestregressor', 'minmaxscaler__copy', 'minmaxscaler__feature_range', 'pca__copy', 'pca__iterated_power', 'pca__n_components', 'pca__random_state', 'pca__svd_solver', 'pca__tol', 'pca__whiten', 'randomforestregressor__bootstrap', 'randomforestregressor__ccp_alpha', 'randomforestregressor__criterion', 'randomforestregressor__max_depth', 'randomforestregressor__max_features', 'randomforestregressor__max_leaf_nodes', 'randomforestregressor__max_samples', 'randomforestregressor__min_impurity_decrease', 'randomforestregressor__min_impurity_split', 'randomforestregressor__min_samples_leaf', 'randomforestregressor__min_samples_split', 'randomforestregressor__min_weight_fraction_leaf', 'randomforestregressor__n_estimators', 'randomforestregressor__n_jobs', 'randomforestregressor__oob_score', 'randomforestregressor__random_state', 'randomforestregressor__verbose', 'randomforestregressor__warm_start'])"
      ]
     },
     "execution_count": 41,
     "metadata": {},
     "output_type": "execute_result"
    }
   ],
   "source": [
    "pipe_4 = make_pipeline(\n",
    "    MinMaxScaler(), \n",
    "    PCA(random_state=42),\n",
    "    RandomForestRegressor(random_state=42) )\n",
    "pipe_4.get_params().keys()"
   ]
  },
  {
   "cell_type": "code",
   "execution_count": 42,
   "metadata": {},
   "outputs": [
    {
     "data": {
      "text/plain": [
       "GridSearchCV(cv=5,\n",
       "             estimator=Pipeline(steps=[('minmaxscaler', MinMaxScaler()),\n",
       "                                       ('pca', PCA(random_state=42)),\n",
       "                                       ('randomforestregressor',\n",
       "                                        RandomForestRegressor(random_state=42))]),\n",
       "             n_jobs=-1,\n",
       "             param_grid={'pca__n_components': array([17, 18, 19]),\n",
       "                         'randomforestregressor__max_depth': [2, 5, 10, 20],\n",
       "                         'randomforestregressor__n_estimators': [10, 31, 100,\n",
       "                                                                 316, 1000]})"
      ]
     },
     "execution_count": 42,
     "metadata": {},
     "output_type": "execute_result"
    }
   ],
   "source": [
    "param_grid_4 = {'pca__n_components': np.arange(17,20),\n",
    "                'randomforestregressor__n_estimators': [int(n) for n in np.logspace(start=1, stop=3, num=5)],\n",
    "                'randomforestregressor__max_depth': [2, 5, 10, 20]}\n",
    "model_4 = GridSearchCV(pipe_4, param_grid_4, cv=5, n_jobs=-1)\n",
    "model_4.fit(X_train, y_train)"
   ]
  },
  {
   "cell_type": "code",
   "execution_count": 43,
   "metadata": {
    "scrolled": true
   },
   "outputs": [
    {
     "name": "stdout",
     "output_type": "stream",
     "text": [
      "Model 4: Best Score: 0.4405929585230606\n",
      "Model 4: Best Parameters: {'pca__n_components': 19, 'randomforestregressor__max_depth': 20, 'randomforestregressor__n_estimators': 316}\n"
     ]
    }
   ],
   "source": [
    "print(\"Model 4: Best Score: \" + str(model_4.best_score_))\n",
    "print(\"Model 4: Best Parameters: \" + str(model_4.best_params_))"
   ]
  },
  {
   "cell_type": "markdown",
   "metadata": {},
   "source": [
    "#### 6.2.2 Model 5 - Min Max Scaler, PCA, Ridge<a id='6.2.2_Model_5_-_MinMaxScaler_PCA_Ridge'></a>\n",
    "\n",
    "Here we will try the `Ridge` regressor. We will increase the hyperparameter tuning for PCA since Ridge does better with more features."
   ]
  },
  {
   "cell_type": "code",
   "execution_count": 44,
   "metadata": {},
   "outputs": [
    {
     "data": {
      "text/plain": [
       "dict_keys(['memory', 'steps', 'verbose', 'minmaxscaler', 'pca', 'ridge', 'minmaxscaler__copy', 'minmaxscaler__feature_range', 'pca__copy', 'pca__iterated_power', 'pca__n_components', 'pca__random_state', 'pca__svd_solver', 'pca__tol', 'pca__whiten', 'ridge__alpha', 'ridge__copy_X', 'ridge__fit_intercept', 'ridge__max_iter', 'ridge__normalize', 'ridge__random_state', 'ridge__solver', 'ridge__tol'])"
      ]
     },
     "execution_count": 44,
     "metadata": {},
     "output_type": "execute_result"
    }
   ],
   "source": [
    "pipe_5 = make_pipeline(\n",
    "    MinMaxScaler(), \n",
    "    PCA(random_state=42),\n",
    "    Ridge() )\n",
    "pipe_5.get_params().keys()"
   ]
  },
  {
   "cell_type": "code",
   "execution_count": 45,
   "metadata": {},
   "outputs": [
    {
     "data": {
      "text/plain": [
       "GridSearchCV(cv=5,\n",
       "             estimator=Pipeline(steps=[('minmaxscaler', MinMaxScaler()),\n",
       "                                       ('pca', PCA(random_state=42)),\n",
       "                                       ('ridge', Ridge())]),\n",
       "             n_jobs=-1,\n",
       "             param_grid={'pca__n_components': array([ 4,  8, 12, 16, 20, 24, 28, 32, 36, 40, 44, 48, 52, 56, 60, 64, 68,\n",
       "       72, 76]),\n",
       "                         'ridge__alpha': [0.001, 0.01, 0.1, 1, 10, 100, 300,\n",
       "                                          500, 1000]})"
      ]
     },
     "execution_count": 45,
     "metadata": {},
     "output_type": "execute_result"
    }
   ],
   "source": [
    "param_grid_5 = {'pca__n_components': np.arange(4,80,4),\n",
    "                'ridge__alpha': [0.001, 0.01, 0.1, 1, 10, 100, 300, 500, 1000]}\n",
    "model_5 = GridSearchCV(pipe_5, param_grid_5, cv=5, n_jobs=-1)\n",
    "model_5.fit(X_train, y_train)"
   ]
  },
  {
   "cell_type": "code",
   "execution_count": 46,
   "metadata": {
    "scrolled": false
   },
   "outputs": [
    {
     "name": "stdout",
     "output_type": "stream",
     "text": [
      "Model 5: Best Score: 0.3136843278835835\n",
      "Model 5: Best Parameters: {'pca__n_components': 76, 'ridge__alpha': 1}\n"
     ]
    }
   ],
   "source": [
    "print(\"Model 5: Best Score: \" + str(model_5.best_score_))\n",
    "print(\"Model 5: Best Parameters: \" + str(model_5.best_params_))"
   ]
  },
  {
   "cell_type": "markdown",
   "metadata": {},
   "source": [
    "#### 6.2.3 Model 6 - Min Max Scaler, PCA, Lasso<a id='6.2.3_Model_6_-_MinMaxScaler_PCA_Lasso'></a>\n",
    "\n",
    "Let's swap out `Ridge` for `Lasso`."
   ]
  },
  {
   "cell_type": "code",
   "execution_count": 47,
   "metadata": {},
   "outputs": [
    {
     "data": {
      "text/plain": [
       "dict_keys(['memory', 'steps', 'verbose', 'minmaxscaler', 'pca', 'lasso', 'minmaxscaler__copy', 'minmaxscaler__feature_range', 'pca__copy', 'pca__iterated_power', 'pca__n_components', 'pca__random_state', 'pca__svd_solver', 'pca__tol', 'pca__whiten', 'lasso__alpha', 'lasso__copy_X', 'lasso__fit_intercept', 'lasso__max_iter', 'lasso__normalize', 'lasso__positive', 'lasso__precompute', 'lasso__random_state', 'lasso__selection', 'lasso__tol', 'lasso__warm_start'])"
      ]
     },
     "execution_count": 47,
     "metadata": {},
     "output_type": "execute_result"
    }
   ],
   "source": [
    "pipe_6 = make_pipeline(\n",
    "    MinMaxScaler(), \n",
    "    PCA(random_state=42),\n",
    "    Lasso() )\n",
    "pipe_6.get_params().keys()"
   ]
  },
  {
   "cell_type": "code",
   "execution_count": 48,
   "metadata": {},
   "outputs": [
    {
     "data": {
      "text/plain": [
       "GridSearchCV(cv=5,\n",
       "             estimator=Pipeline(steps=[('minmaxscaler', MinMaxScaler()),\n",
       "                                       ('pca', PCA(random_state=42)),\n",
       "                                       ('lasso', Lasso())]),\n",
       "             n_jobs=-1,\n",
       "             param_grid={'lasso__alpha': [0.1, 0.25, 0.5, 1, 5, 10],\n",
       "                         'pca__n_components': array([20, 24, 28, 32, 36, 40, 44, 48, 52, 56, 60, 64, 68, 72, 76])})"
      ]
     },
     "execution_count": 48,
     "metadata": {},
     "output_type": "execute_result"
    }
   ],
   "source": [
    "param_grid_6 = {'pca__n_components': np.arange(20,80,4),\n",
    "                'lasso__alpha': [0.1, 0.25, 0.5, 1, 5, 10]}\n",
    "model_6 = GridSearchCV(pipe_6, param_grid_6, cv=5, n_jobs=-1)\n",
    "model_6.fit(X_train, y_train)"
   ]
  },
  {
   "cell_type": "code",
   "execution_count": 49,
   "metadata": {
    "scrolled": true
   },
   "outputs": [
    {
     "name": "stdout",
     "output_type": "stream",
     "text": [
      "Model 6: Best Score: 0.308941336302304\n",
      "Model 6: Best Parameters: {'lasso__alpha': 0.5, 'pca__n_components': 76}\n"
     ]
    }
   ],
   "source": [
    "print(\"Model 6: Best Score: \" + str(model_6.best_score_))\n",
    "print(\"Model 6: Best Parameters: \" + str(model_6.best_params_))"
   ]
  },
  {
   "cell_type": "code",
   "execution_count": 31,
   "metadata": {
    "scrolled": true
   },
   "outputs": [
    {
     "name": "stdout",
     "output_type": "stream",
     "text": [
      "Model 6: Best Score: 0.32941407138721235\n",
      "Model 6: Best Parameters: {'lasso__alpha': 5, 'pca__n_components': 76}\n"
     ]
    }
   ],
   "source": [
    "print(\"Model 6: Best Score: \" + str(model_6.best_score_))\n",
    "print(\"Model 6: Best Parameters: \" + str(model_6.best_params_))"
   ]
  },
  {
   "cell_type": "markdown",
   "metadata": {},
   "source": [
    "#### 6.2.4 Model 7 - Min Max Scaler, PCA, LassoLars<a id='6.2.4_Model_7_-_MinMaxScaler_PCA_LassoLars'></a>\n",
    "\n",
    "Let's swap out `Lasso` for `LassoLars`."
   ]
  },
  {
   "cell_type": "code",
   "execution_count": 50,
   "metadata": {},
   "outputs": [
    {
     "data": {
      "text/plain": [
       "dict_keys(['memory', 'steps', 'verbose', 'minmaxscaler', 'pca', 'lassolars', 'minmaxscaler__copy', 'minmaxscaler__feature_range', 'pca__copy', 'pca__iterated_power', 'pca__n_components', 'pca__random_state', 'pca__svd_solver', 'pca__tol', 'pca__whiten', 'lassolars__alpha', 'lassolars__copy_X', 'lassolars__eps', 'lassolars__fit_intercept', 'lassolars__fit_path', 'lassolars__jitter', 'lassolars__max_iter', 'lassolars__normalize', 'lassolars__positive', 'lassolars__precompute', 'lassolars__random_state', 'lassolars__verbose'])"
      ]
     },
     "execution_count": 50,
     "metadata": {},
     "output_type": "execute_result"
    }
   ],
   "source": [
    "pipe_7 = make_pipeline(\n",
    "    MinMaxScaler(), \n",
    "    PCA(random_state=42),\n",
    "    LassoLars() )\n",
    "pipe_7.get_params().keys()"
   ]
  },
  {
   "cell_type": "code",
   "execution_count": 51,
   "metadata": {},
   "outputs": [
    {
     "data": {
      "text/plain": [
       "GridSearchCV(cv=5,\n",
       "             estimator=Pipeline(steps=[('minmaxscaler', MinMaxScaler()),\n",
       "                                       ('pca', PCA(random_state=42)),\n",
       "                                       ('lassolars', LassoLars())]),\n",
       "             n_jobs=-1,\n",
       "             param_grid={'lassolars__alpha': [0.1, 0.15, 0.25, 0.3, 0.5, 0.9],\n",
       "                         'pca__n_components': array([20, 24, 28, 32, 36, 40, 44, 48, 52, 56, 60, 64, 68, 72, 76])})"
      ]
     },
     "execution_count": 51,
     "metadata": {},
     "output_type": "execute_result"
    }
   ],
   "source": [
    "param_grid_7 = {'pca__n_components': np.arange(20,80,4),\n",
    "                'lassolars__alpha': [0.1, 0.15, 0.25, 0.3, 0.5, 0.9]}\n",
    "model_7 = GridSearchCV(pipe_7, param_grid_7, cv=5, n_jobs=-1)\n",
    "model_7.fit(X_train, y_train)"
   ]
  },
  {
   "cell_type": "code",
   "execution_count": 52,
   "metadata": {
    "scrolled": true
   },
   "outputs": [
    {
     "name": "stdout",
     "output_type": "stream",
     "text": [
      "Model 7: Best Score: 0.316116888951176\n",
      "Model 7: Best Parameters: {'lassolars__alpha': 0.3, 'pca__n_components': 76}\n"
     ]
    }
   ],
   "source": [
    "print(\"Model 7: Best Score: \" + str(model_7.best_score_))\n",
    "print(\"Model 7: Best Parameters: \" + str(model_7.best_params_))"
   ]
  },
  {
   "cell_type": "markdown",
   "metadata": {},
   "source": [
    "#### 6.2.5 Model 8 - Min Max Scaler, PCA, ElasticNet<a id='6.2.5_Model_8_-_MinMaxScaler_PCA_ElasticNet'></a>\n",
    "\n",
    "Let's try `ElasticNet`, should help with sparsity of data."
   ]
  },
  {
   "cell_type": "code",
   "execution_count": 53,
   "metadata": {},
   "outputs": [
    {
     "data": {
      "text/plain": [
       "dict_keys(['memory', 'steps', 'verbose', 'minmaxscaler', 'pca', 'elasticnet', 'minmaxscaler__copy', 'minmaxscaler__feature_range', 'pca__copy', 'pca__iterated_power', 'pca__n_components', 'pca__random_state', 'pca__svd_solver', 'pca__tol', 'pca__whiten', 'elasticnet__alpha', 'elasticnet__copy_X', 'elasticnet__fit_intercept', 'elasticnet__l1_ratio', 'elasticnet__max_iter', 'elasticnet__normalize', 'elasticnet__positive', 'elasticnet__precompute', 'elasticnet__random_state', 'elasticnet__selection', 'elasticnet__tol', 'elasticnet__warm_start'])"
      ]
     },
     "execution_count": 53,
     "metadata": {},
     "output_type": "execute_result"
    }
   ],
   "source": [
    "pipe_8 = make_pipeline(\n",
    "    MinMaxScaler(), \n",
    "    PCA(random_state=42),\n",
    "    ElasticNet() )\n",
    "pipe_8.get_params().keys()"
   ]
  },
  {
   "cell_type": "code",
   "execution_count": 54,
   "metadata": {},
   "outputs": [
    {
     "data": {
      "text/plain": [
       "GridSearchCV(cv=5,\n",
       "             estimator=Pipeline(steps=[('minmaxscaler', MinMaxScaler()),\n",
       "                                       ('pca', PCA(random_state=42)),\n",
       "                                       ('elasticnet', ElasticNet())]),\n",
       "             n_jobs=-1,\n",
       "             param_grid={'elasticnet__alpha': [0.1, 0.15, 0.25, 0.3, 0.5, 0.9],\n",
       "                         'elasticnet__l1_ratio': [0.05, 0.1, 0.5, 0.7, 0.9,\n",
       "                                                  0.95, 0.99],\n",
       "                         'pca__n_components': array([20, 24, 28, 32, 36, 40, 44, 48, 52, 56, 60, 64, 68, 72, 76])})"
      ]
     },
     "execution_count": 54,
     "metadata": {},
     "output_type": "execute_result"
    }
   ],
   "source": [
    "param_grid_8 = {'pca__n_components': np.arange(20,80,4),\n",
    "                'elasticnet__alpha': [0.1, 0.15, 0.25, 0.3, 0.5, 0.9],\n",
    "                'elasticnet__l1_ratio': [0.05, 0.1, 0.5, 0.7, 0.9, 0.95, 0.99] }\n",
    "model_8 = GridSearchCV(pipe_8, param_grid_8, cv=5, n_jobs=-1)\n",
    "model_8.fit(X_train, y_train)"
   ]
  },
  {
   "cell_type": "code",
   "execution_count": 55,
   "metadata": {
    "scrolled": true
   },
   "outputs": [
    {
     "name": "stdout",
     "output_type": "stream",
     "text": [
      "Model 8: Best Score: 0.3135745823982837\n",
      "Model 8: Best Parameters: {'elasticnet__alpha': 0.15, 'elasticnet__l1_ratio': 0.99, 'pca__n_components': 76}\n"
     ]
    }
   ],
   "source": [
    "print(\"Model 8: Best Score: \" + str(model_8.best_score_))\n",
    "print(\"Model 8: Best Parameters: \" + str(model_8.best_params_))"
   ]
  },
  {
   "cell_type": "markdown",
   "metadata": {},
   "source": [
    "#### 6.2.6 Other Regression Model Evaluation<a id='6.2.6_Other_Regression_Model_Evaluation'></a>\n",
    "\n",
    "Let's evaluate the above models."
   ]
  },
  {
   "cell_type": "code",
   "execution_count": 56,
   "metadata": {},
   "outputs": [
    {
     "name": "stdout",
     "output_type": "stream",
     "text": [
      "                           R2(train)  R2(test)   MAE          SQRT(MSE)\n",
      "Other Regression Model 4:  0.440593   0.336740   252.539446   369.478008\n",
      "Other Regression Model 5:  0.313684   0.298093   282.591042   380.090046\n",
      "Other Regression Model 6:  0.308941   0.265844   287.848421   388.723602\n",
      "Other Regression Model 7:  0.316117   0.242684   289.978142   394.807398\n",
      "Other Regression Model 8:  0.313575   0.335849   278.552623   369.726007\n"
     ]
    }
   ],
   "source": [
    "other_reg_models = [model_4, model_5, model_6, model_7, model_8]\n",
    "print_model_evaluation(other_reg_models, 'Other Regression', 4)"
   ]
  },
  {
   "cell_type": "markdown",
   "metadata": {},
   "source": [
    "Of these models, it appears that `model_4`, which uses `RandomForestRegressor` produces the best results. "
   ]
  },
  {
   "cell_type": "markdown",
   "metadata": {},
   "source": [
    "### 6.3 Experimental Models<a id='6.3_Experimental_Models'></a>\n",
    "\n",
    "We'll try a few more models, some based on earlier models."
   ]
  },
  {
   "cell_type": "markdown",
   "metadata": {},
   "source": [
    "#### 6.3.1 Model 9 - Min Max Scaler, SelectKBest, Linear Regression<a id='6.3.1_Model_9_-_MinMaxScaler_SelectKBest_LinearRegression'></a>\n",
    "\n",
    "Instead of using `PCA`, we will try using `SelectKBest` feature selection."
   ]
  },
  {
   "cell_type": "code",
   "execution_count": 57,
   "metadata": {},
   "outputs": [
    {
     "data": {
      "text/plain": [
       "dict_keys(['memory', 'steps', 'verbose', 'minmaxscaler', 'selectkbest', 'linearregression', 'minmaxscaler__copy', 'minmaxscaler__feature_range', 'selectkbest__k', 'selectkbest__score_func', 'linearregression__copy_X', 'linearregression__fit_intercept', 'linearregression__n_jobs', 'linearregression__normalize'])"
      ]
     },
     "execution_count": 57,
     "metadata": {},
     "output_type": "execute_result"
    }
   ],
   "source": [
    "pipe_9 = make_pipeline(\n",
    "    MinMaxScaler(), \n",
    "    SelectKBest(mutual_info_regression),\n",
    "    LinearRegression() )\n",
    "pipe_9.get_params().keys()"
   ]
  },
  {
   "cell_type": "code",
   "execution_count": 58,
   "metadata": {},
   "outputs": [
    {
     "data": {
      "text/plain": [
       "GridSearchCV(cv=5,\n",
       "             estimator=Pipeline(steps=[('minmaxscaler', MinMaxScaler()),\n",
       "                                       ('selectkbest',\n",
       "                                        SelectKBest(score_func=<function mutual_info_regression at 0x000002CAF506ED30>)),\n",
       "                                       ('linearregression',\n",
       "                                        LinearRegression())]),\n",
       "             param_grid={'selectkbest__k': array([30, 31, 32, 33, 34, 35, 36, 37, 38, 39, 40, 41, 42, 43, 44, 45, 46,\n",
       "       47, 48, 49, 50, 51, 52, 53, 54, 55, 56, 57, 58, 59])})"
      ]
     },
     "execution_count": 58,
     "metadata": {},
     "output_type": "execute_result"
    }
   ],
   "source": [
    "param_grid_9 = {'selectkbest__k': np.arange(30,60) }\n",
    "model_9 = GridSearchCV(pipe_9, param_grid_9, cv=5)\n",
    "model_9.fit(X_train, y_train)"
   ]
  },
  {
   "cell_type": "code",
   "execution_count": 59,
   "metadata": {},
   "outputs": [
    {
     "name": "stdout",
     "output_type": "stream",
     "text": [
      "Model 9: Best Score: 0.32471466703054946\n",
      "Model 9: Best Parameters: {'selectkbest__k': 48}\n"
     ]
    }
   ],
   "source": [
    "print(\"Model 9: Best Score: \" + str(model_9.best_score_))\n",
    "print(\"Model 9: Best Parameters: \" + str(model_9.best_params_))"
   ]
  },
  {
   "cell_type": "markdown",
   "metadata": {},
   "source": [
    "#### 6.3.2 Model 10 - Min Max Scaler, Limited PCA, Random Forest<a id='6.3.2_Model_10_-_MinMaxScaler_LimitedPCA_RandomForest'></a>\n",
    "\n",
    "In the above models, we seem to have determined that the best number of components for PCA is greater than 15. In this model, we will take our most successful fourth model, and limit the number of PCA components we check to see if we can get better results."
   ]
  },
  {
   "cell_type": "code",
   "execution_count": 60,
   "metadata": {},
   "outputs": [
    {
     "data": {
      "text/plain": [
       "dict_keys(['memory', 'steps', 'verbose', 'minmaxscaler', 'pca', 'randomforestregressor', 'minmaxscaler__copy', 'minmaxscaler__feature_range', 'pca__copy', 'pca__iterated_power', 'pca__n_components', 'pca__random_state', 'pca__svd_solver', 'pca__tol', 'pca__whiten', 'randomforestregressor__bootstrap', 'randomforestregressor__ccp_alpha', 'randomforestregressor__criterion', 'randomforestregressor__max_depth', 'randomforestregressor__max_features', 'randomforestregressor__max_leaf_nodes', 'randomforestregressor__max_samples', 'randomforestregressor__min_impurity_decrease', 'randomforestregressor__min_impurity_split', 'randomforestregressor__min_samples_leaf', 'randomforestregressor__min_samples_split', 'randomforestregressor__min_weight_fraction_leaf', 'randomforestregressor__n_estimators', 'randomforestregressor__n_jobs', 'randomforestregressor__oob_score', 'randomforestregressor__random_state', 'randomforestregressor__verbose', 'randomforestregressor__warm_start'])"
      ]
     },
     "execution_count": 60,
     "metadata": {},
     "output_type": "execute_result"
    }
   ],
   "source": [
    "pipe_10 = make_pipeline(\n",
    "    MinMaxScaler(), \n",
    "    PCA(random_state=42),\n",
    "    RandomForestRegressor(random_state=42) )\n",
    "pipe_10.get_params().keys()"
   ]
  },
  {
   "cell_type": "code",
   "execution_count": 61,
   "metadata": {},
   "outputs": [
    {
     "data": {
      "text/plain": [
       "GridSearchCV(cv=5,\n",
       "             estimator=Pipeline(steps=[('minmaxscaler', MinMaxScaler()),\n",
       "                                       ('pca', PCA(random_state=42)),\n",
       "                                       ('randomforestregressor',\n",
       "                                        RandomForestRegressor(random_state=42))]),\n",
       "             n_jobs=-1,\n",
       "             param_grid={'pca__n_components': array([1, 2, 3, 4, 5, 6, 7, 8, 9]),\n",
       "                         'randomforestregressor__max_depth': [2, 5, 10, 20],\n",
       "                         'randomforestregressor__n_estimators': [10, 17, 31, 56,\n",
       "                                                                 100]})"
      ]
     },
     "execution_count": 61,
     "metadata": {},
     "output_type": "execute_result"
    }
   ],
   "source": [
    "param_grid_10 = {'pca__n_components': np.arange(1,10),\n",
    "                'randomforestregressor__n_estimators': [int(n) for n in np.logspace(start=1, stop=2, num=5)],\n",
    "                'randomforestregressor__max_depth': [2, 5, 10, 20]}\n",
    "model_10 = GridSearchCV(pipe_10, param_grid_10, cv=5, n_jobs=-1)\n",
    "model_10.fit(X_train, y_train)"
   ]
  },
  {
   "cell_type": "code",
   "execution_count": 62,
   "metadata": {
    "scrolled": true
   },
   "outputs": [
    {
     "name": "stdout",
     "output_type": "stream",
     "text": [
      "Model 10: Best Score: 0.4444496552572458\n",
      "Model 10: Best Parameters: {'pca__n_components': 7, 'randomforestregressor__max_depth': 10, 'randomforestregressor__n_estimators': 31}\n"
     ]
    }
   ],
   "source": [
    "print(\"Model 10: Best Score: \" + str(model_10.best_score_))\n",
    "print(\"Model 10: Best Parameters: \" + str(model_10.best_params_))"
   ]
  },
  {
   "cell_type": "markdown",
   "metadata": {},
   "source": [
    "#### 6.3.3 Experimental Model Evaluation<a id='6.3.3_Experimental_Model_Evaluation'></a>\n",
    "\n",
    "Let's evaluate the above models."
   ]
  },
  {
   "cell_type": "code",
   "execution_count": 64,
   "metadata": {},
   "outputs": [
    {
     "name": "stdout",
     "output_type": "stream",
     "text": [
      "                       R2(train)  R2(test)   MAE          SQRT(MSE)\n",
      "Experimental Model 9:  0.324715   0.046348   305.201684   443.038591\n",
      "Experimental Model 10:  0.444450   0.349708   247.694773   365.848023\n"
     ]
    }
   ],
   "source": [
    "experimental_models = [model_9, model_10]\n",
    "print_model_evaluation(experimental_models, 'Experimental', 9)"
   ]
  },
  {
   "cell_type": "code",
   "execution_count": 65,
   "metadata": {},
   "outputs": [
    {
     "name": "stdout",
     "output_type": "stream",
     "text": [
      "                        R2(train)  R2(test)   MAE          SQRT(MSE)\n",
      "Random Forest Model 4:  0.440593   0.336740   252.539446   369.478008\n"
     ]
    }
   ],
   "source": [
    "print_model_evaluation([model_4], 'Random Forest', 4)"
   ]
  },
  {
   "cell_type": "markdown",
   "metadata": {},
   "source": [
    "Our original Random Forest `model_4` and the limited PCA Random Forest `model_10` perform quite similarly. Note that the number of PCA components selected for `model_10` was 7, which explains 95.5% of the variance of the features; compare this to our original `model_4` which used 19 PCA components (explains 98.3% of the variance).\n",
    "\n",
    "One interesting thing to note is that although `SelectKBest` performed fine on the training set, it performed extremely poorly on the test set, which implies that this feature selection overfitted on the data."
   ]
  },
  {
   "cell_type": "markdown",
   "metadata": {},
   "source": [
    "## 7 Conclusion<a id='7_Conclusion'></a>\n",
    "\n",
    "Even though we can determine from running our different model evaluations that using `MinMaxScaler`, `PCA`, and `RandomForestRegressor` provide the best model, that model is still not very good at predicting San Francisco housing prices. Why is this? Some different theories:\n",
    "\n",
    "  1. __Are outliers disrupting the model?__ It's possible, and the effectiveness of `MinMaxScaler`, which boxes the range of the features in, shows that the features' large range has an effect on the modeling. However, we did try removing \"outliers\", i.e. features that have the greatest range and most disrupt the distribution, and there was negligible effect on model performance.\n",
    "  \n",
    "  2. __Is this the curse of dimensionality?__ We might have too many features and not enough data. However, if this were the main detractor of model performance, we might have seen a greater improvement when we limited the number of PCA components used, and we did not see that.\n",
    "  \n",
    "  3. __Do police incident reports and 311 cases actually influence housing prices?__ Our initial hypothesis was that we could develop a model to predict housing prices in San Francisco based on police incident reports and 311 cases. Perhaps this is not the case and our initial hypothesis is invalid. Could neighborhoods actually be homogeneous? We will explore this in another notebook."
   ]
  }
 ],
 "metadata": {
  "kernelspec": {
   "display_name": "Python 3",
   "language": "python",
   "name": "python3"
  },
  "language_info": {
   "codemirror_mode": {
    "name": "ipython",
    "version": 3
   },
   "file_extension": ".py",
   "mimetype": "text/x-python",
   "name": "python",
   "nbconvert_exporter": "python",
   "pygments_lexer": "ipython3",
   "version": "3.8.3"
  }
 },
 "nbformat": 4,
 "nbformat_minor": 4
}
