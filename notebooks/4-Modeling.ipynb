{
 "cells": [
  {
   "cell_type": "markdown",
   "metadata": {},
   "source": [
    "# 4 Modeling - Investigating San Francisco Housing Prices Through Police Incident Reports and 311 Cases<a id='Modeling'></a>"
   ]
  },
  {
   "cell_type": "markdown",
   "metadata": {},
   "source": [
    "## 1 Contents<a id='1_Contents'></a>\n",
    "* [Modeling - Investigating San Francisco Housing Prices Through Police Incident Reports and 311 Cases](#Modeling)\n",
    "  * [1 Contents](#1_Contents)\n",
    "  * [2 Introduction](#2_Introduction)\n",
    "  * [3 Imports](#3_Imports)\n",
    "  * [4 Load The Data](#4_Load_The_Data)\n",
    "  * [5 Create Train and Test Splits](#5_Create_Train_and_Test_Splits)\n",
    "  * [6 Models](#6_Models)\n",
    "    * [6.1 Model 1 - Standard Scaler, PCA, Linear Regression](#6.1_Model_1_-_StandardScaler_PCA_LinearRegression)\n",
    "    * [6.2 Model 2 - Robust Scaler, PCA, Linear Regression](#6.2_Model_2_-_RobustScaler_PCA_LinearRegression)\n",
    "    * [6.3 Model 3 - Robust Scaler, SelectKBest, Linear Regression](#6.3_Model_3_-_RobustScaler_SelectKBest_LinearRegression)\n",
    "    * [6.4 Model 4 - Robust Scaler, PCA, Random Forest](#6.4_Model_4_-_RobustScaler_PCA_RandomForest)\n",
    "  * [7 Model Evaluation](#7_Model_Evaluation)"
   ]
  },
  {
   "cell_type": "markdown",
   "metadata": {},
   "source": [
    "## 2 Introduction<a id='2_Introduction'></a>\n",
    "\n",
    "In this notebook, we will build different machine learning models using hyperparameter tuning and compare them to determine the best model that most accurately predicts the relationship between San Francisco housing prices and police incident reports and 311 cases. \n",
    "\n",
    "We will use the file `Post_EDA_SF_Combined_SFPD_311_Housing.csv` that was created in our previous Jupyter Notebook, `2-Exploratory_Data_Analysis.ipynb`. This file contains all SF police incident reports, 311 cases, and housing sales data aggregated by month and by neighborhood, from January 2018 up to and including September 2020, wherein each row is an observation with a distinct pairing on month-year and each column represents a possible feature to be used in modelling."
   ]
  },
  {
   "cell_type": "markdown",
   "metadata": {},
   "source": [
    "## 3 Imports<a id='3_Imports'></a>"
   ]
  },
  {
   "cell_type": "code",
   "execution_count": 1,
   "metadata": {},
   "outputs": [],
   "source": [
    "import pandas as pd\n",
    "import numpy as np\n",
    "import os\n",
    "import matplotlib.pyplot as plt\n",
    "import seaborn as sns\n",
    "from sklearn import __version__ as sklearn_version\n",
    "from sklearn.decomposition import PCA\n",
    "from sklearn.model_selection import cross_validate, GridSearchCV, learning_curve\n",
    "from sklearn.preprocessing import scale, RobustScaler, StandardScaler\n",
    "from sklearn.linear_model import LinearRegression\n",
    "from sklearn.ensemble import RandomForestRegressor\n",
    "from sklearn.pipeline import make_pipeline\n",
    "from sklearn.feature_selection import SelectKBest, mutual_info_regression\n",
    "from sklearn.metrics import r2_score, mean_squared_error, mean_absolute_error\n"
   ]
  },
  {
   "cell_type": "markdown",
   "metadata": {},
   "source": [
    "## 4 Load The Data<a id='4_Load_The_Data'></a>"
   ]
  },
  {
   "cell_type": "code",
   "execution_count": 2,
   "metadata": {},
   "outputs": [],
   "source": [
    "df = pd.read_csv('../data/Post_EDA_SF_Combined_SFPD_311_Housing.csv')"
   ]
  },
  {
   "cell_type": "code",
   "execution_count": 3,
   "metadata": {},
   "outputs": [
    {
     "name": "stdout",
     "output_type": "stream",
     "text": [
      "<class 'pandas.core.frame.DataFrame'>\n",
      "RangeIndex: 1188 entries, 0 to 1187\n",
      "Data columns (total 82 columns):\n",
      " #   Column                                        Non-Null Count  Dtype  \n",
      "---  ------                                        --------------  -----  \n",
      " 0   Year Month                                    1188 non-null   int64  \n",
      " 1   Neighborhood                                  1188 non-null   object \n",
      " 2   Arson                                         1188 non-null   int64  \n",
      " 3   Assault                                       1188 non-null   int64  \n",
      " 4   Burglary                                      1188 non-null   int64  \n",
      " 5   Case Closure                                  1188 non-null   int64  \n",
      " 6   Civil Sidewalks                               1188 non-null   int64  \n",
      " 7   Courtesy Report                               1188 non-null   int64  \n",
      " 8   Disorderly Conduct                            1188 non-null   int64  \n",
      " 9   Drug Offense                                  1188 non-null   int64  \n",
      " 10  Drug Violation                                1188 non-null   int64  \n",
      " 11  Embezzlement                                  1188 non-null   int64  \n",
      " 12  Family Offense                                1188 non-null   int64  \n",
      " 13  Fire Report                                   1188 non-null   int64  \n",
      " 14  Forgery And Counterfeiting                    1188 non-null   int64  \n",
      " 15  Fraud                                         1188 non-null   int64  \n",
      " 16  Gambling                                      1188 non-null   int64  \n",
      " 17  Homicide                                      1188 non-null   int64  \n",
      " 18  Human Trafficking (A), Commercial Sex Acts    1188 non-null   int64  \n",
      " 19  Human Trafficking (B), Involuntary Servitude  1188 non-null   int64  \n",
      " 20  Human Trafficking, Commercial Sex Acts        1188 non-null   int64  \n",
      " 21  Larceny Theft                                 1188 non-null   int64  \n",
      " 22  Liquor Laws                                   1188 non-null   int64  \n",
      " 23  Lost Property                                 1188 non-null   int64  \n",
      " 24  Malicious Mischief                            1188 non-null   int64  \n",
      " 25  Miscellaneous Investigation                   1188 non-null   int64  \n",
      " 26  Missing Person                                1188 non-null   int64  \n",
      " 27  Motor Vehicle Theft                           1188 non-null   int64  \n",
      " 28  Motor Vehicle Theft?                          1188 non-null   int64  \n",
      " 29  Non-Criminal                                  1188 non-null   int64  \n",
      " 30  Offences Against The Family And Children      1188 non-null   int64  \n",
      " 31  Other                                         1188 non-null   int64  \n",
      " 32  Other Miscellaneous                           1188 non-null   int64  \n",
      " 33  Other Offenses                                1188 non-null   int64  \n",
      " 34  Prostitution                                  1188 non-null   int64  \n",
      " 35  Rape                                          1188 non-null   int64  \n",
      " 36  Recovered Vehicle                             1188 non-null   int64  \n",
      " 37  Robbery                                       1188 non-null   int64  \n",
      " 38  Sex Offense                                   1188 non-null   int64  \n",
      " 39  Stolen Property                               1188 non-null   int64  \n",
      " 40  Suicide                                       1188 non-null   int64  \n",
      " 41  Suspicious                                    1188 non-null   int64  \n",
      " 42  Suspicious Occ                                1188 non-null   int64  \n",
      " 43  Traffic Collision                             1188 non-null   int64  \n",
      " 44  Traffic Violation Arrest                      1188 non-null   int64  \n",
      " 45  Vandalism                                     1188 non-null   int64  \n",
      " 46  Vehicle Impounded                             1188 non-null   int64  \n",
      " 47  Vehicle Misplaced                             1188 non-null   int64  \n",
      " 48  Warrant                                       1188 non-null   int64  \n",
      " 49  Weapons Carrying Etc                          1188 non-null   int64  \n",
      " 50  Weapons Offence                               1188 non-null   int64  \n",
      " 51  Weapons Offense                               1188 non-null   int64  \n",
      " 52  311 External Request                          1188 non-null   int64  \n",
      " 53  Abandoned Vehicle                             1188 non-null   int64  \n",
      " 54  Blocked Street or SideWalk                    1188 non-null   int64  \n",
      " 55  Catch Basin Maintenance                       1188 non-null   int64  \n",
      " 56  Color Curb                                    1188 non-null   int64  \n",
      " 57  DPW Volunteer Programs                        1188 non-null   int64  \n",
      " 58  Damaged Property                              1188 non-null   int64  \n",
      " 59  Encampments                                   1188 non-null   int64  \n",
      " 60  General Request                               1188 non-null   int64  \n",
      " 61  Graffiti                                      1188 non-null   int64  \n",
      " 62  Homeless Concerns                             1188 non-null   int64  \n",
      " 63  Illegal Postings                              1188 non-null   int64  \n",
      " 64  Litter Receptacles                            1188 non-null   int64  \n",
      " 65  MUNI Feedback                                 1188 non-null   int64  \n",
      " 66  Muni Employee Feedback                        1188 non-null   int64  \n",
      " 67  Muni Service Feedback                         1188 non-null   int64  \n",
      " 68  Noise Report                                  1188 non-null   int64  \n",
      " 69  Parking Enforcement                           1188 non-null   int64  \n",
      " 70  Rec and Park Requests                         1188 non-null   int64  \n",
      " 71  Residential Building Request                  1188 non-null   int64  \n",
      " 72  SFHA Requests                                 1188 non-null   int64  \n",
      " 73  Sewer Issues                                  1188 non-null   int64  \n",
      " 74  Sidewalk or Curb                              1188 non-null   int64  \n",
      " 75  Sign Repair                                   1188 non-null   int64  \n",
      " 76  Street Defects                                1188 non-null   int64  \n",
      " 77  Street and Sidewalk Cleaning                  1188 non-null   int64  \n",
      " 78  Streetlights                                  1188 non-null   int64  \n",
      " 79  Temporary Sign Request                        1188 non-null   int64  \n",
      " 80  Tree Maintenance                              1188 non-null   int64  \n",
      " 81  Median Sale Price                             1188 non-null   float64\n",
      "dtypes: float64(1), int64(80), object(1)\n",
      "memory usage: 761.2+ KB\n"
     ]
    }
   ],
   "source": [
    "df.info()"
   ]
  },
  {
   "cell_type": "markdown",
   "metadata": {},
   "source": [
    "## 5 Create Train and Test Splits<a id='5_Create_Train_and_Test_Splits'></a>"
   ]
  },
  {
   "cell_type": "markdown",
   "metadata": {},
   "source": [
    "In our previous notebook `3-Preprocessing_and_Training.ipynb`, we manually created the train and test splits so as to avoid data leakage.\n",
    "\n",
    "Here, we will split out 85% of the data into the training set, leaving 15% of the data in the test set."
   ]
  },
  {
   "cell_type": "code",
   "execution_count": 4,
   "metadata": {},
   "outputs": [
    {
     "name": "stdout",
     "output_type": "stream",
     "text": [
      "Earliest date: 201801 Latest date: 202009 Number of months: 33\n"
     ]
    }
   ],
   "source": [
    "# Look at how many months of data we have\n",
    "print('Earliest date:',df['Year Month'].min(), 'Latest date:', df['Year Month'].max(), 'Number of months:', len(df['Year Month'].unique()))"
   ]
  },
  {
   "cell_type": "code",
   "execution_count": 5,
   "metadata": {},
   "outputs": [],
   "source": [
    "# We will split the data with 28 months in train and 5 months in test, approx 85/15 train/test split\n",
    "train = df[df['Year Month'] < 202005]\n",
    "test = df[df['Year Month'] >= 202005]"
   ]
  },
  {
   "cell_type": "code",
   "execution_count": 6,
   "metadata": {},
   "outputs": [
    {
     "data": {
      "text/plain": [
       "((1008, 82), (180, 82))"
      ]
     },
     "execution_count": 6,
     "metadata": {},
     "output_type": "execute_result"
    }
   ],
   "source": [
    "train.shape, test.shape"
   ]
  },
  {
   "cell_type": "code",
   "execution_count": 7,
   "metadata": {},
   "outputs": [],
   "source": [
    "X_train = train.drop(columns='Median Sale Price')\n",
    "X_test = test.drop(columns='Median Sale Price')\n",
    "y_train = train['Median Sale Price']\n",
    "y_test = test['Median Sale Price']"
   ]
  },
  {
   "cell_type": "code",
   "execution_count": 8,
   "metadata": {},
   "outputs": [
    {
     "data": {
      "text/plain": [
       "((1008, 81), (180, 81))"
      ]
     },
     "execution_count": 8,
     "metadata": {},
     "output_type": "execute_result"
    }
   ],
   "source": [
    "X_train.shape, X_test.shape"
   ]
  },
  {
   "cell_type": "code",
   "execution_count": 9,
   "metadata": {},
   "outputs": [
    {
     "data": {
      "text/plain": [
       "((1008,), (180,))"
      ]
     },
     "execution_count": 9,
     "metadata": {},
     "output_type": "execute_result"
    }
   ],
   "source": [
    "y_train.shape, y_test.shape"
   ]
  },
  {
   "cell_type": "code",
   "execution_count": 10,
   "metadata": {},
   "outputs": [
    {
     "data": {
      "text/plain": [
       "((1008, 79), (180, 79))"
      ]
     },
     "execution_count": 10,
     "metadata": {},
     "output_type": "execute_result"
    }
   ],
   "source": [
    "# Save the 'Year Month' and 'Neighborhood' columns from the train/test data into ids_train and ids_test\n",
    "# and drop these from 'X_train' and 'X_test'\n",
    "ids_list = ['Year Month', 'Neighborhood']\n",
    "ids_train = X_train[ids_list]\n",
    "ids_test = X_test[ids_list]\n",
    "X_train.drop(columns=ids_list, inplace=True)\n",
    "X_test.drop(columns=ids_list, inplace=True)\n",
    "X_train.shape, X_test.shape"
   ]
  },
  {
   "cell_type": "markdown",
   "metadata": {},
   "source": [
    "## 6 Models<a id='6_Models'></a>\n",
    "\n",
    "We're ready to create and evaluate some models. In order to do this, for each model, we will create a pipeline, then pass it into `GridSearchCV` to determine our optimal parameters for that model.\n",
    "\n",
    "Each pipeline will consist of:\n",
    "  * scaler: since our features contain numbers that vary by orders of magniture, we must scale them in preparation for PCA\n",
    "  * dimensionality reducer (i.e. PCA, SelectKBest) : reduce dimensionality of the data or selectively choose features\n",
    "  * regressor: our prediction component"
   ]
  },
  {
   "cell_type": "markdown",
   "metadata": {},
   "source": [
    "### 6.1 Model 1 - Standard Scaler, PCA, Linear Regression<a id='6.1_Model_1_-_StandardScaler_PCA_LinearRegression'></a>\n",
    "\n",
    "Our first model uses a basic pipeline consisting of `StandardScaler`, `PCA`, and `LinearRegression`."
   ]
  },
  {
   "cell_type": "code",
   "execution_count": 11,
   "metadata": {},
   "outputs": [
    {
     "data": {
      "text/plain": [
       "dict_keys(['memory', 'steps', 'verbose', 'standardscaler', 'pca', 'linearregression', 'standardscaler__copy', 'standardscaler__with_mean', 'standardscaler__with_std', 'pca__copy', 'pca__iterated_power', 'pca__n_components', 'pca__random_state', 'pca__svd_solver', 'pca__tol', 'pca__whiten', 'linearregression__copy_X', 'linearregression__fit_intercept', 'linearregression__n_jobs', 'linearregression__normalize'])"
      ]
     },
     "execution_count": 11,
     "metadata": {},
     "output_type": "execute_result"
    }
   ],
   "source": [
    "pipe_1 = make_pipeline(\n",
    "    StandardScaler(), \n",
    "    PCA(random_state=42),\n",
    "    LinearRegression() )\n",
    "pipe_1.get_params().keys()"
   ]
  },
  {
   "cell_type": "code",
   "execution_count": 12,
   "metadata": {},
   "outputs": [
    {
     "data": {
      "text/plain": [
       "GridSearchCV(cv=5,\n",
       "             estimator=Pipeline(steps=[('standardscaler', StandardScaler()),\n",
       "                                       ('pca', PCA(random_state=42)),\n",
       "                                       ('linearregression',\n",
       "                                        LinearRegression())]),\n",
       "             param_grid={'pca__n_components': array([ 1,  2,  3,  4,  5,  6,  7,  8,  9, 10, 11, 12, 13, 14, 15, 16, 17,\n",
       "       18, 19])})"
      ]
     },
     "execution_count": 12,
     "metadata": {},
     "output_type": "execute_result"
    }
   ],
   "source": [
    "param_grid_1 = {'pca__n_components': np.arange(1,20)}\n",
    "model_1 = GridSearchCV(pipe_1, param_grid_1, cv=5)\n",
    "model_1.fit(X_train, y_train)"
   ]
  },
  {
   "cell_type": "code",
   "execution_count": 13,
   "metadata": {
    "scrolled": true
   },
   "outputs": [
    {
     "name": "stdout",
     "output_type": "stream",
     "text": [
      "Model 1: Best Score: 0.23760770278422455\n",
      "Model 1: Best Parameters: {'pca__n_components': 17}\n"
     ]
    }
   ],
   "source": [
    "print(\"Model 1: Best Score: \" + str(model_1.best_score_))\n",
    "print(\"Model 1: Best Parameters: \" + str(model_1.best_params_))"
   ]
  },
  {
   "cell_type": "markdown",
   "metadata": {},
   "source": [
    "### 6.2 Model 2 - Robust Scaler, PCA, Linear Regression<a id='6.2_Model_2_-_RobustScaler_PCA_LinearRegression'></a>\n",
    "\n",
    "Our second model will try to improve on the first by switching out the `StandardScaler` for the `RobustScaler`."
   ]
  },
  {
   "cell_type": "code",
   "execution_count": 14,
   "metadata": {},
   "outputs": [
    {
     "data": {
      "text/plain": [
       "dict_keys(['memory', 'steps', 'verbose', 'robustscaler', 'pca', 'linearregression', 'robustscaler__copy', 'robustscaler__quantile_range', 'robustscaler__with_centering', 'robustscaler__with_scaling', 'pca__copy', 'pca__iterated_power', 'pca__n_components', 'pca__random_state', 'pca__svd_solver', 'pca__tol', 'pca__whiten', 'linearregression__copy_X', 'linearregression__fit_intercept', 'linearregression__n_jobs', 'linearregression__normalize'])"
      ]
     },
     "execution_count": 14,
     "metadata": {},
     "output_type": "execute_result"
    }
   ],
   "source": [
    "pipe_2 = make_pipeline(\n",
    "    RobustScaler(), \n",
    "    PCA(random_state=42),\n",
    "    LinearRegression() )\n",
    "pipe_2.get_params().keys()"
   ]
  },
  {
   "cell_type": "code",
   "execution_count": 15,
   "metadata": {},
   "outputs": [
    {
     "data": {
      "text/plain": [
       "GridSearchCV(cv=5,\n",
       "             estimator=Pipeline(steps=[('robustscaler', RobustScaler()),\n",
       "                                       ('pca', PCA(random_state=42)),\n",
       "                                       ('linearregression',\n",
       "                                        LinearRegression())]),\n",
       "             param_grid={'pca__n_components': array([ 1,  2,  3,  4,  5,  6,  7,  8,  9, 10, 11, 12, 13, 14, 15, 16, 17,\n",
       "       18, 19])})"
      ]
     },
     "execution_count": 15,
     "metadata": {},
     "output_type": "execute_result"
    }
   ],
   "source": [
    "param_grid_2 = {'pca__n_components': np.arange(1,20)}\n",
    "model_2 = GridSearchCV(pipe_2, param_grid_2, cv=5)\n",
    "model_2.fit(X_train, y_train)"
   ]
  },
  {
   "cell_type": "code",
   "execution_count": 16,
   "metadata": {},
   "outputs": [
    {
     "name": "stdout",
     "output_type": "stream",
     "text": [
      "Model 2: Best Score: 0.26785265231223887\n",
      "Model 2: Best Parameters: {'pca__n_components': 17}\n"
     ]
    }
   ],
   "source": [
    "print(\"Model 2: Best Score: \" + str(model_2.best_score_))\n",
    "print(\"Model 2: Best Parameters: \" + str(model_2.best_params_))"
   ]
  },
  {
   "cell_type": "markdown",
   "metadata": {},
   "source": [
    "### 6.3 Model 3 - Robust Scaler, SelectKBest, Linear Regression<a id='6.3_Model_3_-_RobustScaler_SelectKBest_LinearRegression'></a>\n",
    "\n",
    "In our third model, we'll swap out `PCA` for `SelectKBest`."
   ]
  },
  {
   "cell_type": "code",
   "execution_count": 17,
   "metadata": {},
   "outputs": [
    {
     "data": {
      "text/plain": [
       "dict_keys(['memory', 'steps', 'verbose', 'robustscaler', 'selectkbest', 'linearregression', 'robustscaler__copy', 'robustscaler__quantile_range', 'robustscaler__with_centering', 'robustscaler__with_scaling', 'selectkbest__k', 'selectkbest__score_func', 'linearregression__copy_X', 'linearregression__fit_intercept', 'linearregression__n_jobs', 'linearregression__normalize'])"
      ]
     },
     "execution_count": 17,
     "metadata": {},
     "output_type": "execute_result"
    }
   ],
   "source": [
    "pipe_3 = make_pipeline(\n",
    "    RobustScaler(), \n",
    "    SelectKBest(mutual_info_regression),\n",
    "    LinearRegression() )\n",
    "pipe_3.get_params().keys()"
   ]
  },
  {
   "cell_type": "code",
   "execution_count": 18,
   "metadata": {},
   "outputs": [
    {
     "data": {
      "text/plain": [
       "GridSearchCV(cv=5,\n",
       "             estimator=Pipeline(steps=[('robustscaler', RobustScaler()),\n",
       "                                       ('selectkbest',\n",
       "                                        SelectKBest(score_func=<function mutual_info_regression at 0x000002A37E01DCA0>)),\n",
       "                                       ('linearregression',\n",
       "                                        LinearRegression())]),\n",
       "             param_grid={'selectkbest__k': array([ 5,  6,  7,  8,  9, 10, 11, 12, 13, 14, 15, 16, 17, 18, 19, 20, 21,\n",
       "       22, 23, 24, 25, 26, 27, 28, 29, 30, 31, 32, 33, 34, 35, 36, 37, 38,\n",
       "       39, 40, 41, 42, 43, 44, 45, 46, 47, 48, 49])})"
      ]
     },
     "execution_count": 18,
     "metadata": {},
     "output_type": "execute_result"
    }
   ],
   "source": [
    "param_grid_3 = {'selectkbest__k': np.arange(5,50) }\n",
    "model_3 = GridSearchCV(pipe_3, param_grid_3, cv=5)\n",
    "model_3.fit(X_train, y_train)"
   ]
  },
  {
   "cell_type": "code",
   "execution_count": 19,
   "metadata": {},
   "outputs": [
    {
     "name": "stdout",
     "output_type": "stream",
     "text": [
      "Model 3: Best Score: 0.32492821813385764\n",
      "Model 3: Best Parameters: {'selectkbest__k': 45}\n"
     ]
    }
   ],
   "source": [
    "print(\"Model 3: Best Score: \" + str(model_3.best_score_))\n",
    "print(\"Model 3: Best Parameters: \" + str(model_3.best_params_))"
   ]
  },
  {
   "cell_type": "markdown",
   "metadata": {},
   "source": [
    "### 6.4 Model 4 - Robust Scaler, PCA, Random Forest<a id='6.4_Model_4_-_RobustScaler_PCA_RandomForest'></a>\n",
    "\n",
    "In the above models, we seem to have determined that the best number of components for PCA is 17. In the fourth model, we will swap out the `LinearRegressor` for `RandomForestRegressor`."
   ]
  },
  {
   "cell_type": "code",
   "execution_count": 20,
   "metadata": {},
   "outputs": [
    {
     "data": {
      "text/plain": [
       "dict_keys(['memory', 'steps', 'verbose', 'robustscaler', 'pca', 'randomforestregressor', 'robustscaler__copy', 'robustscaler__quantile_range', 'robustscaler__with_centering', 'robustscaler__with_scaling', 'pca__copy', 'pca__iterated_power', 'pca__n_components', 'pca__random_state', 'pca__svd_solver', 'pca__tol', 'pca__whiten', 'randomforestregressor__bootstrap', 'randomforestregressor__ccp_alpha', 'randomforestregressor__criterion', 'randomforestregressor__max_depth', 'randomforestregressor__max_features', 'randomforestregressor__max_leaf_nodes', 'randomforestregressor__max_samples', 'randomforestregressor__min_impurity_decrease', 'randomforestregressor__min_impurity_split', 'randomforestregressor__min_samples_leaf', 'randomforestregressor__min_samples_split', 'randomforestregressor__min_weight_fraction_leaf', 'randomforestregressor__n_estimators', 'randomforestregressor__n_jobs', 'randomforestregressor__oob_score', 'randomforestregressor__random_state', 'randomforestregressor__verbose', 'randomforestregressor__warm_start'])"
      ]
     },
     "execution_count": 20,
     "metadata": {},
     "output_type": "execute_result"
    }
   ],
   "source": [
    "pipe_4 = make_pipeline(\n",
    "    RobustScaler(), \n",
    "    PCA(random_state=42, n_components=17),\n",
    "    RandomForestRegressor(random_state=42) )\n",
    "pipe_4.get_params().keys()"
   ]
  },
  {
   "cell_type": "code",
   "execution_count": 21,
   "metadata": {},
   "outputs": [
    {
     "data": {
      "text/plain": [
       "GridSearchCV(cv=5,\n",
       "             estimator=Pipeline(steps=[('robustscaler', RobustScaler()),\n",
       "                                       ('pca',\n",
       "                                        PCA(n_components=17, random_state=42)),\n",
       "                                       ('randomforestregressor',\n",
       "                                        RandomForestRegressor(random_state=42))]),\n",
       "             n_jobs=-1,\n",
       "             param_grid={'randomforestregressor__max_depth': [None, 2, 5, 10,\n",
       "                                                              20],\n",
       "                         'randomforestregressor__n_estimators': [10, 31, 100,\n",
       "                                                                 316, 1000]})"
      ]
     },
     "execution_count": 21,
     "metadata": {},
     "output_type": "execute_result"
    }
   ],
   "source": [
    "param_grid_4 = {'randomforestregressor__n_estimators': [int(n) for n in np.logspace(start=1, stop=3, num=5)],\n",
    "                'randomforestregressor__max_depth': [None, 2, 5, 10, 20]}\n",
    "model_4 = GridSearchCV(pipe_4, param_grid_4, cv=5, n_jobs=-1)\n",
    "model_4.fit(X_train, y_train)"
   ]
  },
  {
   "cell_type": "code",
   "execution_count": 22,
   "metadata": {},
   "outputs": [
    {
     "name": "stdout",
     "output_type": "stream",
     "text": [
      "Model 4: Best Score: 0.46721976012930444\n",
      "Model 4: Best Parameters: {'randomforestregressor__max_depth': None, 'randomforestregressor__n_estimators': 1000}\n"
     ]
    }
   ],
   "source": [
    "print(\"Model 4: Best Score: \" + str(model_4.best_score_))\n",
    "print(\"Model 4: Best Parameters: \" + str(model_4.best_params_))"
   ]
  },
  {
   "cell_type": "markdown",
   "metadata": {},
   "source": [
    "## 7 Model Evaluation<a id='7_Model_Evaluation'></a>\n",
    "\n",
    "Let's evaluate the models against each other."
   ]
  },
  {
   "cell_type": "code",
   "execution_count": 37,
   "metadata": {},
   "outputs": [
    {
     "name": "stdout",
     "output_type": "stream",
     "text": [
      "          R2 score        Mean Absolute Error   Mean Squared Error\n",
      "Model 1:  0.27343103      291,680.72941692      149,544,412,073.74673462\n",
      "Model 2:  0.23920643      298,509.30007048      156,588,613,000.12109375\n",
      "Model 3:  0.09225465      299,635.63912172      186,834,628,541.36068726\n",
      "Model 4:  0.24424195      282,160.94451843      155,552,187,172.16000366\n"
     ]
    }
   ],
   "source": [
    "models = [model_1, model_2, model_3, model_4]\n",
    "print(\"          R2 score        Mean Absolute Error   Mean Squared Error\")\n",
    "for i, model in enumerate(models, start=1):\n",
    "    y_pred = model.best_estimator_.predict(X_test)\n",
    "    print(\"Model {}:  {:0.8f}      {:0,.8f}      {:0,.8f}\".format(i, r2_score(y_test, y_pred), mean_absolute_error(y_test, y_pred), mean_squared_error(y_test, y_pred)))"
   ]
  },
  {
   "cell_type": "markdown",
   "metadata": {},
   "source": [
    "None of these models are performing very well..."
   ]
  }
 ],
 "metadata": {
  "kernelspec": {
   "display_name": "Python 3",
   "language": "python",
   "name": "python3"
  },
  "language_info": {
   "codemirror_mode": {
    "name": "ipython",
    "version": 3
   },
   "file_extension": ".py",
   "mimetype": "text/x-python",
   "name": "python",
   "nbconvert_exporter": "python",
   "pygments_lexer": "ipython3",
   "version": "3.8.3"
  }
 },
 "nbformat": 4,
 "nbformat_minor": 4
}
