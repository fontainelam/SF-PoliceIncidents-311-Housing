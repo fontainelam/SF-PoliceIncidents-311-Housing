{
 "cells": [
  {
   "cell_type": "markdown",
   "metadata": {},
   "source": [
    "# 3 Wrangling - San Francisco Home Sales by Neighborhood (Redfin)<a id='3_Wrangling_-_San_Francisco_Home_Sales_by_Neighborhood_(Redfin)'></a>"
   ]
  },
  {
   "cell_type": "markdown",
   "metadata": {},
   "source": [
    "## 3.1 Contents<a id='3.1_Contents'></a>\n",
    "* [3 Wrangling - San Francisco Home Sales by Neighborhood (Redfin)](#3_Wrangling_-_San_Francisco_Home_Sales_by_Neighborhood_(Redfin))\n",
    "  * [3.1 Contents](#3.1_Contents)\n",
    "  * [3.2 Introduction](#3.2_Introduction)\n",
    "  * [3.3 Imports](#3.3_Imports)\n",
    "  * [3.4 Load The Data](#3.4_Load_The_Data)\n",
    "  * [3.5 Explore The Data](#3.5_Explore_The_Data)\n",
    "    * [3.5.1 Shape and Column Analysis](#3.5.1_Shape_and_Column_Analysis)\n",
    "    * [3.5.2 Dropping unneeded columns](#3.5.2_Dropping_unneeded_columns)\n",
    "    * [3.5.3 Reviewing NULL values](#3.5.3_Reviewing_NULL_values)\n",
    "      * [3.5.3.1 Unique Resort Names](#3.5.3.1_Filed_Online)\n",
    "      * [3.5.3.2 Analysis Neighborhood](#3.5.3.2_Analysis_Neighborhood)\n",
    "  * [3.13 Summary](#3.13_Summary)"
   ]
  },
  {
   "cell_type": "markdown",
   "metadata": {},
   "source": [
    "## 3.2 Introduction<a id='3.2_Introduction'></a>"
   ]
  },
  {
   "cell_type": "markdown",
   "metadata": {},
   "source": [
    "Data provided by <a href=\"https://www.redfin.com/\">Redfin</a>, a national real estate brokerage, on San Francisco home sales by neighborhood, downloaded in October 2020 into a single CSV file, and spanning from January 2018 up to and including September 2020. This dataset does not have individual home sales, but instead, an aggregated view.\n",
    "\n",
    "We plan to explore this data in conjunction with San Francisco's Police Incident Report data as well as San Francisco's 311 case data, and we will do this by comparing across San Francisco neighborhoods and supervisor districts."
   ]
  },
  {
   "cell_type": "markdown",
   "metadata": {},
   "source": [
    "## 3.3 Imports<a id='2.3_Imports'></a>"
   ]
  },
  {
   "cell_type": "code",
   "execution_count": 1,
   "metadata": {},
   "outputs": [],
   "source": [
    "import pandas as pd\n",
    "import numpy as np\n",
    "import os\n",
    "import matplotlib.pyplot as plt\n",
    "import seaborn as sns"
   ]
  },
  {
   "cell_type": "markdown",
   "metadata": {},
   "source": [
    "## 3.4 Load The Data<a id='3.4_Load_The_Data'></a>"
   ]
  },
  {
   "cell_type": "code",
   "execution_count": 4,
   "metadata": {},
   "outputs": [],
   "source": [
    "sales_data = pd.read_csv('raw_data/Redfin_SF-home-sales-by-neighborhood.csv')"
   ]
  },
  {
   "cell_type": "code",
   "execution_count": 5,
   "metadata": {},
   "outputs": [
    {
     "data": {
      "text/html": [
       "<div>\n",
       "<style scoped>\n",
       "    .dataframe tbody tr th:only-of-type {\n",
       "        vertical-align: middle;\n",
       "    }\n",
       "\n",
       "    .dataframe tbody tr th {\n",
       "        vertical-align: top;\n",
       "    }\n",
       "\n",
       "    .dataframe thead th {\n",
       "        text-align: right;\n",
       "    }\n",
       "</style>\n",
       "<table border=\"1\" class=\"dataframe\">\n",
       "  <thead>\n",
       "    <tr style=\"text-align: right;\">\n",
       "      <th></th>\n",
       "      <th>Region</th>\n",
       "      <th>Month of Period End</th>\n",
       "      <th>Median Sale Price</th>\n",
       "      <th>Median Sale Price MoM</th>\n",
       "      <th>Median Sale Price YoY</th>\n",
       "      <th>Homes Sold</th>\n",
       "      <th>Homes Sold MoM</th>\n",
       "      <th>Homes Sold YoY</th>\n",
       "      <th>New Listings</th>\n",
       "      <th>New Listings MoM</th>\n",
       "      <th>New Listings YoY</th>\n",
       "      <th>Inventory</th>\n",
       "      <th>Inventory MoM</th>\n",
       "      <th>Inventory YoY</th>\n",
       "      <th>Days on Market</th>\n",
       "      <th>Days on Market MoM</th>\n",
       "      <th>Days on Market YoY</th>\n",
       "      <th>Average Sale To List</th>\n",
       "      <th>Average Sale To List MoM</th>\n",
       "      <th>Average Sale To List YoY</th>\n",
       "    </tr>\n",
       "  </thead>\n",
       "  <tbody>\n",
       "    <tr>\n",
       "      <th>0</th>\n",
       "      <td>San Francisco, CA - Alamo Square</td>\n",
       "      <td>Jan-18</td>\n",
       "      <td>$1,720K</td>\n",
       "      <td>22.90%</td>\n",
       "      <td>107.20%</td>\n",
       "      <td>6</td>\n",
       "      <td>-14.30%</td>\n",
       "      <td>20.00%</td>\n",
       "      <td>2.0</td>\n",
       "      <td>-50.00%</td>\n",
       "      <td>100.00%</td>\n",
       "      <td>2.0</td>\n",
       "      <td>100.00%</td>\n",
       "      <td>0.00%</td>\n",
       "      <td>22.0</td>\n",
       "      <td>1.0</td>\n",
       "      <td>-32.0</td>\n",
       "      <td>109.10%</td>\n",
       "      <td>-2.10%</td>\n",
       "      <td>7.70%</td>\n",
       "    </tr>\n",
       "    <tr>\n",
       "      <th>1</th>\n",
       "      <td>San Francisco, CA - Alamo Square</td>\n",
       "      <td>Feb-18</td>\n",
       "      <td>$1,020K</td>\n",
       "      <td>-40.70%</td>\n",
       "      <td>27.50%</td>\n",
       "      <td>2</td>\n",
       "      <td>-66.70%</td>\n",
       "      <td>-33.30%</td>\n",
       "      <td>1.0</td>\n",
       "      <td>-50.00%</td>\n",
       "      <td>-83.30%</td>\n",
       "      <td>1.0</td>\n",
       "      <td>-50.00%</td>\n",
       "      <td>-80.00%</td>\n",
       "      <td>72.0</td>\n",
       "      <td>50.0</td>\n",
       "      <td>-120.0</td>\n",
       "      <td>113.00%</td>\n",
       "      <td>3.90%</td>\n",
       "      <td>12.90%</td>\n",
       "    </tr>\n",
       "    <tr>\n",
       "      <th>2</th>\n",
       "      <td>San Francisco, CA - Alamo Square</td>\n",
       "      <td>Mar-18</td>\n",
       "      <td>$1,023K</td>\n",
       "      <td>0.20%</td>\n",
       "      <td>-24.30%</td>\n",
       "      <td>2</td>\n",
       "      <td>0.00%</td>\n",
       "      <td>-60.00%</td>\n",
       "      <td>4.0</td>\n",
       "      <td>300.00%</td>\n",
       "      <td>-33.30%</td>\n",
       "      <td>2.0</td>\n",
       "      <td>100.00%</td>\n",
       "      <td>0.00%</td>\n",
       "      <td>134.0</td>\n",
       "      <td>63.0</td>\n",
       "      <td>103.0</td>\n",
       "      <td>104.40%</td>\n",
       "      <td>-8.60%</td>\n",
       "      <td>3.60%</td>\n",
       "    </tr>\n",
       "    <tr>\n",
       "      <th>3</th>\n",
       "      <td>San Francisco, CA - Alamo Square</td>\n",
       "      <td>Apr-18</td>\n",
       "      <td>$1,150K</td>\n",
       "      <td>12.50%</td>\n",
       "      <td>1.10%</td>\n",
       "      <td>3</td>\n",
       "      <td>50.00%</td>\n",
       "      <td>-50.00%</td>\n",
       "      <td>8.0</td>\n",
       "      <td>100.00%</td>\n",
       "      <td>-11.10%</td>\n",
       "      <td>3.0</td>\n",
       "      <td>50.00%</td>\n",
       "      <td>200.00%</td>\n",
       "      <td>73.0</td>\n",
       "      <td>-61.0</td>\n",
       "      <td>42.0</td>\n",
       "      <td>110.00%</td>\n",
       "      <td>5.60%</td>\n",
       "      <td>6.70%</td>\n",
       "    </tr>\n",
       "    <tr>\n",
       "      <th>4</th>\n",
       "      <td>San Francisco, CA - Alamo Square</td>\n",
       "      <td>May-18</td>\n",
       "      <td>$2,000K</td>\n",
       "      <td>73.90%</td>\n",
       "      <td>116.00%</td>\n",
       "      <td>7</td>\n",
       "      <td>133.30%</td>\n",
       "      <td>-22.20%</td>\n",
       "      <td>9.0</td>\n",
       "      <td>12.50%</td>\n",
       "      <td>125.00%</td>\n",
       "      <td>2.0</td>\n",
       "      <td>-33.30%</td>\n",
       "      <td>NaN</td>\n",
       "      <td>14.0</td>\n",
       "      <td>-59.0</td>\n",
       "      <td>-17.0</td>\n",
       "      <td>110.40%</td>\n",
       "      <td>0.40%</td>\n",
       "      <td>6.70%</td>\n",
       "    </tr>\n",
       "  </tbody>\n",
       "</table>\n",
       "</div>"
      ],
      "text/plain": [
       "                             Region Month of Period End Median Sale Price  \\\n",
       "0  San Francisco, CA - Alamo Square              Jan-18           $1,720K   \n",
       "1  San Francisco, CA - Alamo Square              Feb-18           $1,020K   \n",
       "2  San Francisco, CA - Alamo Square              Mar-18           $1,023K   \n",
       "3  San Francisco, CA - Alamo Square              Apr-18           $1,150K   \n",
       "4  San Francisco, CA - Alamo Square              May-18           $2,000K   \n",
       "\n",
       "  Median Sale Price MoM  Median Sale Price YoY   Homes Sold Homes Sold MoM   \\\n",
       "0                 22.90%                107.20%           6         -14.30%   \n",
       "1                -40.70%                 27.50%           2         -66.70%   \n",
       "2                  0.20%                -24.30%           2           0.00%   \n",
       "3                 12.50%                  1.10%           3          50.00%   \n",
       "4                 73.90%                116.00%           7         133.30%   \n",
       "\n",
       "  Homes Sold YoY   New Listings New Listings MoM  New Listings YoY   \\\n",
       "0          20.00%           2.0           -50.00%           100.00%   \n",
       "1         -33.30%           1.0           -50.00%           -83.30%   \n",
       "2         -60.00%           4.0           300.00%           -33.30%   \n",
       "3         -50.00%           8.0           100.00%           -11.10%   \n",
       "4         -22.20%           9.0            12.50%           125.00%   \n",
       "\n",
       "   Inventory Inventory MoM   Inventory YoY   Days on Market  \\\n",
       "0        2.0        100.00%           0.00%            22.0   \n",
       "1        1.0        -50.00%         -80.00%            72.0   \n",
       "2        2.0        100.00%           0.00%           134.0   \n",
       "3        3.0         50.00%         200.00%            73.0   \n",
       "4        2.0        -33.30%             NaN            14.0   \n",
       "\n",
       "   Days on Market MoM  Days on Market YoY Average Sale To List  \\\n",
       "0                 1.0               -32.0              109.10%   \n",
       "1                50.0              -120.0              113.00%   \n",
       "2                63.0               103.0              104.40%   \n",
       "3               -61.0                42.0              110.00%   \n",
       "4               -59.0               -17.0              110.40%   \n",
       "\n",
       "  Average Sale To List MoM  Average Sale To List YoY   \n",
       "0                    -2.10%                     7.70%  \n",
       "1                     3.90%                    12.90%  \n",
       "2                    -8.60%                     3.60%  \n",
       "3                     5.60%                     6.70%  \n",
       "4                     0.40%                     6.70%  "
      ]
     },
     "execution_count": 5,
     "metadata": {},
     "output_type": "execute_result"
    }
   ],
   "source": [
    "sales_data.head()"
   ]
  },
  {
   "cell_type": "markdown",
   "metadata": {},
   "source": [
    "## 3.5 Explore The Data<a id='3.5_Explore_The_Data'></a>"
   ]
  },
  {
   "cell_type": "markdown",
   "metadata": {},
   "source": [
    "### 3.5.1 Shape and Column Analysis<a id='3.5.1_Shape_and_Column_Analysis'></a>"
   ]
  },
  {
   "cell_type": "code",
   "execution_count": 6,
   "metadata": {},
   "outputs": [
    {
     "data": {
      "text/plain": [
       "(4084, 20)"
      ]
     },
     "execution_count": 6,
     "metadata": {},
     "output_type": "execute_result"
    }
   ],
   "source": [
    "sales_data.shape"
   ]
  },
  {
   "cell_type": "code",
   "execution_count": 7,
   "metadata": {},
   "outputs": [
    {
     "name": "stdout",
     "output_type": "stream",
     "text": [
      "<class 'pandas.core.frame.DataFrame'>\n",
      "RangeIndex: 4084 entries, 0 to 4083\n",
      "Data columns (total 20 columns):\n",
      " #   Column                     Non-Null Count  Dtype  \n",
      "---  ------                     --------------  -----  \n",
      " 0   Region                     4084 non-null   object \n",
      " 1   Month of Period End        4084 non-null   object \n",
      " 2   Median Sale Price          4084 non-null   object \n",
      " 3   Median Sale Price MoM      4013 non-null   object \n",
      " 4   Median Sale Price YoY      3964 non-null   object \n",
      " 5   Homes Sold                 4084 non-null   int64  \n",
      " 6   Homes Sold MoM             4013 non-null   object \n",
      " 7   Homes Sold YoY             3964 non-null   object \n",
      " 8   New Listings               4021 non-null   float64\n",
      " 9   New Listings MoM           3929 non-null   object \n",
      " 10  New Listings YoY           3881 non-null   object \n",
      " 11  Inventory                  3729 non-null   float64\n",
      " 12  Inventory MoM              3474 non-null   object \n",
      " 13   Inventory YoY             3418 non-null   object \n",
      " 14  Days on Market             4069 non-null   float64\n",
      " 15  Days on Market MoM         3991 non-null   float64\n",
      " 16  Days on Market YoY         3937 non-null   float64\n",
      " 17  Average Sale To List       4084 non-null   object \n",
      " 18  Average Sale To List MoM   4013 non-null   object \n",
      " 19  Average Sale To List YoY   3964 non-null   object \n",
      "dtypes: float64(5), int64(1), object(14)\n",
      "memory usage: 638.2+ KB\n"
     ]
    }
   ],
   "source": [
    "sales_data.info()"
   ]
  },
  {
   "cell_type": "markdown",
   "metadata": {},
   "source": [
    "There are 20 columns and 4084 rows. All rows have a non-null `Region`, which is Redfin's Neighborhood identifier."
   ]
  },
  {
   "cell_type": "markdown",
   "metadata": {},
   "source": [
    "### 3.5.2 Examining Region<a id='3.5.2_Examining_Region'></a>"
   ]
  },
  {
   "cell_type": "markdown",
   "metadata": {},
   "source": [
    "Since we will be using Neighborhoods to compare across data sets, let's take a look at the `Region` values."
   ]
  },
  {
   "cell_type": "code",
   "execution_count": 8,
   "metadata": {},
   "outputs": [
    {
     "data": {
      "text/plain": [
       "San Francisco, CA - Transmission                      33\n",
       "San Francisco, CA - Visitacion Valley                 33\n",
       "San Francisco, CA - Golden Gate Heights               33\n",
       "South San Francisco, CA - Paradise Valley-Terrabay    33\n",
       "San Francisco, CA - South of Market                   33\n",
       "                                                      ..\n",
       "San Francisco, CA - Duboce Park                       15\n",
       "San Francisco, CA - India Basin                       14\n",
       "San Francisco, CA - Presidio National Park            11\n",
       "San Francisco, CA - Design District                    9\n",
       "San Francisco, CA - Produce Market                     3\n",
       "Name: Region, Length: 131, dtype: int64"
      ]
     },
     "execution_count": 8,
     "metadata": {},
     "output_type": "execute_result"
    }
   ],
   "source": [
    "sales_data['Region'].value_counts()"
   ]
  },
  {
   "cell_type": "markdown",
   "metadata": {},
   "source": [
    "Looks like we've included some South San Francisco rows! Let's drop those."
   ]
  },
  {
   "cell_type": "code",
   "execution_count": 11,
   "metadata": {},
   "outputs": [
    {
     "data": {
      "text/plain": [
       "South San Francisco, CA - Winston-Serra                   33\n",
       "South San Francisco, CA - Avalon                          33\n",
       "South San Francisco, CA - Sunshine Gardens                33\n",
       "South San Francisco, CA - Downtown South San Francisco    33\n",
       "South San Francisco, CA - Westborough                     33\n",
       "South San Francisco, CA - Paradise Valley-Terrabay        33\n",
       "South San Francisco, CA - Sign Hill                       33\n",
       "South San Francisco, CA - Orange Park                     32\n",
       "Name: Region, dtype: int64"
      ]
     },
     "execution_count": 11,
     "metadata": {},
     "output_type": "execute_result"
    }
   ],
   "source": [
    "sales_data[sales_data['Region'].str.startswith('South San Francisco')]['Region'].value_counts()"
   ]
  },
  {
   "cell_type": "code",
   "execution_count": 12,
   "metadata": {},
   "outputs": [],
   "source": [
    "sales_data = sales_data[~sales_data['Region'].str.startswith('South San Francisco')]"
   ]
  },
  {
   "cell_type": "code",
   "execution_count": 13,
   "metadata": {},
   "outputs": [
    {
     "data": {
      "text/plain": [
       "(3821, 20)"
      ]
     },
     "execution_count": 13,
     "metadata": {},
     "output_type": "execute_result"
    }
   ],
   "source": [
    "sales_data.shape"
   ]
  },
  {
   "cell_type": "code",
   "execution_count": 14,
   "metadata": {},
   "outputs": [
    {
     "name": "stdout",
     "output_type": "stream",
     "text": [
      "<class 'pandas.core.frame.DataFrame'>\n",
      "Int64Index: 3821 entries, 0 to 3820\n",
      "Data columns (total 20 columns):\n",
      " #   Column                     Non-Null Count  Dtype  \n",
      "---  ------                     --------------  -----  \n",
      " 0   Region                     3821 non-null   object \n",
      " 1   Month of Period End        3821 non-null   object \n",
      " 2   Median Sale Price          3821 non-null   object \n",
      " 3   Median Sale Price MoM      3751 non-null   object \n",
      " 4   Median Sale Price YoY      3701 non-null   object \n",
      " 5   Homes Sold                 3821 non-null   int64  \n",
      " 6   Homes Sold MoM             3751 non-null   object \n",
      " 7   Homes Sold YoY             3701 non-null   object \n",
      " 8   New Listings               3758 non-null   float64\n",
      " 9   New Listings MoM           3667 non-null   object \n",
      " 10  New Listings YoY           3618 non-null   object \n",
      " 11  Inventory                  3493 non-null   float64\n",
      " 12  Inventory MoM              3257 non-null   object \n",
      " 13   Inventory YoY             3201 non-null   object \n",
      " 14  Days on Market             3806 non-null   float64\n",
      " 15  Days on Market MoM         3729 non-null   float64\n",
      " 16  Days on Market YoY         3674 non-null   float64\n",
      " 17  Average Sale To List       3821 non-null   object \n",
      " 18  Average Sale To List MoM   3751 non-null   object \n",
      " 19  Average Sale To List YoY   3701 non-null   object \n",
      "dtypes: float64(5), int64(1), object(14)\n",
      "memory usage: 626.9+ KB\n"
     ]
    }
   ],
   "source": [
    "sales_data.info()"
   ]
  },
  {
   "cell_type": "markdown",
   "metadata": {},
   "source": [
    "### 3.5.3 Reviewing NULL values<a id='3.5.3_Reviewing_NULL_values'></a>"
   ]
  },
  {
   "cell_type": "code",
   "execution_count": null,
   "metadata": {},
   "outputs": [],
   "source": []
  },
  {
   "cell_type": "code",
   "execution_count": null,
   "metadata": {},
   "outputs": [],
   "source": []
  }
 ],
 "metadata": {
  "kernelspec": {
   "display_name": "Python 3",
   "language": "python",
   "name": "python3"
  },
  "language_info": {
   "codemirror_mode": {
    "name": "ipython",
    "version": 3
   },
   "file_extension": ".py",
   "mimetype": "text/x-python",
   "name": "python",
   "nbconvert_exporter": "python",
   "pygments_lexer": "ipython3",
   "version": "3.8.3"
  }
 },
 "nbformat": 4,
 "nbformat_minor": 4
}
